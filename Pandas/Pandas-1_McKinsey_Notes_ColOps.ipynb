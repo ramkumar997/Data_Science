{
  "cells": [
    {
      "cell_type": "markdown",
      "metadata": {
        "id": "view-in-github",
        "colab_type": "text"
      },
      "source": [
        "<a href=\"https://colab.research.google.com/github/ramkumar997/Data_Science/blob/main/Pandas/Pandas-1_McKinsey_Notes_ColOps.ipynb\" target=\"_parent\"><img src=\"https://colab.research.google.com/assets/colab-badge.svg\" alt=\"Open In Colab\"/></a>"
      ]
    },
    {
      "cell_type": "markdown",
      "metadata": {
        "id": "TfmdkrGWzkPR"
      },
      "source": [
        "## Outline\n"
      ]
    },
    {
      "cell_type": "markdown",
      "metadata": {
        "id": "eqcby-D-WRp2"
      },
      "source": [
        "- **Shallow vs Deep Copy**\n",
        "    - `view()`\n",
        "    - `copy()`\n",
        "    - `copy.deepcopy()`\n",
        "\n",
        "- Importing the data\n",
        "    - Importing pandas\n",
        "    - Importing the dataset\n",
        "\n",
        "- **Basic ops on columns**\n",
        "    - Different ways of accessing cols\n",
        "    - Check for Unique values\n",
        "    - Rename column\n",
        "    - Deleting col\n",
        "\n",
        "\n",
        "  \n"
      ]
    },
    {
      "cell_type": "markdown",
      "metadata": {
        "id": "e1323eec"
      },
      "source": [
        "## Views vs Copies (Shallow vs Deep Copy)\n",
        "\n",
        "- Numpy **manages memory very efficiently**\n",
        "\n",
        "\n",
        "- Which makes it really **useful while dealing with large datasets**\n",
        "\n",
        "\n",
        "#### But how does it manage memory so efficiently?\n",
        "\n",
        "- Let's create some arrays to understand what's happening in memory while using Numpy"
      ]
    },
    {
      "cell_type": "code",
      "execution_count": null,
      "metadata": {
        "id": "5045c0aa",
        "outputId": "35fdf86a-8c60-4e74-f591-4878823ae6ed"
      },
      "outputs": [
        {
          "data": {
            "text/plain": [
              "array([0, 1, 2, 3])"
            ]
          },
          "execution_count": 149,
          "metadata": {},
          "output_type": "execute_result"
        }
      ],
      "source": [
        "# We'll create np array\n",
        "\n",
        "a = np.arange(4)\n",
        "a"
      ]
    },
    {
      "cell_type": "code",
      "execution_count": null,
      "metadata": {
        "id": "095c3198",
        "outputId": "e900f519-8171-4984-ebe7-ae50c33f1c23"
      },
      "outputs": [
        {
          "data": {
            "text/plain": [
              "array([[0, 1],\n",
              "       [2, 3]])"
            ]
          },
          "execution_count": 150,
          "metadata": {},
          "output_type": "execute_result"
        }
      ],
      "source": [
        "# Reshape array `a` and store in b\n",
        "\n",
        "b = a.reshape(2, 2)\n",
        "b"
      ]
    },
    {
      "cell_type": "markdown",
      "metadata": {
        "id": "84eb2636"
      },
      "source": [
        "#### Now we will make some changes to our original array `a`"
      ]
    },
    {
      "cell_type": "code",
      "execution_count": null,
      "metadata": {
        "id": "c3fd741f",
        "outputId": "82c6dc83-51d8-421c-d15f-8470b668e786"
      },
      "outputs": [
        {
          "data": {
            "text/plain": [
              "array([100,   1,   2,   3])"
            ]
          },
          "execution_count": 254,
          "metadata": {},
          "output_type": "execute_result"
        }
      ],
      "source": [
        "a[0] = 100\n",
        "a"
      ]
    },
    {
      "cell_type": "markdown",
      "metadata": {
        "id": "c1d72b69"
      },
      "source": [
        "#### What will be values if we print array b ?"
      ]
    },
    {
      "cell_type": "code",
      "execution_count": null,
      "metadata": {
        "id": "6ef85c45",
        "outputId": "155cf7ae-fa2b-4433-b63c-ed87d2c0d7a2"
      },
      "outputs": [
        {
          "data": {
            "text/plain": [
              "array([[100,   1],\n",
              "       [  2,   3]])"
            ]
          },
          "execution_count": 255,
          "metadata": {},
          "output_type": "execute_result"
        }
      ],
      "source": [
        "b"
      ]
    },
    {
      "cell_type": "markdown",
      "metadata": {
        "id": "4a314204"
      },
      "source": [
        "#### Surprise Surprise!!\n",
        "\n",
        "- Array **`b` got automatically updated**\n",
        "\n",
        "### This is an example of Numpy using \"Shallow Copy\" of data\n",
        "\n",
        "#### Now, What happens here?\n",
        "\n",
        "- Numpy **re-uses data** as much as possible **instead of duplicating** it\n",
        "\n",
        "\n",
        "- This helps Numpy to be efficient\n",
        "\n",
        "\n",
        "#### When we created `b = a.reshape(2, 2)`\n",
        "\n",
        "- Numpy **did NOT make a copy of `a` to store in `b`**, as we can clearly see\n",
        "\n",
        "\n",
        "- It is **using the same data as in `a`**\n",
        "\n",
        "\n",
        "- It **just looks different (reshaped)** in `b`\n",
        "\n",
        "\n",
        "- That is why, **any changes in `a` automatically gets reflected in `b`**\n",
        "\n",
        "\n",
        "#### How data is stored using Numpy?\n",
        "\n",
        "- Variable **does NOT directly point to data** stored in memory\n",
        "\n",
        "\n",
        "- There is something called **Header** in-between\n",
        "\n",
        "\n",
        "### What does Header do?\n",
        "\n",
        "- **Variable points to header** and **header points to data** stored in memory\n",
        "\n",
        "\n",
        "- Header stores **information about data** - called **Metadata**\n",
        "\n",
        "\n",
        "#### `a` is pointing to Metadata about our data `[0, 1, 2, 3]`, which may include:\n",
        "\n",
        "- **How many values** we have --> 4\n",
        "\n",
        "\n",
        "- What is the **Data Type** of data --> `int`\n",
        "\n",
        "\n",
        "- What's the **Shape** --> `(4,)`\n",
        "\n",
        "- What's the **stride** i.e. step size --> 1\n",
        "\n",
        "\n",
        "#### When we do `b = a.reshape(2, 2)`\n",
        "\n",
        "- Numpy **does NOT duplicate the data** pointed to by `a`\n",
        "\n",
        "\n",
        "- It **uses the same data**\n",
        "\n",
        "\n",
        "- And **create a New header for `b`** that **points to the same data** as pointed to by `a`\n",
        "\n",
        "\n",
        "#### `b` points to a new Header having different values of Metadata of the same data:\n",
        "\n",
        "- **Number of values** --> 4\n",
        "\n",
        "- **Data Type** --> `int`\n",
        "\n",
        "- **Shape** --> `(2, 2)`\n",
        "\n",
        "- **Stride** i.e. step size --> 1\n",
        "\n",
        "\n",
        "#### That is why:\n",
        "\n",
        "- When data is accessed using `a`, it gives data in shape `(4,)`\n",
        "\n",
        "- And when data is accessed using `b`, it gives same data in shape `(2, 2)`\n",
        "\n",
        "\n",
        "\n",
        "#### This helps Numpy to save time and space - Making it efficient\n",
        "\n",
        "### Now, Let's see an example where Numpy will create a \"Deep Copy\" of data\n",
        "\n",
        "#### Now, What if we do this?"
      ]
    },
    {
      "cell_type": "code",
      "execution_count": null,
      "metadata": {
        "id": "b3a3f1a2",
        "outputId": "171b4953-b285-4330-cf95-e0e1709222dd"
      },
      "outputs": [
        {
          "data": {
            "text/plain": [
              "array([0, 1, 2, 3])"
            ]
          },
          "execution_count": 152,
          "metadata": {},
          "output_type": "execute_result"
        }
      ],
      "source": [
        "a = np.arange(4)\n",
        "a"
      ]
    },
    {
      "cell_type": "code",
      "execution_count": null,
      "metadata": {
        "id": "1ac74f61",
        "outputId": "a4a8a531-cd20-4939-da38-cb9b6086d5cb"
      },
      "outputs": [
        {
          "data": {
            "text/plain": [
              "array([2, 3, 4, 5])"
            ]
          },
          "execution_count": 153,
          "metadata": {},
          "output_type": "execute_result"
        }
      ],
      "source": [
        "# Create `c`\n",
        "\n",
        "c = a + 2\n",
        "c"
      ]
    },
    {
      "cell_type": "code",
      "execution_count": null,
      "metadata": {
        "id": "0223b639",
        "outputId": "e29d1c02-a0ef-4bc7-b208-b01090ddae50"
      },
      "outputs": [
        {
          "data": {
            "text/plain": [
              "array([100,   1,   2,   3])"
            ]
          },
          "execution_count": 154,
          "metadata": {},
          "output_type": "execute_result"
        }
      ],
      "source": [
        "# We make changes in a\n",
        "\n",
        "a[0] = 100\n",
        "a"
      ]
    },
    {
      "cell_type": "code",
      "execution_count": null,
      "metadata": {
        "id": "03a1c030",
        "outputId": "8fb60a1e-0adb-4238-c605-4cbe26086feb"
      },
      "outputs": [
        {
          "data": {
            "text/plain": [
              "array([2, 3, 4, 5])"
            ]
          },
          "execution_count": 155,
          "metadata": {},
          "output_type": "execute_result"
        }
      ],
      "source": [
        "c"
      ]
    },
    {
      "cell_type": "markdown",
      "metadata": {
        "id": "2a4e45a2"
      },
      "source": [
        "#### As we can see, `c` did not get affected on changing `a`\n",
        "\n",
        "- Because it is an operation\n",
        "\n",
        "\n",
        "- A more **permanent change in data**\n",
        "\n",
        "\n",
        "- So, Numpy **had to create a separate copy for `c`** - i.e., **deep copy of array `a` for array `c`**\n",
        "\n",
        "\n",
        "### Conclusion:\n",
        "\n",
        "- Numpy is able to **use same data** for **simpler operations** like **reshape** ---> **Shallow Copy**\n",
        "\n",
        "\n",
        "- It creates a **copy of data** where operations make **more permanent changes** to data ---> **Deep Copy**\n",
        "\n",
        "\n",
        "#### Be careful about this while writing code using Numpy\n",
        "\n",
        "#### Is there a way to check whether two arrays are sharing memory or not? Yes, there is\n",
        "\n",
        "`np.shares_memory()` function to the rescue!!\n"
      ]
    },
    {
      "cell_type": "code",
      "execution_count": null,
      "metadata": {
        "colab": {
          "base_uri": "https://localhost:8080/"
        },
        "id": "7Uluvm1flVqe",
        "outputId": "a80ae4d3-9e49-4056-ada8-ada3ba367f51"
      },
      "outputs": [
        {
          "data": {
            "text/plain": [
              "array([0, 1, 2, 3, 4, 5, 6, 7, 8, 9])"
            ]
          },
          "execution_count": 2,
          "metadata": {},
          "output_type": "execute_result"
        }
      ],
      "source": [
        "a= np.arange(10)\n",
        "a"
      ]
    },
    {
      "cell_type": "code",
      "execution_count": null,
      "metadata": {
        "colab": {
          "base_uri": "https://localhost:8080/"
        },
        "id": "0vH8vprmlmpM",
        "outputId": "12315c9d-50cc-4a8e-81c3-9857f9fc7513"
      },
      "outputs": [
        {
          "data": {
            "text/plain": [
              "array([0, 2, 4, 6, 8])"
            ]
          },
          "execution_count": 3,
          "metadata": {},
          "output_type": "execute_result"
        }
      ],
      "source": [
        "b = a[::2]\n",
        "b"
      ]
    },
    {
      "cell_type": "code",
      "execution_count": null,
      "metadata": {
        "colab": {
          "base_uri": "https://localhost:8080/"
        },
        "id": "XPpIpdWglsU4",
        "outputId": "6e658400-3f26-47fe-cd02-45a382a9cc10"
      },
      "outputs": [
        {
          "data": {
            "text/plain": [
              "True"
            ]
          },
          "execution_count": 4,
          "metadata": {},
          "output_type": "execute_result"
        }
      ],
      "source": [
        "np.shares_memory(a,b)"
      ]
    },
    {
      "cell_type": "markdown",
      "source": [
        "Notice that Slicing creates shallow copies.\n",
        "\n",
        "#### Why does slicing create shallow copies ?\n",
        "\n",
        "Rememeber the stride param of the header.\n",
        "- Stride is nothing but the step size.\n",
        "\n",
        "For Array `a`, we have a stride of 1.\n",
        "\n",
        "For creating array b,\n",
        "- we are slicing array a by 2 i.e. stride 2.\n",
        "- So, it creates a new header for array b with stride = 2 while pointing to the original data"
      ],
      "metadata": {
        "id": "cs0FB2r4Hvrh"
      }
    },
    {
      "cell_type": "code",
      "execution_count": null,
      "metadata": {
        "colab": {
          "base_uri": "https://localhost:8080/"
        },
        "id": "aroIZMezlu_y",
        "outputId": "a46bc5eb-3e94-43ee-a7d8-b2dc8502d10f"
      },
      "outputs": [
        {
          "data": {
            "text/plain": [
              "array([2, 2, 4, 6, 8])"
            ]
          },
          "execution_count": 5,
          "metadata": {},
          "output_type": "execute_result"
        }
      ],
      "source": [
        "b[0] = 2\n",
        "b"
      ]
    },
    {
      "cell_type": "code",
      "execution_count": null,
      "metadata": {
        "colab": {
          "base_uri": "https://localhost:8080/"
        },
        "id": "YPzaPp5zlyu-",
        "outputId": "d2ce1629-e787-4909-b2b5-f2ff4af34584"
      },
      "outputs": [
        {
          "data": {
            "text/plain": [
              "array([2, 1, 2, 3, 4, 5, 6, 7, 8, 9])"
            ]
          },
          "execution_count": 6,
          "metadata": {},
          "output_type": "execute_result"
        }
      ],
      "source": [
        "a"
      ]
    },
    {
      "cell_type": "markdown",
      "metadata": {
        "id": "-NiCIuO7l0nW"
      },
      "source": [
        "#### Notice how change in b also changed the value in array a\n",
        "\n",
        "Let's check with deep copy"
      ]
    },
    {
      "cell_type": "code",
      "execution_count": null,
      "metadata": {
        "colab": {
          "base_uri": "https://localhost:8080/"
        },
        "id": "g3-i9JkNl5Jp",
        "outputId": "5bbc2b98-d9b0-431b-83ff-737952492ac5"
      },
      "outputs": [
        {
          "data": {
            "text/plain": [
              "array([2, 1, 2, 3, 4, 5, 6, 7, 8, 9])"
            ]
          },
          "execution_count": 7,
          "metadata": {},
          "output_type": "execute_result"
        }
      ],
      "source": [
        "a"
      ]
    },
    {
      "cell_type": "code",
      "execution_count": null,
      "metadata": {
        "id": "p9k7wygImBAU"
      },
      "outputs": [],
      "source": [
        "b = a +2"
      ]
    },
    {
      "cell_type": "code",
      "execution_count": null,
      "metadata": {
        "colab": {
          "base_uri": "https://localhost:8080/"
        },
        "id": "x1w5tGyxmCVP",
        "outputId": "93c8cb8e-0bfd-41d9-8a8b-a483b468fefe"
      },
      "outputs": [
        {
          "data": {
            "text/plain": [
              "False"
            ]
          },
          "execution_count": 9,
          "metadata": {},
          "output_type": "execute_result"
        }
      ],
      "source": [
        "np.shares_memory(a,b)"
      ]
    },
    {
      "cell_type": "markdown",
      "metadata": {
        "id": "2a0a4021"
      },
      "source": [
        "***"
      ]
    },
    {
      "cell_type": "markdown",
      "source": [
        "We learnt how **`.reshape`** and **Slicing returns a view** of the original array\n",
        "- i.e. Any changes made in original array will be reflected in the new array.\n",
        "\n",
        "However, we saw that creating new array using\n",
        "- **masking** or **array operation returns deep copy** of the array.\n",
        "- Any changes made in new array are not reflected in the original array."
      ],
      "metadata": {
        "id": "HEK26CEzq6-z"
      }
    },
    {
      "cell_type": "markdown",
      "source": [
        "Numpy also provides us with few functions to make shallow/ deep copy"
      ],
      "metadata": {
        "id": "ny2dMz7ftLin"
      }
    },
    {
      "cell_type": "markdown",
      "source": [
        "#### How to make shallow copy?\n",
        "\n",
        "Numpy provides us with `.view()` function which returns view of an array"
      ],
      "metadata": {
        "id": "QSDuQFnDOTPn"
      }
    },
    {
      "cell_type": "markdown",
      "source": [
        "#### `.view()`\n",
        "\n",
        "Returns view of the original array\n",
        "\n",
        "- Any changes made in new array will be reflected in original array.\n",
        "\n",
        "Function documentation: https://numpy.org/doc/stable/reference/generated/numpy.ndarray.view.html\n",
        "\n"
      ],
      "metadata": {
        "id": "GO9OGCHYuI13"
      }
    },
    {
      "cell_type": "code",
      "source": [
        "arr = np.arange(10)\n",
        "arr"
      ],
      "metadata": {
        "colab": {
          "base_uri": "https://localhost:8080/"
        },
        "id": "_tKVLS73ufpY",
        "outputId": "7df6dd6d-285d-4da9-c7d3-f4085ab16890"
      },
      "execution_count": null,
      "outputs": [
        {
          "output_type": "execute_result",
          "data": {
            "text/plain": [
              "array([0, 1, 2, 3, 4, 5, 6, 7, 8, 9])"
            ]
          },
          "metadata": {},
          "execution_count": 5
        }
      ]
    },
    {
      "cell_type": "code",
      "source": [
        "view_arr = arr.view()\n",
        "view_arr"
      ],
      "metadata": {
        "colab": {
          "base_uri": "https://localhost:8080/"
        },
        "id": "HLJmhNcTvHvx",
        "outputId": "2704b46e-6cfc-4c46-b3b9-2b979e2b3d71"
      },
      "execution_count": null,
      "outputs": [
        {
          "output_type": "execute_result",
          "data": {
            "text/plain": [
              "array([0, 1, 2, 3, 4, 5, 6, 7, 8, 9])"
            ]
          },
          "metadata": {},
          "execution_count": 6
        }
      ]
    },
    {
      "cell_type": "code",
      "source": [
        "view_arr[4] = 420\n",
        "view_arr"
      ],
      "metadata": {
        "colab": {
          "base_uri": "https://localhost:8080/"
        },
        "id": "U7oQFHUdvJls",
        "outputId": "9af180bf-a73a-411c-a5fe-8e3fd558e454"
      },
      "execution_count": null,
      "outputs": [
        {
          "output_type": "execute_result",
          "data": {
            "text/plain": [
              "array([  0,   1,   2,   3, 420,   5,   6,   7,   8,   9])"
            ]
          },
          "metadata": {},
          "execution_count": 7
        }
      ]
    },
    {
      "cell_type": "code",
      "source": [
        "arr"
      ],
      "metadata": {
        "colab": {
          "base_uri": "https://localhost:8080/"
        },
        "id": "O0uAMx9mvZcz",
        "outputId": "a75775cb-07e2-4fee-af1c-2b8857678ecb"
      },
      "execution_count": null,
      "outputs": [
        {
          "output_type": "execute_result",
          "data": {
            "text/plain": [
              "array([  0,   1,   2,   3, 420,   5,   6,   7,   8,   9])"
            ]
          },
          "metadata": {},
          "execution_count": 8
        }
      ]
    },
    {
      "cell_type": "markdown",
      "source": [
        "Notice that changes in view array are reflected in original array."
      ],
      "metadata": {
        "id": "Bl-F45NTvZ8C"
      }
    },
    {
      "cell_type": "markdown",
      "source": [
        "#### How do we make deep copy ?\n",
        "\n",
        "Numpy has `.copy()` function for that purpose"
      ],
      "metadata": {
        "id": "z_36bGwSOO1h"
      }
    },
    {
      "cell_type": "markdown",
      "source": [
        "#### `.copy()`\n",
        "\n",
        "Returns copy of the array.\n",
        "\n",
        "Documentation (`.copy()`): https://numpy.org/doc/stable/reference/generated/numpy.ndarray.copy.html#numpy.ndarray.copy\n",
        "\n",
        "Documentation: (`np.copy()`): https://numpy.org/doc/stable/reference/generated/numpy.copy.html"
      ],
      "metadata": {
        "id": "qAF44IQcveyM"
      }
    },
    {
      "cell_type": "code",
      "source": [
        "arr = np.arange(10)\n",
        "arr"
      ],
      "metadata": {
        "colab": {
          "base_uri": "https://localhost:8080/"
        },
        "id": "JGrz08uAvuOW",
        "outputId": "d313e6f4-307e-4fe3-9673-c7b6c588f1c9"
      },
      "execution_count": null,
      "outputs": [
        {
          "output_type": "execute_result",
          "data": {
            "text/plain": [
              "array([0, 1, 2, 3, 4, 5, 6, 7, 8, 9])"
            ]
          },
          "metadata": {},
          "execution_count": 12
        }
      ]
    },
    {
      "cell_type": "code",
      "source": [
        "copy_arr = arr.copy()\n",
        "copy_arr"
      ],
      "metadata": {
        "colab": {
          "base_uri": "https://localhost:8080/"
        },
        "id": "UGNFj_VxwpKw",
        "outputId": "a1da4b6c-4c7b-4d62-d261-44d27eff5682"
      },
      "execution_count": null,
      "outputs": [
        {
          "output_type": "execute_result",
          "data": {
            "text/plain": [
              "array([0, 1, 2, 3, 4, 5, 6, 7, 8, 9])"
            ]
          },
          "metadata": {},
          "execution_count": 13
        }
      ]
    },
    {
      "cell_type": "markdown",
      "source": [
        "Let's modify the content of copy_arr and check whether it modified the original array as well"
      ],
      "metadata": {
        "id": "Lhk0tKOJws_5"
      }
    },
    {
      "cell_type": "code",
      "source": [
        "copy_arr[3] = 45\n",
        "copy_arr"
      ],
      "metadata": {
        "colab": {
          "base_uri": "https://localhost:8080/"
        },
        "id": "VJaFZn8Xw2CK",
        "outputId": "6143904e-c339-4655-d6d7-1deec35781f5"
      },
      "execution_count": null,
      "outputs": [
        {
          "output_type": "execute_result",
          "data": {
            "text/plain": [
              "array([ 0,  1,  2, 45,  4,  5,  6,  7,  8,  9])"
            ]
          },
          "metadata": {},
          "execution_count": 14
        }
      ]
    },
    {
      "cell_type": "code",
      "source": [
        "arr"
      ],
      "metadata": {
        "colab": {
          "base_uri": "https://localhost:8080/"
        },
        "id": "ICJp7rXEw5Qi",
        "outputId": "e35c3967-7558-4c35-8ecf-c91615c0770d"
      },
      "execution_count": null,
      "outputs": [
        {
          "output_type": "execute_result",
          "data": {
            "text/plain": [
              "array([0, 1, 2, 3, 4, 5, 6, 7, 8, 9])"
            ]
          },
          "metadata": {},
          "execution_count": 15
        }
      ]
    },
    {
      "cell_type": "markdown",
      "source": [
        "**Notice that**\n",
        "- The content of original array were not modified as we changed our copy array.\n",
        "\n",
        "\n",
        "\n"
      ],
      "metadata": {
        "id": "AgUBF1PQw5xX"
      }
    },
    {
      "cell_type": "markdown",
      "source": [
        "there is an exception to `.copy()`:\n",
        "- **`.copy()` behaves as shallow copy when using `dtype = 'object'` array**\n",
        "- It will not copy object elements within arrays"
      ],
      "metadata": {
        "id": "p7UW8jjZ08IT"
      }
    },
    {
      "cell_type": "markdown",
      "source": [
        "#### What are object arrays ?"
      ],
      "metadata": {
        "id": "KdDhzXWezk_H"
      }
    },
    {
      "cell_type": "markdown",
      "source": [
        "Object arrays are basically array of any python datatype.\n",
        "\n",
        "\n",
        "\n",
        "Documentation: https://numpy.org/devdocs/reference/arrays.scalars.html#numpy.object_"
      ],
      "metadata": {
        "id": "gGNhB-nbym-l"
      }
    },
    {
      "cell_type": "code",
      "source": [
        "arr = np.array([1, 'm', [1,2,3]], dtype = 'object')\n",
        "arr"
      ],
      "metadata": {
        "colab": {
          "base_uri": "https://localhost:8080/"
        },
        "id": "Y5SJAB4ky3ag",
        "outputId": "5823275f-ca98-4187-d800-abec2f2f6965"
      },
      "execution_count": null,
      "outputs": [
        {
          "output_type": "execute_result",
          "data": {
            "text/plain": [
              "array([1, 'm', list([1, 2, 3])], dtype=object)"
            ]
          },
          "metadata": {},
          "execution_count": 18
        }
      ]
    },
    {
      "cell_type": "markdown",
      "source": [
        "#### But arrays are suppoed to be homogeous data. How is it storing data of various types?\n",
        "\n",
        "Remember that everything is object in python.\n",
        "\n",
        "\n",
        "\n",
        "Just like python list,\n",
        "- The data actually **stored** in object arrays are **references to Python objects**, not the objects themselves.\n",
        "\n",
        "Hence, their elements need not be of the same Python type.\n",
        "\n",
        "**As every element in array is an object. Hence, the dtype = object.**"
      ],
      "metadata": {
        "id": "-e0EmmuXInid"
      }
    },
    {
      "cell_type": "markdown",
      "source": [
        "![image.png](data:image/png;base64,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)"
      ],
      "metadata": {
        "id": "CjYwzeh0S-DB"
      }
    },
    {
      "cell_type": "markdown",
      "source": [
        "Let's make a copy of object array and check whether it returns a shallow copy or deep copy."
      ],
      "metadata": {
        "id": "Ozsmij8r0SBJ"
      }
    },
    {
      "cell_type": "code",
      "source": [
        "copy_arr = arr.copy()"
      ],
      "metadata": {
        "id": "gtf40dE60dYO"
      },
      "execution_count": null,
      "outputs": []
    },
    {
      "cell_type": "code",
      "source": [
        "copy_arr"
      ],
      "metadata": {
        "colab": {
          "base_uri": "https://localhost:8080/"
        },
        "id": "3ioBZ4yo0gAr",
        "outputId": "ef3d3a23-941b-4232-c484-97a1b4ac6ecc"
      },
      "execution_count": null,
      "outputs": [
        {
          "output_type": "execute_result",
          "data": {
            "text/plain": [
              "array([1, 'm', list([1, 2, 3])], dtype=object)"
            ]
          },
          "metadata": {},
          "execution_count": 20
        }
      ]
    },
    {
      "cell_type": "markdown",
      "source": [
        "Now, let's try to modify the list elements in copy_arr"
      ],
      "metadata": {
        "id": "3u73kDGk0g3x"
      }
    },
    {
      "cell_type": "code",
      "source": [
        "copy_arr[2][0] = 999"
      ],
      "metadata": {
        "id": "a-V5eNYx0mry"
      },
      "execution_count": null,
      "outputs": []
    },
    {
      "cell_type": "code",
      "source": [
        "copy_arr"
      ],
      "metadata": {
        "colab": {
          "base_uri": "https://localhost:8080/"
        },
        "id": "RXNGy6-z0p3_",
        "outputId": "d09018fe-a50a-4496-ee73-a78aa2c1898b"
      },
      "execution_count": null,
      "outputs": [
        {
          "output_type": "execute_result",
          "data": {
            "text/plain": [
              "array([1, 'm', list([999, 2, 3])], dtype=object)"
            ]
          },
          "metadata": {},
          "execution_count": 22
        }
      ]
    },
    {
      "cell_type": "markdown",
      "source": [
        "Let's see if it changed the original array as well"
      ],
      "metadata": {
        "id": "ZC6KOkVp0qlB"
      }
    },
    {
      "cell_type": "code",
      "source": [
        "arr"
      ],
      "metadata": {
        "colab": {
          "base_uri": "https://localhost:8080/"
        },
        "id": "XDNyci8v0tke",
        "outputId": "0181e441-2fec-4ba9-d771-e228c2481d33"
      },
      "execution_count": null,
      "outputs": [
        {
          "output_type": "execute_result",
          "data": {
            "text/plain": [
              "array([1, 'm', list([999, 2, 3])], dtype=object)"
            ]
          },
          "metadata": {},
          "execution_count": 23
        }
      ]
    },
    {
      "cell_type": "markdown",
      "source": [
        "It did change the original array.\n",
        "\n",
        "Hence, **`.copy()` will return shallow copy when copying elements of array in object array.**\n",
        "\n",
        "Any change in the 2nd level elements of array will be reflected in original array as well."
      ],
      "metadata": {
        "id": "KvdPGWg40t0C"
      }
    },
    {
      "cell_type": "markdown",
      "source": [
        "#### So, how do we create deep copy then ?\n",
        "\n",
        "We can do so using `copy.deepcopy()` method"
      ],
      "metadata": {
        "id": "RV29M3Vg01xc"
      }
    },
    {
      "cell_type": "markdown",
      "source": [
        "#### `copy.deepcopy()`\n",
        "\n",
        "Returns the deep copy of array\n",
        "\n",
        "Documentation: https://docs.python.org/3/library/copy.html#copy.deepcopy"
      ],
      "metadata": {
        "id": "-KbZUXAk1OYv"
      }
    },
    {
      "cell_type": "code",
      "source": [
        "import copy"
      ],
      "metadata": {
        "id": "xn_zHli_1Yeh"
      },
      "execution_count": null,
      "outputs": []
    },
    {
      "cell_type": "code",
      "source": [
        "arr = np.array([1, 'm', [1,2,3]], dtype = 'object')\n",
        "arr"
      ],
      "metadata": {
        "colab": {
          "base_uri": "https://localhost:8080/"
        },
        "id": "YY81xD9j1uHr",
        "outputId": "a9ea5bec-4746-48d6-e29e-123b16a8fbcf"
      },
      "execution_count": null,
      "outputs": [
        {
          "output_type": "execute_result",
          "data": {
            "text/plain": [
              "array([1, 'm', list([1, 2, 3])], dtype=object)"
            ]
          },
          "metadata": {},
          "execution_count": 25
        }
      ]
    },
    {
      "cell_type": "markdown",
      "source": [
        "Let's make a copy using `deepcopy()`"
      ],
      "metadata": {
        "id": "z1y99XQl1xNB"
      }
    },
    {
      "cell_type": "code",
      "source": [
        "copy = copy.deepcopy(arr)"
      ],
      "metadata": {
        "id": "1-NK9bjv11Jv"
      },
      "execution_count": null,
      "outputs": []
    },
    {
      "cell_type": "code",
      "source": [
        "copy"
      ],
      "metadata": {
        "colab": {
          "base_uri": "https://localhost:8080/"
        },
        "id": "d8MDhtvl136P",
        "outputId": "82b80192-db3b-4120-e960-bf94ad9e0978"
      },
      "execution_count": null,
      "outputs": [
        {
          "output_type": "execute_result",
          "data": {
            "text/plain": [
              "array([1, 'm', list([1, 2, 3])], dtype=object)"
            ]
          },
          "metadata": {},
          "execution_count": 27
        }
      ]
    },
    {
      "cell_type": "markdown",
      "source": [
        "Let's modify the array inside copy array"
      ],
      "metadata": {
        "id": "Ef9VCfwh15oK"
      }
    },
    {
      "cell_type": "code",
      "source": [
        "copy[2][0] = 999"
      ],
      "metadata": {
        "id": "Ms3JnGOn146E"
      },
      "execution_count": null,
      "outputs": []
    },
    {
      "cell_type": "code",
      "source": [
        "copy"
      ],
      "metadata": {
        "colab": {
          "base_uri": "https://localhost:8080/"
        },
        "id": "chMcRSoN1-UQ",
        "outputId": "3edc1b13-1778-4c68-d6ae-76249f513e31"
      },
      "execution_count": null,
      "outputs": [
        {
          "output_type": "execute_result",
          "data": {
            "text/plain": [
              "array([1, 'm', list([999, 2, 3])], dtype=object)"
            ]
          },
          "metadata": {},
          "execution_count": 29
        }
      ]
    },
    {
      "cell_type": "code",
      "source": [],
      "metadata": {
        "id": "9-vHITCwcdAl"
      },
      "execution_count": null,
      "outputs": []
    },
    {
      "cell_type": "code",
      "source": [
        "arr"
      ],
      "metadata": {
        "colab": {
          "base_uri": "https://localhost:8080/"
        },
        "id": "CFZ4Cc2R1-2J",
        "outputId": "de5bb526-7072-4e43-8f11-1825c344dcaf"
      },
      "execution_count": null,
      "outputs": [
        {
          "output_type": "execute_result",
          "data": {
            "text/plain": [
              "array([1, 'm', list([1, 2, 3])], dtype=object)"
            ]
          },
          "metadata": {},
          "execution_count": 30
        }
      ]
    },
    {
      "cell_type": "markdown",
      "source": [
        "Notice that,\n",
        "\n",
        "- the changes in copy array didn't reflect back to original array.\n",
        "\n",
        "`copy.deepcopy()` **returns deep copy of an array.**"
      ],
      "metadata": {
        "id": "MoFf21vC1_Hs"
      }
    },
    {
      "cell_type": "markdown",
      "source": [
        "#### Summarizing\n",
        "- `.view()` returns shallow copy of array\n",
        "- `.copy()` returns deep copy of an array except for object type array\n",
        "- `copy.deepcopy()` returns deep copy of an array.\n"
      ],
      "metadata": {
        "id": "EhZz8QydTRpx"
      }
    },
    {
      "cell_type": "markdown",
      "source": [
        "## Installing Pandas"
      ],
      "metadata": {
        "id": "zo8VJ_n_1yIt"
      }
    },
    {
      "cell_type": "code",
      "execution_count": null,
      "metadata": {
        "id": "5f5da047"
      },
      "outputs": [],
      "source": [
        "# !pip install pandas"
      ]
    },
    {
      "cell_type": "markdown",
      "metadata": {
        "id": "446f716f"
      },
      "source": [
        "## Importing Pandas\n",
        "\n",
        "- You should be able to import Pandas after installing it\n",
        "\n",
        "\n",
        "- We'll import `pandas` as its **alias name `pd`**"
      ]
    },
    {
      "cell_type": "code",
      "execution_count": null,
      "metadata": {
        "id": "CeV-TFoh1qN5"
      },
      "outputs": [],
      "source": [
        "import pandas as pd\n",
        "import numpy as np"
      ]
    },
    {
      "cell_type": "markdown",
      "source": [
        "## Introduction: Why to use Pandas?\n"
      ],
      "metadata": {
        "id": "DdtuTOMSeFXL"
      }
    },
    {
      "cell_type": "markdown",
      "source": [
        "#### How is it different from numpy ?\n",
        "\n",
        "  - The major **limitation of numpy** is that it can only work with 1 datatype at a time\n",
        "\n",
        "  - Most real-world datasets contain a mixture of different datatypes\n",
        "    - Like **names of places would be string** but their **population would be int**\n",
        "  \n",
        "==> It is **difficult to work** with data having **heterogeneous values using Numpy**\n",
        "\n",
        "#### Pandas can work with numbers and strings together\n",
        "\n",
        "<!-- - If our **data has only numbers**, we are better off using **Numpy**\n",
        "  - It's **lighter** and **easier**\n",
        "\n",
        "- But if our data has both **number and non-number vals**, it makes sense to use **Pandas** -->\n",
        "\n",
        "So lets see how we can use pandas\n",
        "\n"
      ],
      "metadata": {
        "id": "cS3NMXu6-1-K"
      }
    },
    {
      "cell_type": "markdown",
      "metadata": {
        "id": "7GD8wpDrCXbt"
      },
      "source": [
        "## Imagine that you are a Data Scientist with McKinsey\n"
      ]
    },
    {
      "cell_type": "markdown",
      "metadata": {
        "id": "eBP5xpFNY9dD"
      },
      "source": [
        "\n",
        "  - McKinsey wants to understand the relation between **GDP per capita** and **life expectancy** and various trends for their clients.\n",
        "  - The company has acquired **data from multiple surveys** in different countries in the past\n",
        "  - This contains info of several years about:\n",
        "   - country\n",
        "   - population size\n",
        "   - life expectancy\n",
        "   - GDP per Capita\n",
        "  - We have to analyse the data and draw **inferences** meaningful to the company"
      ]
    },
    {
      "cell_type": "markdown",
      "metadata": {
        "id": "aXrlcBm-bOjH"
      },
      "source": [
        "## Reading dataset in Pandas\n",
        "\n",
        "Link:https://drive.google.com/file/d/1E3bwvYGf1ig32RmcYiWc0IXPN-mD_bI_/view?usp=sharing"
      ]
    },
    {
      "cell_type": "code",
      "execution_count": null,
      "metadata": {
        "colab": {
          "base_uri": "https://localhost:8080/"
        },
        "id": "3i2-oKC4bUK-",
        "outputId": "c3fa9842-37b1-4f75-ca00-61af22978bc7"
      },
      "outputs": [
        {
          "output_type": "stream",
          "name": "stdout",
          "text": [
            "--2023-01-22 03:54:45--  https://drive.google.com/uc?export=download&id=1E3bwvYGf1ig32RmcYiWc0IXPN-mD_bI_\n",
            "Resolving drive.google.com (drive.google.com)... 108.177.11.102, 108.177.11.139, 108.177.11.113, ...\n",
            "Connecting to drive.google.com (drive.google.com)|108.177.11.102|:443... connected.\n",
            "HTTP request sent, awaiting response... 303 See Other\n",
            "Location: https://doc-0s-68-docs.googleusercontent.com/docs/securesc/ha0ro937gcuc7l7deffksulhg5h7mbp1/g38s23fecv0mcd758kb1056i2v0htii5/1674359625000/14302370361230157278/*/1E3bwvYGf1ig32RmcYiWc0IXPN-mD_bI_?e=download&uuid=5aa08525-96ce-4b50-9402-b7ab4635590d [following]\n",
            "Warning: wildcards not supported in HTTP.\n",
            "--2023-01-22 03:54:46--  https://doc-0s-68-docs.googleusercontent.com/docs/securesc/ha0ro937gcuc7l7deffksulhg5h7mbp1/g38s23fecv0mcd758kb1056i2v0htii5/1674359625000/14302370361230157278/*/1E3bwvYGf1ig32RmcYiWc0IXPN-mD_bI_?e=download&uuid=5aa08525-96ce-4b50-9402-b7ab4635590d\n",
            "Resolving doc-0s-68-docs.googleusercontent.com (doc-0s-68-docs.googleusercontent.com)... 173.194.218.132, 2607:f8b0:400c:c14::84\n",
            "Connecting to doc-0s-68-docs.googleusercontent.com (doc-0s-68-docs.googleusercontent.com)|173.194.218.132|:443... connected.\n",
            "HTTP request sent, awaiting response... 200 OK\n",
            "Length: 83785 (82K) [text/csv]\n",
            "Saving to: ‘mckinsey.csv’\n",
            "\n",
            "mckinsey.csv        100%[===================>]  81.82K  --.-KB/s    in 0.001s  \n",
            "\n",
            "2023-01-22 03:54:46 (78.7 MB/s) - ‘mckinsey.csv’ saved [83785/83785]\n",
            "\n"
          ]
        }
      ],
      "source": [
        "!wget \"https://drive.google.com/uc?export=download&id=1E3bwvYGf1ig32RmcYiWc0IXPN-mD_bI_\" -O mckinsey.csv"
      ]
    },
    {
      "cell_type": "code",
      "execution_count": null,
      "metadata": {
        "colab": {
          "base_uri": "https://localhost:8080/",
          "height": 424
        },
        "id": "6fcbe548",
        "outputId": "6b3175c5-9b53-4755-a561-4863302d340f",
        "scrolled": true
      },
      "outputs": [
        {
          "output_type": "execute_result",
          "data": {
            "text/plain": [
              "          country  year  population continent  life_exp     gdp_cap\n",
              "0     Afghanistan  1952     8425333      Asia    28.801  779.445314\n",
              "1     Afghanistan  1957     9240934      Asia    30.332  820.853030\n",
              "2     Afghanistan  1962    10267083      Asia    31.997  853.100710\n",
              "3     Afghanistan  1967    11537966      Asia    34.020  836.197138\n",
              "4     Afghanistan  1972    13079460      Asia    36.088  739.981106\n",
              "...           ...   ...         ...       ...       ...         ...\n",
              "1699     Zimbabwe  1987     9216418    Africa    62.351  706.157306\n",
              "1700     Zimbabwe  1992    10704340    Africa    60.377  693.420786\n",
              "1701     Zimbabwe  1997    11404948    Africa    46.809  792.449960\n",
              "1702     Zimbabwe  2002    11926563    Africa    39.989  672.038623\n",
              "1703     Zimbabwe  2007    12311143    Africa    43.487  469.709298\n",
              "\n",
              "[1704 rows x 6 columns]"
            ],
            "text/html": [
              "\n",
              "  <div id=\"df-1dd44c75-52f6-40c5-8935-21bc85c0bb27\">\n",
              "    <div class=\"colab-df-container\">\n",
              "      <div>\n",
              "<style scoped>\n",
              "    .dataframe tbody tr th:only-of-type {\n",
              "        vertical-align: middle;\n",
              "    }\n",
              "\n",
              "    .dataframe tbody tr th {\n",
              "        vertical-align: top;\n",
              "    }\n",
              "\n",
              "    .dataframe thead th {\n",
              "        text-align: right;\n",
              "    }\n",
              "</style>\n",
              "<table border=\"1\" class=\"dataframe\">\n",
              "  <thead>\n",
              "    <tr style=\"text-align: right;\">\n",
              "      <th></th>\n",
              "      <th>country</th>\n",
              "      <th>year</th>\n",
              "      <th>population</th>\n",
              "      <th>continent</th>\n",
              "      <th>life_exp</th>\n",
              "      <th>gdp_cap</th>\n",
              "    </tr>\n",
              "  </thead>\n",
              "  <tbody>\n",
              "    <tr>\n",
              "      <th>0</th>\n",
              "      <td>Afghanistan</td>\n",
              "      <td>1952</td>\n",
              "      <td>8425333</td>\n",
              "      <td>Asia</td>\n",
              "      <td>28.801</td>\n",
              "      <td>779.445314</td>\n",
              "    </tr>\n",
              "    <tr>\n",
              "      <th>1</th>\n",
              "      <td>Afghanistan</td>\n",
              "      <td>1957</td>\n",
              "      <td>9240934</td>\n",
              "      <td>Asia</td>\n",
              "      <td>30.332</td>\n",
              "      <td>820.853030</td>\n",
              "    </tr>\n",
              "    <tr>\n",
              "      <th>2</th>\n",
              "      <td>Afghanistan</td>\n",
              "      <td>1962</td>\n",
              "      <td>10267083</td>\n",
              "      <td>Asia</td>\n",
              "      <td>31.997</td>\n",
              "      <td>853.100710</td>\n",
              "    </tr>\n",
              "    <tr>\n",
              "      <th>3</th>\n",
              "      <td>Afghanistan</td>\n",
              "      <td>1967</td>\n",
              "      <td>11537966</td>\n",
              "      <td>Asia</td>\n",
              "      <td>34.020</td>\n",
              "      <td>836.197138</td>\n",
              "    </tr>\n",
              "    <tr>\n",
              "      <th>4</th>\n",
              "      <td>Afghanistan</td>\n",
              "      <td>1972</td>\n",
              "      <td>13079460</td>\n",
              "      <td>Asia</td>\n",
              "      <td>36.088</td>\n",
              "      <td>739.981106</td>\n",
              "    </tr>\n",
              "    <tr>\n",
              "      <th>...</th>\n",
              "      <td>...</td>\n",
              "      <td>...</td>\n",
              "      <td>...</td>\n",
              "      <td>...</td>\n",
              "      <td>...</td>\n",
              "      <td>...</td>\n",
              "    </tr>\n",
              "    <tr>\n",
              "      <th>1699</th>\n",
              "      <td>Zimbabwe</td>\n",
              "      <td>1987</td>\n",
              "      <td>9216418</td>\n",
              "      <td>Africa</td>\n",
              "      <td>62.351</td>\n",
              "      <td>706.157306</td>\n",
              "    </tr>\n",
              "    <tr>\n",
              "      <th>1700</th>\n",
              "      <td>Zimbabwe</td>\n",
              "      <td>1992</td>\n",
              "      <td>10704340</td>\n",
              "      <td>Africa</td>\n",
              "      <td>60.377</td>\n",
              "      <td>693.420786</td>\n",
              "    </tr>\n",
              "    <tr>\n",
              "      <th>1701</th>\n",
              "      <td>Zimbabwe</td>\n",
              "      <td>1997</td>\n",
              "      <td>11404948</td>\n",
              "      <td>Africa</td>\n",
              "      <td>46.809</td>\n",
              "      <td>792.449960</td>\n",
              "    </tr>\n",
              "    <tr>\n",
              "      <th>1702</th>\n",
              "      <td>Zimbabwe</td>\n",
              "      <td>2002</td>\n",
              "      <td>11926563</td>\n",
              "      <td>Africa</td>\n",
              "      <td>39.989</td>\n",
              "      <td>672.038623</td>\n",
              "    </tr>\n",
              "    <tr>\n",
              "      <th>1703</th>\n",
              "      <td>Zimbabwe</td>\n",
              "      <td>2007</td>\n",
              "      <td>12311143</td>\n",
              "      <td>Africa</td>\n",
              "      <td>43.487</td>\n",
              "      <td>469.709298</td>\n",
              "    </tr>\n",
              "  </tbody>\n",
              "</table>\n",
              "<p>1704 rows × 6 columns</p>\n",
              "</div>\n",
              "      <button class=\"colab-df-convert\" onclick=\"convertToInteractive('df-1dd44c75-52f6-40c5-8935-21bc85c0bb27')\"\n",
              "              title=\"Convert this dataframe to an interactive table.\"\n",
              "              style=\"display:none;\">\n",
              "        \n",
              "  <svg xmlns=\"http://www.w3.org/2000/svg\" height=\"24px\"viewBox=\"0 0 24 24\"\n",
              "       width=\"24px\">\n",
              "    <path d=\"M0 0h24v24H0V0z\" fill=\"none\"/>\n",
              "    <path d=\"M18.56 5.44l.94 2.06.94-2.06 2.06-.94-2.06-.94-.94-2.06-.94 2.06-2.06.94zm-11 1L8.5 8.5l.94-2.06 2.06-.94-2.06-.94L8.5 2.5l-.94 2.06-2.06.94zm10 10l.94 2.06.94-2.06 2.06-.94-2.06-.94-.94-2.06-.94 2.06-2.06.94z\"/><path d=\"M17.41 7.96l-1.37-1.37c-.4-.4-.92-.59-1.43-.59-.52 0-1.04.2-1.43.59L10.3 9.45l-7.72 7.72c-.78.78-.78 2.05 0 2.83L4 21.41c.39.39.9.59 1.41.59.51 0 1.02-.2 1.41-.59l7.78-7.78 2.81-2.81c.8-.78.8-2.07 0-2.86zM5.41 20L4 18.59l7.72-7.72 1.47 1.35L5.41 20z\"/>\n",
              "  </svg>\n",
              "      </button>\n",
              "      \n",
              "  <style>\n",
              "    .colab-df-container {\n",
              "      display:flex;\n",
              "      flex-wrap:wrap;\n",
              "      gap: 12px;\n",
              "    }\n",
              "\n",
              "    .colab-df-convert {\n",
              "      background-color: #E8F0FE;\n",
              "      border: none;\n",
              "      border-radius: 50%;\n",
              "      cursor: pointer;\n",
              "      display: none;\n",
              "      fill: #1967D2;\n",
              "      height: 32px;\n",
              "      padding: 0 0 0 0;\n",
              "      width: 32px;\n",
              "    }\n",
              "\n",
              "    .colab-df-convert:hover {\n",
              "      background-color: #E2EBFA;\n",
              "      box-shadow: 0px 1px 2px rgba(60, 64, 67, 0.3), 0px 1px 3px 1px rgba(60, 64, 67, 0.15);\n",
              "      fill: #174EA6;\n",
              "    }\n",
              "\n",
              "    [theme=dark] .colab-df-convert {\n",
              "      background-color: #3B4455;\n",
              "      fill: #D2E3FC;\n",
              "    }\n",
              "\n",
              "    [theme=dark] .colab-df-convert:hover {\n",
              "      background-color: #434B5C;\n",
              "      box-shadow: 0px 1px 3px 1px rgba(0, 0, 0, 0.15);\n",
              "      filter: drop-shadow(0px 1px 2px rgba(0, 0, 0, 0.3));\n",
              "      fill: #FFFFFF;\n",
              "    }\n",
              "  </style>\n",
              "\n",
              "      <script>\n",
              "        const buttonEl =\n",
              "          document.querySelector('#df-1dd44c75-52f6-40c5-8935-21bc85c0bb27 button.colab-df-convert');\n",
              "        buttonEl.style.display =\n",
              "          google.colab.kernel.accessAllowed ? 'block' : 'none';\n",
              "\n",
              "        async function convertToInteractive(key) {\n",
              "          const element = document.querySelector('#df-1dd44c75-52f6-40c5-8935-21bc85c0bb27');\n",
              "          const dataTable =\n",
              "            await google.colab.kernel.invokeFunction('convertToInteractive',\n",
              "                                                     [key], {});\n",
              "          if (!dataTable) return;\n",
              "\n",
              "          const docLinkHtml = 'Like what you see? Visit the ' +\n",
              "            '<a target=\"_blank\" href=https://colab.research.google.com/notebooks/data_table.ipynb>data table notebook</a>'\n",
              "            + ' to learn more about interactive tables.';\n",
              "          element.innerHTML = '';\n",
              "          dataTable['output_type'] = 'display_data';\n",
              "          await google.colab.output.renderOutput(dataTable, element);\n",
              "          const docLink = document.createElement('div');\n",
              "          docLink.innerHTML = docLinkHtml;\n",
              "          element.appendChild(docLink);\n",
              "        }\n",
              "      </script>\n",
              "    </div>\n",
              "  </div>\n",
              "  "
            ]
          },
          "metadata": {},
          "execution_count": 3
        }
      ],
      "source": [
        "df = pd.read_csv('mckinsey.csv') # We are storing the data in df\n",
        "df"
      ]
    },
    {
      "cell_type": "markdown",
      "metadata": {
        "id": "gRuDu4ZUt64i"
      },
      "source": [
        "## Basic operations on columns\n"
      ]
    },
    {
      "cell_type": "markdown",
      "metadata": {
        "id": "AWnF2jc9d04m"
      },
      "source": [
        "Now what operations can we do using columns?\n",
        "- Maybe add a column\n",
        "- or delete a column\n",
        "- or we can rename the column too\n",
        "\n",
        "and so on."
      ]
    },
    {
      "cell_type": "markdown",
      "metadata": {
        "id": "dEXf4nuEVs3r"
      },
      "source": [
        "\n",
        "We can see that our dataset has 6 cols\n",
        "\n",
        "#### But what if our dataset has 20 cols ? ... or 100 cols ? We can't see ther names in **one go**.\n",
        "\n",
        "#### How can we get the names of all these cols ?\n",
        "\n",
        "We can do it in two ways:\n",
        "  1. df.columns\n",
        "  2. df.keys\n",
        "\n"
      ]
    },
    {
      "cell_type": "code",
      "execution_count": null,
      "metadata": {
        "colab": {
          "base_uri": "https://localhost:8080/"
        },
        "id": "fef4fd24",
        "outputId": "5fb27db6-4d28-4b08-c68e-ce70cad240f6"
      },
      "outputs": [
        {
          "output_type": "execute_result",
          "data": {
            "text/plain": [
              "Index(['country', 'year', 'population', 'continent', 'life_exp', 'gdp_cap'], dtype='object')"
            ]
          },
          "metadata": {},
          "execution_count": 4
        }
      ],
      "source": [
        "df.columns  # using attribute `columns` of dataframe"
      ]
    },
    {
      "cell_type": "code",
      "execution_count": null,
      "metadata": {
        "colab": {
          "base_uri": "https://localhost:8080/"
        },
        "id": "b7a14fa0",
        "outputId": "2c28b489-56ed-47e8-ecf0-914c64e4cc0d"
      },
      "outputs": [
        {
          "output_type": "execute_result",
          "data": {
            "text/plain": [
              "Index(['country', 'year', 'population', 'continent', 'life_exp', 'gdp_cap'], dtype='object')"
            ]
          },
          "metadata": {},
          "execution_count": 5
        }
      ],
      "source": [
        "df.keys()  # using method keys() of dataframe"
      ]
    },
    {
      "cell_type": "markdown",
      "metadata": {
        "id": "AeIyOXazVjnI"
      },
      "source": [
        "Note:\n",
        "\n",
        "- Here, `Index` is a type of pandas class used to store the `address` of the series/dataframe\n",
        "\n",
        "- It is an Immutable sequence used for indexing and alignment.\n",
        "\n",
        "\n",
        "\n"
      ]
    },
    {
      "cell_type": "code",
      "execution_count": null,
      "metadata": {
        "id": "b2d5e4da"
      },
      "outputs": [],
      "source": [
        "# df['country'].head()  # Gives values in Top 5 rows pertaining to the key"
      ]
    },
    {
      "cell_type": "markdown",
      "metadata": {
        "id": "67ca3597"
      },
      "source": [
        "Pandas DataFrame and Series are specialised dictionary\n",
        "\n",
        "#### But what is so \"special\" about this dictionary?\n",
        "\n",
        "It can take multiple keys\n"
      ]
    },
    {
      "cell_type": "code",
      "execution_count": null,
      "metadata": {
        "colab": {
          "base_uri": "https://localhost:8080/",
          "height": 206
        },
        "id": "21a35bd2",
        "outputId": "eb57d0b0-d467-4205-eea9-d5f0c36cef5a"
      },
      "outputs": [
        {
          "output_type": "execute_result",
          "data": {
            "text/plain": [
              "       country  life_exp\n",
              "0  Afghanistan    28.801\n",
              "1  Afghanistan    30.332\n",
              "2  Afghanistan    31.997\n",
              "3  Afghanistan    34.020\n",
              "4  Afghanistan    36.088"
            ],
            "text/html": [
              "\n",
              "  <div id=\"df-552235b8-59a2-4b4d-8128-79b87045ff17\">\n",
              "    <div class=\"colab-df-container\">\n",
              "      <div>\n",
              "<style scoped>\n",
              "    .dataframe tbody tr th:only-of-type {\n",
              "        vertical-align: middle;\n",
              "    }\n",
              "\n",
              "    .dataframe tbody tr th {\n",
              "        vertical-align: top;\n",
              "    }\n",
              "\n",
              "    .dataframe thead th {\n",
              "        text-align: right;\n",
              "    }\n",
              "</style>\n",
              "<table border=\"1\" class=\"dataframe\">\n",
              "  <thead>\n",
              "    <tr style=\"text-align: right;\">\n",
              "      <th></th>\n",
              "      <th>country</th>\n",
              "      <th>life_exp</th>\n",
              "    </tr>\n",
              "  </thead>\n",
              "  <tbody>\n",
              "    <tr>\n",
              "      <th>0</th>\n",
              "      <td>Afghanistan</td>\n",
              "      <td>28.801</td>\n",
              "    </tr>\n",
              "    <tr>\n",
              "      <th>1</th>\n",
              "      <td>Afghanistan</td>\n",
              "      <td>30.332</td>\n",
              "    </tr>\n",
              "    <tr>\n",
              "      <th>2</th>\n",
              "      <td>Afghanistan</td>\n",
              "      <td>31.997</td>\n",
              "    </tr>\n",
              "    <tr>\n",
              "      <th>3</th>\n",
              "      <td>Afghanistan</td>\n",
              "      <td>34.020</td>\n",
              "    </tr>\n",
              "    <tr>\n",
              "      <th>4</th>\n",
              "      <td>Afghanistan</td>\n",
              "      <td>36.088</td>\n",
              "    </tr>\n",
              "  </tbody>\n",
              "</table>\n",
              "</div>\n",
              "      <button class=\"colab-df-convert\" onclick=\"convertToInteractive('df-552235b8-59a2-4b4d-8128-79b87045ff17')\"\n",
              "              title=\"Convert this dataframe to an interactive table.\"\n",
              "              style=\"display:none;\">\n",
              "        \n",
              "  <svg xmlns=\"http://www.w3.org/2000/svg\" height=\"24px\"viewBox=\"0 0 24 24\"\n",
              "       width=\"24px\">\n",
              "    <path d=\"M0 0h24v24H0V0z\" fill=\"none\"/>\n",
              "    <path d=\"M18.56 5.44l.94 2.06.94-2.06 2.06-.94-2.06-.94-.94-2.06-.94 2.06-2.06.94zm-11 1L8.5 8.5l.94-2.06 2.06-.94-2.06-.94L8.5 2.5l-.94 2.06-2.06.94zm10 10l.94 2.06.94-2.06 2.06-.94-2.06-.94-.94-2.06-.94 2.06-2.06.94z\"/><path d=\"M17.41 7.96l-1.37-1.37c-.4-.4-.92-.59-1.43-.59-.52 0-1.04.2-1.43.59L10.3 9.45l-7.72 7.72c-.78.78-.78 2.05 0 2.83L4 21.41c.39.39.9.59 1.41.59.51 0 1.02-.2 1.41-.59l7.78-7.78 2.81-2.81c.8-.78.8-2.07 0-2.86zM5.41 20L4 18.59l7.72-7.72 1.47 1.35L5.41 20z\"/>\n",
              "  </svg>\n",
              "      </button>\n",
              "      \n",
              "  <style>\n",
              "    .colab-df-container {\n",
              "      display:flex;\n",
              "      flex-wrap:wrap;\n",
              "      gap: 12px;\n",
              "    }\n",
              "\n",
              "    .colab-df-convert {\n",
              "      background-color: #E8F0FE;\n",
              "      border: none;\n",
              "      border-radius: 50%;\n",
              "      cursor: pointer;\n",
              "      display: none;\n",
              "      fill: #1967D2;\n",
              "      height: 32px;\n",
              "      padding: 0 0 0 0;\n",
              "      width: 32px;\n",
              "    }\n",
              "\n",
              "    .colab-df-convert:hover {\n",
              "      background-color: #E2EBFA;\n",
              "      box-shadow: 0px 1px 2px rgba(60, 64, 67, 0.3), 0px 1px 3px 1px rgba(60, 64, 67, 0.15);\n",
              "      fill: #174EA6;\n",
              "    }\n",
              "\n",
              "    [theme=dark] .colab-df-convert {\n",
              "      background-color: #3B4455;\n",
              "      fill: #D2E3FC;\n",
              "    }\n",
              "\n",
              "    [theme=dark] .colab-df-convert:hover {\n",
              "      background-color: #434B5C;\n",
              "      box-shadow: 0px 1px 3px 1px rgba(0, 0, 0, 0.15);\n",
              "      filter: drop-shadow(0px 1px 2px rgba(0, 0, 0, 0.3));\n",
              "      fill: #FFFFFF;\n",
              "    }\n",
              "  </style>\n",
              "\n",
              "      <script>\n",
              "        const buttonEl =\n",
              "          document.querySelector('#df-552235b8-59a2-4b4d-8128-79b87045ff17 button.colab-df-convert');\n",
              "        buttonEl.style.display =\n",
              "          google.colab.kernel.accessAllowed ? 'block' : 'none';\n",
              "\n",
              "        async function convertToInteractive(key) {\n",
              "          const element = document.querySelector('#df-552235b8-59a2-4b4d-8128-79b87045ff17');\n",
              "          const dataTable =\n",
              "            await google.colab.kernel.invokeFunction('convertToInteractive',\n",
              "                                                     [key], {});\n",
              "          if (!dataTable) return;\n",
              "\n",
              "          const docLinkHtml = 'Like what you see? Visit the ' +\n",
              "            '<a target=\"_blank\" href=https://colab.research.google.com/notebooks/data_table.ipynb>data table notebook</a>'\n",
              "            + ' to learn more about interactive tables.';\n",
              "          element.innerHTML = '';\n",
              "          dataTable['output_type'] = 'display_data';\n",
              "          await google.colab.output.renderOutput(dataTable, element);\n",
              "          const docLink = document.createElement('div');\n",
              "          docLink.innerHTML = docLinkHtml;\n",
              "          element.appendChild(docLink);\n",
              "        }\n",
              "      </script>\n",
              "    </div>\n",
              "  </div>\n",
              "  "
            ]
          },
          "metadata": {},
          "execution_count": 7
        }
      ],
      "source": [
        "df[['country', 'life_exp']].head()"
      ]
    },
    {
      "cell_type": "markdown",
      "metadata": {
        "id": "4jzZWYFBgEkY"
      },
      "source": [
        "And what if we pass a single column name?"
      ]
    },
    {
      "cell_type": "code",
      "execution_count": null,
      "metadata": {
        "colab": {
          "base_uri": "https://localhost:8080/",
          "height": 206
        },
        "id": "pIp1zTtSgIdl",
        "outputId": "87dfa6c9-ccbe-4cf5-e331-28bde9b3f4b5"
      },
      "outputs": [
        {
          "output_type": "execute_result",
          "data": {
            "text/plain": [
              "       country\n",
              "0  Afghanistan\n",
              "1  Afghanistan\n",
              "2  Afghanistan\n",
              "3  Afghanistan\n",
              "4  Afghanistan"
            ],
            "text/html": [
              "\n",
              "  <div id=\"df-6a091d27-bf03-4776-9d9b-c4c607e73597\">\n",
              "    <div class=\"colab-df-container\">\n",
              "      <div>\n",
              "<style scoped>\n",
              "    .dataframe tbody tr th:only-of-type {\n",
              "        vertical-align: middle;\n",
              "    }\n",
              "\n",
              "    .dataframe tbody tr th {\n",
              "        vertical-align: top;\n",
              "    }\n",
              "\n",
              "    .dataframe thead th {\n",
              "        text-align: right;\n",
              "    }\n",
              "</style>\n",
              "<table border=\"1\" class=\"dataframe\">\n",
              "  <thead>\n",
              "    <tr style=\"text-align: right;\">\n",
              "      <th></th>\n",
              "      <th>country</th>\n",
              "    </tr>\n",
              "  </thead>\n",
              "  <tbody>\n",
              "    <tr>\n",
              "      <th>0</th>\n",
              "      <td>Afghanistan</td>\n",
              "    </tr>\n",
              "    <tr>\n",
              "      <th>1</th>\n",
              "      <td>Afghanistan</td>\n",
              "    </tr>\n",
              "    <tr>\n",
              "      <th>2</th>\n",
              "      <td>Afghanistan</td>\n",
              "    </tr>\n",
              "    <tr>\n",
              "      <th>3</th>\n",
              "      <td>Afghanistan</td>\n",
              "    </tr>\n",
              "    <tr>\n",
              "      <th>4</th>\n",
              "      <td>Afghanistan</td>\n",
              "    </tr>\n",
              "  </tbody>\n",
              "</table>\n",
              "</div>\n",
              "      <button class=\"colab-df-convert\" onclick=\"convertToInteractive('df-6a091d27-bf03-4776-9d9b-c4c607e73597')\"\n",
              "              title=\"Convert this dataframe to an interactive table.\"\n",
              "              style=\"display:none;\">\n",
              "        \n",
              "  <svg xmlns=\"http://www.w3.org/2000/svg\" height=\"24px\"viewBox=\"0 0 24 24\"\n",
              "       width=\"24px\">\n",
              "    <path d=\"M0 0h24v24H0V0z\" fill=\"none\"/>\n",
              "    <path d=\"M18.56 5.44l.94 2.06.94-2.06 2.06-.94-2.06-.94-.94-2.06-.94 2.06-2.06.94zm-11 1L8.5 8.5l.94-2.06 2.06-.94-2.06-.94L8.5 2.5l-.94 2.06-2.06.94zm10 10l.94 2.06.94-2.06 2.06-.94-2.06-.94-.94-2.06-.94 2.06-2.06.94z\"/><path d=\"M17.41 7.96l-1.37-1.37c-.4-.4-.92-.59-1.43-.59-.52 0-1.04.2-1.43.59L10.3 9.45l-7.72 7.72c-.78.78-.78 2.05 0 2.83L4 21.41c.39.39.9.59 1.41.59.51 0 1.02-.2 1.41-.59l7.78-7.78 2.81-2.81c.8-.78.8-2.07 0-2.86zM5.41 20L4 18.59l7.72-7.72 1.47 1.35L5.41 20z\"/>\n",
              "  </svg>\n",
              "      </button>\n",
              "      \n",
              "  <style>\n",
              "    .colab-df-container {\n",
              "      display:flex;\n",
              "      flex-wrap:wrap;\n",
              "      gap: 12px;\n",
              "    }\n",
              "\n",
              "    .colab-df-convert {\n",
              "      background-color: #E8F0FE;\n",
              "      border: none;\n",
              "      border-radius: 50%;\n",
              "      cursor: pointer;\n",
              "      display: none;\n",
              "      fill: #1967D2;\n",
              "      height: 32px;\n",
              "      padding: 0 0 0 0;\n",
              "      width: 32px;\n",
              "    }\n",
              "\n",
              "    .colab-df-convert:hover {\n",
              "      background-color: #E2EBFA;\n",
              "      box-shadow: 0px 1px 2px rgba(60, 64, 67, 0.3), 0px 1px 3px 1px rgba(60, 64, 67, 0.15);\n",
              "      fill: #174EA6;\n",
              "    }\n",
              "\n",
              "    [theme=dark] .colab-df-convert {\n",
              "      background-color: #3B4455;\n",
              "      fill: #D2E3FC;\n",
              "    }\n",
              "\n",
              "    [theme=dark] .colab-df-convert:hover {\n",
              "      background-color: #434B5C;\n",
              "      box-shadow: 0px 1px 3px 1px rgba(0, 0, 0, 0.15);\n",
              "      filter: drop-shadow(0px 1px 2px rgba(0, 0, 0, 0.3));\n",
              "      fill: #FFFFFF;\n",
              "    }\n",
              "  </style>\n",
              "\n",
              "      <script>\n",
              "        const buttonEl =\n",
              "          document.querySelector('#df-6a091d27-bf03-4776-9d9b-c4c607e73597 button.colab-df-convert');\n",
              "        buttonEl.style.display =\n",
              "          google.colab.kernel.accessAllowed ? 'block' : 'none';\n",
              "\n",
              "        async function convertToInteractive(key) {\n",
              "          const element = document.querySelector('#df-6a091d27-bf03-4776-9d9b-c4c607e73597');\n",
              "          const dataTable =\n",
              "            await google.colab.kernel.invokeFunction('convertToInteractive',\n",
              "                                                     [key], {});\n",
              "          if (!dataTable) return;\n",
              "\n",
              "          const docLinkHtml = 'Like what you see? Visit the ' +\n",
              "            '<a target=\"_blank\" href=https://colab.research.google.com/notebooks/data_table.ipynb>data table notebook</a>'\n",
              "            + ' to learn more about interactive tables.';\n",
              "          element.innerHTML = '';\n",
              "          dataTable['output_type'] = 'display_data';\n",
              "          await google.colab.output.renderOutput(dataTable, element);\n",
              "          const docLink = document.createElement('div');\n",
              "          docLink.innerHTML = docLinkHtml;\n",
              "          element.appendChild(docLink);\n",
              "        }\n",
              "      </script>\n",
              "    </div>\n",
              "  </div>\n",
              "  "
            ]
          },
          "metadata": {},
          "execution_count": 8
        }
      ],
      "source": [
        "df[['country']].head()"
      ]
    },
    {
      "cell_type": "markdown",
      "metadata": {
        "id": "wyLOWJCEsty7"
      },
      "source": [
        "Note:\n",
        "\n",
        "Notice how this output type is different from our earlier output using `df['country']`\n",
        "\n",
        "==> `['country']` gives series while `[['country']]` gives dataframe"
      ]
    },
    {
      "cell_type": "markdown",
      "metadata": {
        "id": "Lw59Tu-DQOLu"
      },
      "source": [
        "Now that we know how to access columns, lets answer some questions\n",
        "\n",
        "### How can we find the countries that have been surveyed ?\n",
        "\n",
        "We can find the unique vals in the `country` col\n",
        "\n",
        "#### How can we find unique values in a column?"
      ]
    },
    {
      "cell_type": "code",
      "execution_count": null,
      "metadata": {
        "colab": {
          "base_uri": "https://localhost:8080/"
        },
        "id": "0Yfy1XjMQ3F7",
        "outputId": "f5472f72-d47e-4587-915f-9074311bfca5"
      },
      "outputs": [
        {
          "output_type": "execute_result",
          "data": {
            "text/plain": [
              "array(['Afghanistan', 'Albania', 'Algeria', 'Angola', 'Argentina',\n",
              "       'Australia', 'Austria', 'Bahrain', 'Bangladesh', 'Belgium',\n",
              "       'Benin', 'Bolivia', 'Bosnia and Herzegovina', 'Botswana', 'Brazil',\n",
              "       'Bulgaria', 'Burkina Faso', 'Burundi', 'Cambodia', 'Cameroon',\n",
              "       'Canada', 'Central African Republic', 'Chad', 'Chile', 'China',\n",
              "       'Colombia', 'Comoros', 'Congo, Dem. Rep.', 'Congo, Rep.',\n",
              "       'Costa Rica', \"Cote d'Ivoire\", 'Croatia', 'Cuba', 'Czech Republic',\n",
              "       'Denmark', 'Djibouti', 'Dominican Republic', 'Ecuador', 'Egypt',\n",
              "       'El Salvador', 'Equatorial Guinea', 'Eritrea', 'Ethiopia',\n",
              "       'Finland', 'France', 'Gabon', 'Gambia', 'Germany', 'Ghana',\n",
              "       'Greece', 'Guatemala', 'Guinea', 'Guinea-Bissau', 'Haiti',\n",
              "       'Honduras', 'Hong Kong, China', 'Hungary', 'Iceland', 'India',\n",
              "       'Indonesia', 'Iran', 'Iraq', 'Ireland', 'Israel', 'Italy',\n",
              "       'Jamaica', 'Japan', 'Jordan', 'Kenya', 'Korea, Dem. Rep.',\n",
              "       'Korea, Rep.', 'Kuwait', 'Lebanon', 'Lesotho', 'Liberia', 'Libya',\n",
              "       'Madagascar', 'Malawi', 'Malaysia', 'Mali', 'Mauritania',\n",
              "       'Mauritius', 'Mexico', 'Mongolia', 'Montenegro', 'Morocco',\n",
              "       'Mozambique', 'Myanmar', 'Namibia', 'Nepal', 'Netherlands',\n",
              "       'New Zealand', 'Nicaragua', 'Niger', 'Nigeria', 'Norway', 'Oman',\n",
              "       'Pakistan', 'Panama', 'Paraguay', 'Peru', 'Philippines', 'Poland',\n",
              "       'Portugal', 'Puerto Rico', 'Reunion', 'Romania', 'Rwanda',\n",
              "       'Sao Tome and Principe', 'Saudi Arabia', 'Senegal', 'Serbia',\n",
              "       'Sierra Leone', 'Singapore', 'Slovak Republic', 'Slovenia',\n",
              "       'Somalia', 'South Africa', 'Spain', 'Sri Lanka', 'Sudan',\n",
              "       'Swaziland', 'Sweden', 'Switzerland', 'Syria', 'Taiwan',\n",
              "       'Tanzania', 'Thailand', 'Togo', 'Trinidad and Tobago', 'Tunisia',\n",
              "       'Turkey', 'Uganda', 'United Kingdom', 'United States', 'Uruguay',\n",
              "       'Venezuela', 'Vietnam', 'West Bank and Gaza', 'Yemen, Rep.',\n",
              "       'Zambia', 'Zimbabwe'], dtype=object)"
            ]
          },
          "metadata": {},
          "execution_count": 9
        }
      ],
      "source": [
        "df['country'].unique()"
      ]
    },
    {
      "cell_type": "markdown",
      "metadata": {
        "id": "wrppgTHzSByt"
      },
      "source": [
        "#### Now what if you also want to check the count of each country in the dataframe?\n"
      ]
    },
    {
      "cell_type": "code",
      "execution_count": null,
      "metadata": {
        "colab": {
          "base_uri": "https://localhost:8080/"
        },
        "id": "HAm69U_7SQcN",
        "outputId": "ba4ff795-e16b-453f-abf9-e0c7d200528f"
      },
      "outputs": [
        {
          "output_type": "execute_result",
          "data": {
            "text/plain": [
              "Afghanistan          12\n",
              "Pakistan             12\n",
              "New Zealand          12\n",
              "Nicaragua            12\n",
              "Niger                12\n",
              "                     ..\n",
              "Eritrea              12\n",
              "Equatorial Guinea    12\n",
              "El Salvador          12\n",
              "Egypt                12\n",
              "Zimbabwe             12\n",
              "Name: country, Length: 142, dtype: int64"
            ]
          },
          "metadata": {},
          "execution_count": 10
        }
      ],
      "source": [
        "df['country'].value_counts()"
      ]
    },
    {
      "cell_type": "markdown",
      "metadata": {
        "id": "4PwBJlrnSXMG"
      },
      "source": [
        "Note:\n",
        "\n",
        "`value_counts()` shows the output in **decreasing order of frequency**"
      ]
    },
    {
      "cell_type": "markdown",
      "metadata": {
        "id": "KrDUjADzjAzH"
      },
      "source": [
        "### What if we want to change the name of a column ?"
      ]
    },
    {
      "cell_type": "markdown",
      "metadata": {
        "id": "xRCXuOkhnbg-"
      },
      "source": [
        "We can rename the column by:\n",
        "- passing the dictionary with `old_name:new_name` pair\n",
        "- specifying `axis=1`"
      ]
    },
    {
      "cell_type": "code",
      "execution_count": null,
      "metadata": {
        "colab": {
          "base_uri": "https://localhost:8080/",
          "height": 424
        },
        "id": "nZ6Gj0rajH3r",
        "outputId": "2a250ac2-c68e-40a8-e88f-a6c8136d1b64"
      },
      "outputs": [
        {
          "output_type": "execute_result",
          "data": {
            "text/plain": [
              "          Country  year  Population continent  life_exp     gdp_cap\n",
              "0     Afghanistan  1952     8425333      Asia    28.801  779.445314\n",
              "1     Afghanistan  1957     9240934      Asia    30.332  820.853030\n",
              "2     Afghanistan  1962    10267083      Asia    31.997  853.100710\n",
              "3     Afghanistan  1967    11537966      Asia    34.020  836.197138\n",
              "4     Afghanistan  1972    13079460      Asia    36.088  739.981106\n",
              "...           ...   ...         ...       ...       ...         ...\n",
              "1699     Zimbabwe  1987     9216418    Africa    62.351  706.157306\n",
              "1700     Zimbabwe  1992    10704340    Africa    60.377  693.420786\n",
              "1701     Zimbabwe  1997    11404948    Africa    46.809  792.449960\n",
              "1702     Zimbabwe  2002    11926563    Africa    39.989  672.038623\n",
              "1703     Zimbabwe  2007    12311143    Africa    43.487  469.709298\n",
              "\n",
              "[1704 rows x 6 columns]"
            ],
            "text/html": [
              "\n",
              "  <div id=\"df-23cd09f0-9008-4826-bda5-134d468bd14e\">\n",
              "    <div class=\"colab-df-container\">\n",
              "      <div>\n",
              "<style scoped>\n",
              "    .dataframe tbody tr th:only-of-type {\n",
              "        vertical-align: middle;\n",
              "    }\n",
              "\n",
              "    .dataframe tbody tr th {\n",
              "        vertical-align: top;\n",
              "    }\n",
              "\n",
              "    .dataframe thead th {\n",
              "        text-align: right;\n",
              "    }\n",
              "</style>\n",
              "<table border=\"1\" class=\"dataframe\">\n",
              "  <thead>\n",
              "    <tr style=\"text-align: right;\">\n",
              "      <th></th>\n",
              "      <th>Country</th>\n",
              "      <th>year</th>\n",
              "      <th>Population</th>\n",
              "      <th>continent</th>\n",
              "      <th>life_exp</th>\n",
              "      <th>gdp_cap</th>\n",
              "    </tr>\n",
              "  </thead>\n",
              "  <tbody>\n",
              "    <tr>\n",
              "      <th>0</th>\n",
              "      <td>Afghanistan</td>\n",
              "      <td>1952</td>\n",
              "      <td>8425333</td>\n",
              "      <td>Asia</td>\n",
              "      <td>28.801</td>\n",
              "      <td>779.445314</td>\n",
              "    </tr>\n",
              "    <tr>\n",
              "      <th>1</th>\n",
              "      <td>Afghanistan</td>\n",
              "      <td>1957</td>\n",
              "      <td>9240934</td>\n",
              "      <td>Asia</td>\n",
              "      <td>30.332</td>\n",
              "      <td>820.853030</td>\n",
              "    </tr>\n",
              "    <tr>\n",
              "      <th>2</th>\n",
              "      <td>Afghanistan</td>\n",
              "      <td>1962</td>\n",
              "      <td>10267083</td>\n",
              "      <td>Asia</td>\n",
              "      <td>31.997</td>\n",
              "      <td>853.100710</td>\n",
              "    </tr>\n",
              "    <tr>\n",
              "      <th>3</th>\n",
              "      <td>Afghanistan</td>\n",
              "      <td>1967</td>\n",
              "      <td>11537966</td>\n",
              "      <td>Asia</td>\n",
              "      <td>34.020</td>\n",
              "      <td>836.197138</td>\n",
              "    </tr>\n",
              "    <tr>\n",
              "      <th>4</th>\n",
              "      <td>Afghanistan</td>\n",
              "      <td>1972</td>\n",
              "      <td>13079460</td>\n",
              "      <td>Asia</td>\n",
              "      <td>36.088</td>\n",
              "      <td>739.981106</td>\n",
              "    </tr>\n",
              "    <tr>\n",
              "      <th>...</th>\n",
              "      <td>...</td>\n",
              "      <td>...</td>\n",
              "      <td>...</td>\n",
              "      <td>...</td>\n",
              "      <td>...</td>\n",
              "      <td>...</td>\n",
              "    </tr>\n",
              "    <tr>\n",
              "      <th>1699</th>\n",
              "      <td>Zimbabwe</td>\n",
              "      <td>1987</td>\n",
              "      <td>9216418</td>\n",
              "      <td>Africa</td>\n",
              "      <td>62.351</td>\n",
              "      <td>706.157306</td>\n",
              "    </tr>\n",
              "    <tr>\n",
              "      <th>1700</th>\n",
              "      <td>Zimbabwe</td>\n",
              "      <td>1992</td>\n",
              "      <td>10704340</td>\n",
              "      <td>Africa</td>\n",
              "      <td>60.377</td>\n",
              "      <td>693.420786</td>\n",
              "    </tr>\n",
              "    <tr>\n",
              "      <th>1701</th>\n",
              "      <td>Zimbabwe</td>\n",
              "      <td>1997</td>\n",
              "      <td>11404948</td>\n",
              "      <td>Africa</td>\n",
              "      <td>46.809</td>\n",
              "      <td>792.449960</td>\n",
              "    </tr>\n",
              "    <tr>\n",
              "      <th>1702</th>\n",
              "      <td>Zimbabwe</td>\n",
              "      <td>2002</td>\n",
              "      <td>11926563</td>\n",
              "      <td>Africa</td>\n",
              "      <td>39.989</td>\n",
              "      <td>672.038623</td>\n",
              "    </tr>\n",
              "    <tr>\n",
              "      <th>1703</th>\n",
              "      <td>Zimbabwe</td>\n",
              "      <td>2007</td>\n",
              "      <td>12311143</td>\n",
              "      <td>Africa</td>\n",
              "      <td>43.487</td>\n",
              "      <td>469.709298</td>\n",
              "    </tr>\n",
              "  </tbody>\n",
              "</table>\n",
              "<p>1704 rows × 6 columns</p>\n",
              "</div>\n",
              "      <button class=\"colab-df-convert\" onclick=\"convertToInteractive('df-23cd09f0-9008-4826-bda5-134d468bd14e')\"\n",
              "              title=\"Convert this dataframe to an interactive table.\"\n",
              "              style=\"display:none;\">\n",
              "        \n",
              "  <svg xmlns=\"http://www.w3.org/2000/svg\" height=\"24px\"viewBox=\"0 0 24 24\"\n",
              "       width=\"24px\">\n",
              "    <path d=\"M0 0h24v24H0V0z\" fill=\"none\"/>\n",
              "    <path d=\"M18.56 5.44l.94 2.06.94-2.06 2.06-.94-2.06-.94-.94-2.06-.94 2.06-2.06.94zm-11 1L8.5 8.5l.94-2.06 2.06-.94-2.06-.94L8.5 2.5l-.94 2.06-2.06.94zm10 10l.94 2.06.94-2.06 2.06-.94-2.06-.94-.94-2.06-.94 2.06-2.06.94z\"/><path d=\"M17.41 7.96l-1.37-1.37c-.4-.4-.92-.59-1.43-.59-.52 0-1.04.2-1.43.59L10.3 9.45l-7.72 7.72c-.78.78-.78 2.05 0 2.83L4 21.41c.39.39.9.59 1.41.59.51 0 1.02-.2 1.41-.59l7.78-7.78 2.81-2.81c.8-.78.8-2.07 0-2.86zM5.41 20L4 18.59l7.72-7.72 1.47 1.35L5.41 20z\"/>\n",
              "  </svg>\n",
              "      </button>\n",
              "      \n",
              "  <style>\n",
              "    .colab-df-container {\n",
              "      display:flex;\n",
              "      flex-wrap:wrap;\n",
              "      gap: 12px;\n",
              "    }\n",
              "\n",
              "    .colab-df-convert {\n",
              "      background-color: #E8F0FE;\n",
              "      border: none;\n",
              "      border-radius: 50%;\n",
              "      cursor: pointer;\n",
              "      display: none;\n",
              "      fill: #1967D2;\n",
              "      height: 32px;\n",
              "      padding: 0 0 0 0;\n",
              "      width: 32px;\n",
              "    }\n",
              "\n",
              "    .colab-df-convert:hover {\n",
              "      background-color: #E2EBFA;\n",
              "      box-shadow: 0px 1px 2px rgba(60, 64, 67, 0.3), 0px 1px 3px 1px rgba(60, 64, 67, 0.15);\n",
              "      fill: #174EA6;\n",
              "    }\n",
              "\n",
              "    [theme=dark] .colab-df-convert {\n",
              "      background-color: #3B4455;\n",
              "      fill: #D2E3FC;\n",
              "    }\n",
              "\n",
              "    [theme=dark] .colab-df-convert:hover {\n",
              "      background-color: #434B5C;\n",
              "      box-shadow: 0px 1px 3px 1px rgba(0, 0, 0, 0.15);\n",
              "      filter: drop-shadow(0px 1px 2px rgba(0, 0, 0, 0.3));\n",
              "      fill: #FFFFFF;\n",
              "    }\n",
              "  </style>\n",
              "\n",
              "      <script>\n",
              "        const buttonEl =\n",
              "          document.querySelector('#df-23cd09f0-9008-4826-bda5-134d468bd14e button.colab-df-convert');\n",
              "        buttonEl.style.display =\n",
              "          google.colab.kernel.accessAllowed ? 'block' : 'none';\n",
              "\n",
              "        async function convertToInteractive(key) {\n",
              "          const element = document.querySelector('#df-23cd09f0-9008-4826-bda5-134d468bd14e');\n",
              "          const dataTable =\n",
              "            await google.colab.kernel.invokeFunction('convertToInteractive',\n",
              "                                                     [key], {});\n",
              "          if (!dataTable) return;\n",
              "\n",
              "          const docLinkHtml = 'Like what you see? Visit the ' +\n",
              "            '<a target=\"_blank\" href=https://colab.research.google.com/notebooks/data_table.ipynb>data table notebook</a>'\n",
              "            + ' to learn more about interactive tables.';\n",
              "          element.innerHTML = '';\n",
              "          dataTable['output_type'] = 'display_data';\n",
              "          await google.colab.output.renderOutput(dataTable, element);\n",
              "          const docLink = document.createElement('div');\n",
              "          docLink.innerHTML = docLinkHtml;\n",
              "          element.appendChild(docLink);\n",
              "        }\n",
              "      </script>\n",
              "    </div>\n",
              "  </div>\n",
              "  "
            ]
          },
          "metadata": {},
          "execution_count": 11
        }
      ],
      "source": [
        "df.rename({\"population\": \"Population\", \"country\":\"Country\" }, axis = 1)"
      ]
    },
    {
      "cell_type": "markdown",
      "metadata": {
        "id": "NOln3-u6rqUw"
      },
      "source": [
        "Alternatively, we can also rename the column without using `axis`\n",
        "- by using the `column` parameter\n",
        "\n"
      ]
    },
    {
      "cell_type": "code",
      "execution_count": null,
      "metadata": {
        "colab": {
          "base_uri": "https://localhost:8080/",
          "height": 424
        },
        "id": "WfDt7M1xrpvA",
        "outputId": "b7bc9710-4ce4-4474-c193-2a357bbcb3cf"
      },
      "outputs": [
        {
          "output_type": "execute_result",
          "data": {
            "text/plain": [
              "          Country  year  population continent  life_exp     gdp_cap\n",
              "0     Afghanistan  1952     8425333      Asia    28.801  779.445314\n",
              "1     Afghanistan  1957     9240934      Asia    30.332  820.853030\n",
              "2     Afghanistan  1962    10267083      Asia    31.997  853.100710\n",
              "3     Afghanistan  1967    11537966      Asia    34.020  836.197138\n",
              "4     Afghanistan  1972    13079460      Asia    36.088  739.981106\n",
              "...           ...   ...         ...       ...       ...         ...\n",
              "1699     Zimbabwe  1987     9216418    Africa    62.351  706.157306\n",
              "1700     Zimbabwe  1992    10704340    Africa    60.377  693.420786\n",
              "1701     Zimbabwe  1997    11404948    Africa    46.809  792.449960\n",
              "1702     Zimbabwe  2002    11926563    Africa    39.989  672.038623\n",
              "1703     Zimbabwe  2007    12311143    Africa    43.487  469.709298\n",
              "\n",
              "[1704 rows x 6 columns]"
            ],
            "text/html": [
              "\n",
              "  <div id=\"df-41691ee0-7341-4a27-9c0a-83699e372e0f\">\n",
              "    <div class=\"colab-df-container\">\n",
              "      <div>\n",
              "<style scoped>\n",
              "    .dataframe tbody tr th:only-of-type {\n",
              "        vertical-align: middle;\n",
              "    }\n",
              "\n",
              "    .dataframe tbody tr th {\n",
              "        vertical-align: top;\n",
              "    }\n",
              "\n",
              "    .dataframe thead th {\n",
              "        text-align: right;\n",
              "    }\n",
              "</style>\n",
              "<table border=\"1\" class=\"dataframe\">\n",
              "  <thead>\n",
              "    <tr style=\"text-align: right;\">\n",
              "      <th></th>\n",
              "      <th>Country</th>\n",
              "      <th>year</th>\n",
              "      <th>population</th>\n",
              "      <th>continent</th>\n",
              "      <th>life_exp</th>\n",
              "      <th>gdp_cap</th>\n",
              "    </tr>\n",
              "  </thead>\n",
              "  <tbody>\n",
              "    <tr>\n",
              "      <th>0</th>\n",
              "      <td>Afghanistan</td>\n",
              "      <td>1952</td>\n",
              "      <td>8425333</td>\n",
              "      <td>Asia</td>\n",
              "      <td>28.801</td>\n",
              "      <td>779.445314</td>\n",
              "    </tr>\n",
              "    <tr>\n",
              "      <th>1</th>\n",
              "      <td>Afghanistan</td>\n",
              "      <td>1957</td>\n",
              "      <td>9240934</td>\n",
              "      <td>Asia</td>\n",
              "      <td>30.332</td>\n",
              "      <td>820.853030</td>\n",
              "    </tr>\n",
              "    <tr>\n",
              "      <th>2</th>\n",
              "      <td>Afghanistan</td>\n",
              "      <td>1962</td>\n",
              "      <td>10267083</td>\n",
              "      <td>Asia</td>\n",
              "      <td>31.997</td>\n",
              "      <td>853.100710</td>\n",
              "    </tr>\n",
              "    <tr>\n",
              "      <th>3</th>\n",
              "      <td>Afghanistan</td>\n",
              "      <td>1967</td>\n",
              "      <td>11537966</td>\n",
              "      <td>Asia</td>\n",
              "      <td>34.020</td>\n",
              "      <td>836.197138</td>\n",
              "    </tr>\n",
              "    <tr>\n",
              "      <th>4</th>\n",
              "      <td>Afghanistan</td>\n",
              "      <td>1972</td>\n",
              "      <td>13079460</td>\n",
              "      <td>Asia</td>\n",
              "      <td>36.088</td>\n",
              "      <td>739.981106</td>\n",
              "    </tr>\n",
              "    <tr>\n",
              "      <th>...</th>\n",
              "      <td>...</td>\n",
              "      <td>...</td>\n",
              "      <td>...</td>\n",
              "      <td>...</td>\n",
              "      <td>...</td>\n",
              "      <td>...</td>\n",
              "    </tr>\n",
              "    <tr>\n",
              "      <th>1699</th>\n",
              "      <td>Zimbabwe</td>\n",
              "      <td>1987</td>\n",
              "      <td>9216418</td>\n",
              "      <td>Africa</td>\n",
              "      <td>62.351</td>\n",
              "      <td>706.157306</td>\n",
              "    </tr>\n",
              "    <tr>\n",
              "      <th>1700</th>\n",
              "      <td>Zimbabwe</td>\n",
              "      <td>1992</td>\n",
              "      <td>10704340</td>\n",
              "      <td>Africa</td>\n",
              "      <td>60.377</td>\n",
              "      <td>693.420786</td>\n",
              "    </tr>\n",
              "    <tr>\n",
              "      <th>1701</th>\n",
              "      <td>Zimbabwe</td>\n",
              "      <td>1997</td>\n",
              "      <td>11404948</td>\n",
              "      <td>Africa</td>\n",
              "      <td>46.809</td>\n",
              "      <td>792.449960</td>\n",
              "    </tr>\n",
              "    <tr>\n",
              "      <th>1702</th>\n",
              "      <td>Zimbabwe</td>\n",
              "      <td>2002</td>\n",
              "      <td>11926563</td>\n",
              "      <td>Africa</td>\n",
              "      <td>39.989</td>\n",
              "      <td>672.038623</td>\n",
              "    </tr>\n",
              "    <tr>\n",
              "      <th>1703</th>\n",
              "      <td>Zimbabwe</td>\n",
              "      <td>2007</td>\n",
              "      <td>12311143</td>\n",
              "      <td>Africa</td>\n",
              "      <td>43.487</td>\n",
              "      <td>469.709298</td>\n",
              "    </tr>\n",
              "  </tbody>\n",
              "</table>\n",
              "<p>1704 rows × 6 columns</p>\n",
              "</div>\n",
              "      <button class=\"colab-df-convert\" onclick=\"convertToInteractive('df-41691ee0-7341-4a27-9c0a-83699e372e0f')\"\n",
              "              title=\"Convert this dataframe to an interactive table.\"\n",
              "              style=\"display:none;\">\n",
              "        \n",
              "  <svg xmlns=\"http://www.w3.org/2000/svg\" height=\"24px\"viewBox=\"0 0 24 24\"\n",
              "       width=\"24px\">\n",
              "    <path d=\"M0 0h24v24H0V0z\" fill=\"none\"/>\n",
              "    <path d=\"M18.56 5.44l.94 2.06.94-2.06 2.06-.94-2.06-.94-.94-2.06-.94 2.06-2.06.94zm-11 1L8.5 8.5l.94-2.06 2.06-.94-2.06-.94L8.5 2.5l-.94 2.06-2.06.94zm10 10l.94 2.06.94-2.06 2.06-.94-2.06-.94-.94-2.06-.94 2.06-2.06.94z\"/><path d=\"M17.41 7.96l-1.37-1.37c-.4-.4-.92-.59-1.43-.59-.52 0-1.04.2-1.43.59L10.3 9.45l-7.72 7.72c-.78.78-.78 2.05 0 2.83L4 21.41c.39.39.9.59 1.41.59.51 0 1.02-.2 1.41-.59l7.78-7.78 2.81-2.81c.8-.78.8-2.07 0-2.86zM5.41 20L4 18.59l7.72-7.72 1.47 1.35L5.41 20z\"/>\n",
              "  </svg>\n",
              "      </button>\n",
              "      \n",
              "  <style>\n",
              "    .colab-df-container {\n",
              "      display:flex;\n",
              "      flex-wrap:wrap;\n",
              "      gap: 12px;\n",
              "    }\n",
              "\n",
              "    .colab-df-convert {\n",
              "      background-color: #E8F0FE;\n",
              "      border: none;\n",
              "      border-radius: 50%;\n",
              "      cursor: pointer;\n",
              "      display: none;\n",
              "      fill: #1967D2;\n",
              "      height: 32px;\n",
              "      padding: 0 0 0 0;\n",
              "      width: 32px;\n",
              "    }\n",
              "\n",
              "    .colab-df-convert:hover {\n",
              "      background-color: #E2EBFA;\n",
              "      box-shadow: 0px 1px 2px rgba(60, 64, 67, 0.3), 0px 1px 3px 1px rgba(60, 64, 67, 0.15);\n",
              "      fill: #174EA6;\n",
              "    }\n",
              "\n",
              "    [theme=dark] .colab-df-convert {\n",
              "      background-color: #3B4455;\n",
              "      fill: #D2E3FC;\n",
              "    }\n",
              "\n",
              "    [theme=dark] .colab-df-convert:hover {\n",
              "      background-color: #434B5C;\n",
              "      box-shadow: 0px 1px 3px 1px rgba(0, 0, 0, 0.15);\n",
              "      filter: drop-shadow(0px 1px 2px rgba(0, 0, 0, 0.3));\n",
              "      fill: #FFFFFF;\n",
              "    }\n",
              "  </style>\n",
              "\n",
              "      <script>\n",
              "        const buttonEl =\n",
              "          document.querySelector('#df-41691ee0-7341-4a27-9c0a-83699e372e0f button.colab-df-convert');\n",
              "        buttonEl.style.display =\n",
              "          google.colab.kernel.accessAllowed ? 'block' : 'none';\n",
              "\n",
              "        async function convertToInteractive(key) {\n",
              "          const element = document.querySelector('#df-41691ee0-7341-4a27-9c0a-83699e372e0f');\n",
              "          const dataTable =\n",
              "            await google.colab.kernel.invokeFunction('convertToInteractive',\n",
              "                                                     [key], {});\n",
              "          if (!dataTable) return;\n",
              "\n",
              "          const docLinkHtml = 'Like what you see? Visit the ' +\n",
              "            '<a target=\"_blank\" href=https://colab.research.google.com/notebooks/data_table.ipynb>data table notebook</a>'\n",
              "            + ' to learn more about interactive tables.';\n",
              "          element.innerHTML = '';\n",
              "          dataTable['output_type'] = 'display_data';\n",
              "          await google.colab.output.renderOutput(dataTable, element);\n",
              "          const docLink = document.createElement('div');\n",
              "          docLink.innerHTML = docLinkHtml;\n",
              "          element.appendChild(docLink);\n",
              "        }\n",
              "      </script>\n",
              "    </div>\n",
              "  </div>\n",
              "  "
            ]
          },
          "metadata": {},
          "execution_count": 12
        }
      ],
      "source": [
        "df.rename(columns={\"country\":\"Country\"})"
      ]
    },
    {
      "cell_type": "markdown",
      "metadata": {
        "id": "ZyNzniDVjWvs"
      },
      "source": [
        "We can set it inplace by setting the `inplace` argument = True"
      ]
    },
    {
      "cell_type": "code",
      "execution_count": null,
      "metadata": {
        "colab": {
          "base_uri": "https://localhost:8080/",
          "height": 424
        },
        "id": "UHZ54n1fjvLx",
        "outputId": "24fe4815-793b-4615-e3af-570d8a80c116"
      },
      "outputs": [
        {
          "output_type": "execute_result",
          "data": {
            "text/plain": [
              "          Country  year  population continent  life_exp     gdp_cap\n",
              "0     Afghanistan  1952     8425333      Asia    28.801  779.445314\n",
              "1     Afghanistan  1957     9240934      Asia    30.332  820.853030\n",
              "2     Afghanistan  1962    10267083      Asia    31.997  853.100710\n",
              "3     Afghanistan  1967    11537966      Asia    34.020  836.197138\n",
              "4     Afghanistan  1972    13079460      Asia    36.088  739.981106\n",
              "...           ...   ...         ...       ...       ...         ...\n",
              "1699     Zimbabwe  1987     9216418    Africa    62.351  706.157306\n",
              "1700     Zimbabwe  1992    10704340    Africa    60.377  693.420786\n",
              "1701     Zimbabwe  1997    11404948    Africa    46.809  792.449960\n",
              "1702     Zimbabwe  2002    11926563    Africa    39.989  672.038623\n",
              "1703     Zimbabwe  2007    12311143    Africa    43.487  469.709298\n",
              "\n",
              "[1704 rows x 6 columns]"
            ],
            "text/html": [
              "\n",
              "  <div id=\"df-f6f9d203-7523-44a3-a118-cae26968a21f\">\n",
              "    <div class=\"colab-df-container\">\n",
              "      <div>\n",
              "<style scoped>\n",
              "    .dataframe tbody tr th:only-of-type {\n",
              "        vertical-align: middle;\n",
              "    }\n",
              "\n",
              "    .dataframe tbody tr th {\n",
              "        vertical-align: top;\n",
              "    }\n",
              "\n",
              "    .dataframe thead th {\n",
              "        text-align: right;\n",
              "    }\n",
              "</style>\n",
              "<table border=\"1\" class=\"dataframe\">\n",
              "  <thead>\n",
              "    <tr style=\"text-align: right;\">\n",
              "      <th></th>\n",
              "      <th>Country</th>\n",
              "      <th>year</th>\n",
              "      <th>population</th>\n",
              "      <th>continent</th>\n",
              "      <th>life_exp</th>\n",
              "      <th>gdp_cap</th>\n",
              "    </tr>\n",
              "  </thead>\n",
              "  <tbody>\n",
              "    <tr>\n",
              "      <th>0</th>\n",
              "      <td>Afghanistan</td>\n",
              "      <td>1952</td>\n",
              "      <td>8425333</td>\n",
              "      <td>Asia</td>\n",
              "      <td>28.801</td>\n",
              "      <td>779.445314</td>\n",
              "    </tr>\n",
              "    <tr>\n",
              "      <th>1</th>\n",
              "      <td>Afghanistan</td>\n",
              "      <td>1957</td>\n",
              "      <td>9240934</td>\n",
              "      <td>Asia</td>\n",
              "      <td>30.332</td>\n",
              "      <td>820.853030</td>\n",
              "    </tr>\n",
              "    <tr>\n",
              "      <th>2</th>\n",
              "      <td>Afghanistan</td>\n",
              "      <td>1962</td>\n",
              "      <td>10267083</td>\n",
              "      <td>Asia</td>\n",
              "      <td>31.997</td>\n",
              "      <td>853.100710</td>\n",
              "    </tr>\n",
              "    <tr>\n",
              "      <th>3</th>\n",
              "      <td>Afghanistan</td>\n",
              "      <td>1967</td>\n",
              "      <td>11537966</td>\n",
              "      <td>Asia</td>\n",
              "      <td>34.020</td>\n",
              "      <td>836.197138</td>\n",
              "    </tr>\n",
              "    <tr>\n",
              "      <th>4</th>\n",
              "      <td>Afghanistan</td>\n",
              "      <td>1972</td>\n",
              "      <td>13079460</td>\n",
              "      <td>Asia</td>\n",
              "      <td>36.088</td>\n",
              "      <td>739.981106</td>\n",
              "    </tr>\n",
              "    <tr>\n",
              "      <th>...</th>\n",
              "      <td>...</td>\n",
              "      <td>...</td>\n",
              "      <td>...</td>\n",
              "      <td>...</td>\n",
              "      <td>...</td>\n",
              "      <td>...</td>\n",
              "    </tr>\n",
              "    <tr>\n",
              "      <th>1699</th>\n",
              "      <td>Zimbabwe</td>\n",
              "      <td>1987</td>\n",
              "      <td>9216418</td>\n",
              "      <td>Africa</td>\n",
              "      <td>62.351</td>\n",
              "      <td>706.157306</td>\n",
              "    </tr>\n",
              "    <tr>\n",
              "      <th>1700</th>\n",
              "      <td>Zimbabwe</td>\n",
              "      <td>1992</td>\n",
              "      <td>10704340</td>\n",
              "      <td>Africa</td>\n",
              "      <td>60.377</td>\n",
              "      <td>693.420786</td>\n",
              "    </tr>\n",
              "    <tr>\n",
              "      <th>1701</th>\n",
              "      <td>Zimbabwe</td>\n",
              "      <td>1997</td>\n",
              "      <td>11404948</td>\n",
              "      <td>Africa</td>\n",
              "      <td>46.809</td>\n",
              "      <td>792.449960</td>\n",
              "    </tr>\n",
              "    <tr>\n",
              "      <th>1702</th>\n",
              "      <td>Zimbabwe</td>\n",
              "      <td>2002</td>\n",
              "      <td>11926563</td>\n",
              "      <td>Africa</td>\n",
              "      <td>39.989</td>\n",
              "      <td>672.038623</td>\n",
              "    </tr>\n",
              "    <tr>\n",
              "      <th>1703</th>\n",
              "      <td>Zimbabwe</td>\n",
              "      <td>2007</td>\n",
              "      <td>12311143</td>\n",
              "      <td>Africa</td>\n",
              "      <td>43.487</td>\n",
              "      <td>469.709298</td>\n",
              "    </tr>\n",
              "  </tbody>\n",
              "</table>\n",
              "<p>1704 rows × 6 columns</p>\n",
              "</div>\n",
              "      <button class=\"colab-df-convert\" onclick=\"convertToInteractive('df-f6f9d203-7523-44a3-a118-cae26968a21f')\"\n",
              "              title=\"Convert this dataframe to an interactive table.\"\n",
              "              style=\"display:none;\">\n",
              "        \n",
              "  <svg xmlns=\"http://www.w3.org/2000/svg\" height=\"24px\"viewBox=\"0 0 24 24\"\n",
              "       width=\"24px\">\n",
              "    <path d=\"M0 0h24v24H0V0z\" fill=\"none\"/>\n",
              "    <path d=\"M18.56 5.44l.94 2.06.94-2.06 2.06-.94-2.06-.94-.94-2.06-.94 2.06-2.06.94zm-11 1L8.5 8.5l.94-2.06 2.06-.94-2.06-.94L8.5 2.5l-.94 2.06-2.06.94zm10 10l.94 2.06.94-2.06 2.06-.94-2.06-.94-.94-2.06-.94 2.06-2.06.94z\"/><path d=\"M17.41 7.96l-1.37-1.37c-.4-.4-.92-.59-1.43-.59-.52 0-1.04.2-1.43.59L10.3 9.45l-7.72 7.72c-.78.78-.78 2.05 0 2.83L4 21.41c.39.39.9.59 1.41.59.51 0 1.02-.2 1.41-.59l7.78-7.78 2.81-2.81c.8-.78.8-2.07 0-2.86zM5.41 20L4 18.59l7.72-7.72 1.47 1.35L5.41 20z\"/>\n",
              "  </svg>\n",
              "      </button>\n",
              "      \n",
              "  <style>\n",
              "    .colab-df-container {\n",
              "      display:flex;\n",
              "      flex-wrap:wrap;\n",
              "      gap: 12px;\n",
              "    }\n",
              "\n",
              "    .colab-df-convert {\n",
              "      background-color: #E8F0FE;\n",
              "      border: none;\n",
              "      border-radius: 50%;\n",
              "      cursor: pointer;\n",
              "      display: none;\n",
              "      fill: #1967D2;\n",
              "      height: 32px;\n",
              "      padding: 0 0 0 0;\n",
              "      width: 32px;\n",
              "    }\n",
              "\n",
              "    .colab-df-convert:hover {\n",
              "      background-color: #E2EBFA;\n",
              "      box-shadow: 0px 1px 2px rgba(60, 64, 67, 0.3), 0px 1px 3px 1px rgba(60, 64, 67, 0.15);\n",
              "      fill: #174EA6;\n",
              "    }\n",
              "\n",
              "    [theme=dark] .colab-df-convert {\n",
              "      background-color: #3B4455;\n",
              "      fill: #D2E3FC;\n",
              "    }\n",
              "\n",
              "    [theme=dark] .colab-df-convert:hover {\n",
              "      background-color: #434B5C;\n",
              "      box-shadow: 0px 1px 3px 1px rgba(0, 0, 0, 0.15);\n",
              "      filter: drop-shadow(0px 1px 2px rgba(0, 0, 0, 0.3));\n",
              "      fill: #FFFFFF;\n",
              "    }\n",
              "  </style>\n",
              "\n",
              "      <script>\n",
              "        const buttonEl =\n",
              "          document.querySelector('#df-f6f9d203-7523-44a3-a118-cae26968a21f button.colab-df-convert');\n",
              "        buttonEl.style.display =\n",
              "          google.colab.kernel.accessAllowed ? 'block' : 'none';\n",
              "\n",
              "        async function convertToInteractive(key) {\n",
              "          const element = document.querySelector('#df-f6f9d203-7523-44a3-a118-cae26968a21f');\n",
              "          const dataTable =\n",
              "            await google.colab.kernel.invokeFunction('convertToInteractive',\n",
              "                                                     [key], {});\n",
              "          if (!dataTable) return;\n",
              "\n",
              "          const docLinkHtml = 'Like what you see? Visit the ' +\n",
              "            '<a target=\"_blank\" href=https://colab.research.google.com/notebooks/data_table.ipynb>data table notebook</a>'\n",
              "            + ' to learn more about interactive tables.';\n",
              "          element.innerHTML = '';\n",
              "          dataTable['output_type'] = 'display_data';\n",
              "          await google.colab.output.renderOutput(dataTable, element);\n",
              "          const docLink = document.createElement('div');\n",
              "          docLink.innerHTML = docLinkHtml;\n",
              "          element.appendChild(docLink);\n",
              "        }\n",
              "      </script>\n",
              "    </div>\n",
              "  </div>\n",
              "  "
            ]
          },
          "metadata": {},
          "execution_count": 13
        }
      ],
      "source": [
        "df.rename({\"country\": \"Country\"}, axis = 1, inplace = True)\n",
        "df"
      ]
    },
    {
      "cell_type": "markdown",
      "metadata": {
        "id": "N19wqCqaC5j4"
      },
      "source": [
        "**Note**\n",
        "- .rename has default value of axis=0\n",
        "- If two columns have the **same name**, then `df['column']` will display both columns"
      ]
    },
    {
      "cell_type": "markdown",
      "metadata": {
        "id": "CpFaqi3-mLDS"
      },
      "source": [
        "Now lets try another way of accessing column vals"
      ]
    },
    {
      "cell_type": "code",
      "execution_count": null,
      "metadata": {
        "colab": {
          "base_uri": "https://localhost:8080/"
        },
        "id": "uqZzZVLmmRtj",
        "outputId": "1a600276-6fe1-41c7-f2e2-933e7d357ed5"
      },
      "outputs": [
        {
          "output_type": "execute_result",
          "data": {
            "text/plain": [
              "0       Afghanistan\n",
              "1       Afghanistan\n",
              "2       Afghanistan\n",
              "3       Afghanistan\n",
              "4       Afghanistan\n",
              "           ...     \n",
              "1699       Zimbabwe\n",
              "1700       Zimbabwe\n",
              "1701       Zimbabwe\n",
              "1702       Zimbabwe\n",
              "1703       Zimbabwe\n",
              "Name: Country, Length: 1704, dtype: object"
            ]
          },
          "metadata": {},
          "execution_count": 14
        }
      ],
      "source": [
        "df.Country"
      ]
    },
    {
      "cell_type": "markdown",
      "metadata": {
        "id": "y-w0mVH3md7i"
      },
      "source": [
        "This however doesn't work everytime\n",
        "\n",
        "#### What do you think could be the problems with using attribute style for accessing the columns?\n",
        "\n",
        "**Problems** such as\n",
        "- if the column names are **not strings**\n",
        "  - Starting with **number**: E.g., ```2nd```\n",
        "  - Contains a **space**: E.g., ```Roll Number```\n",
        "- or if the column names conflict with **methods of the DataFrame**\n",
        "  - E.g. ```shape```\n",
        "\n",
        "It is generally better to avoid this type of accessing columns"
      ]
    },
    {
      "cell_type": "markdown",
      "metadata": {
        "id": "fddec50c"
      },
      "source": [
        "#### Are all the columns in our data necessary?\n",
        "  \n",
        "  - We already know the continents in which each country lies\n",
        "  - So we don't need this column\n"
      ]
    },
    {
      "cell_type": "markdown",
      "metadata": {
        "id": "1yAclO-ldPLi"
      },
      "source": [
        "### How can we delete cols in pandas dataframe ?\n"
      ]
    },
    {
      "cell_type": "code",
      "execution_count": null,
      "metadata": {
        "colab": {
          "base_uri": "https://localhost:8080/",
          "height": 424
        },
        "id": "a97ff28d",
        "outputId": "3caeada3-1d7e-429b-f8dc-77926d47211a",
        "scrolled": true
      },
      "outputs": [
        {
          "output_type": "execute_result",
          "data": {
            "text/plain": [
              "          Country  year  population  life_exp     gdp_cap\n",
              "0     Afghanistan  1952     8425333    28.801  779.445314\n",
              "1     Afghanistan  1957     9240934    30.332  820.853030\n",
              "2     Afghanistan  1962    10267083    31.997  853.100710\n",
              "3     Afghanistan  1967    11537966    34.020  836.197138\n",
              "4     Afghanistan  1972    13079460    36.088  739.981106\n",
              "...           ...   ...         ...       ...         ...\n",
              "1699     Zimbabwe  1987     9216418    62.351  706.157306\n",
              "1700     Zimbabwe  1992    10704340    60.377  693.420786\n",
              "1701     Zimbabwe  1997    11404948    46.809  792.449960\n",
              "1702     Zimbabwe  2002    11926563    39.989  672.038623\n",
              "1703     Zimbabwe  2007    12311143    43.487  469.709298\n",
              "\n",
              "[1704 rows x 5 columns]"
            ],
            "text/html": [
              "\n",
              "  <div id=\"df-ae4f675b-3fe2-48a6-adf4-8796664b8ea0\">\n",
              "    <div class=\"colab-df-container\">\n",
              "      <div>\n",
              "<style scoped>\n",
              "    .dataframe tbody tr th:only-of-type {\n",
              "        vertical-align: middle;\n",
              "    }\n",
              "\n",
              "    .dataframe tbody tr th {\n",
              "        vertical-align: top;\n",
              "    }\n",
              "\n",
              "    .dataframe thead th {\n",
              "        text-align: right;\n",
              "    }\n",
              "</style>\n",
              "<table border=\"1\" class=\"dataframe\">\n",
              "  <thead>\n",
              "    <tr style=\"text-align: right;\">\n",
              "      <th></th>\n",
              "      <th>Country</th>\n",
              "      <th>year</th>\n",
              "      <th>population</th>\n",
              "      <th>life_exp</th>\n",
              "      <th>gdp_cap</th>\n",
              "    </tr>\n",
              "  </thead>\n",
              "  <tbody>\n",
              "    <tr>\n",
              "      <th>0</th>\n",
              "      <td>Afghanistan</td>\n",
              "      <td>1952</td>\n",
              "      <td>8425333</td>\n",
              "      <td>28.801</td>\n",
              "      <td>779.445314</td>\n",
              "    </tr>\n",
              "    <tr>\n",
              "      <th>1</th>\n",
              "      <td>Afghanistan</td>\n",
              "      <td>1957</td>\n",
              "      <td>9240934</td>\n",
              "      <td>30.332</td>\n",
              "      <td>820.853030</td>\n",
              "    </tr>\n",
              "    <tr>\n",
              "      <th>2</th>\n",
              "      <td>Afghanistan</td>\n",
              "      <td>1962</td>\n",
              "      <td>10267083</td>\n",
              "      <td>31.997</td>\n",
              "      <td>853.100710</td>\n",
              "    </tr>\n",
              "    <tr>\n",
              "      <th>3</th>\n",
              "      <td>Afghanistan</td>\n",
              "      <td>1967</td>\n",
              "      <td>11537966</td>\n",
              "      <td>34.020</td>\n",
              "      <td>836.197138</td>\n",
              "    </tr>\n",
              "    <tr>\n",
              "      <th>4</th>\n",
              "      <td>Afghanistan</td>\n",
              "      <td>1972</td>\n",
              "      <td>13079460</td>\n",
              "      <td>36.088</td>\n",
              "      <td>739.981106</td>\n",
              "    </tr>\n",
              "    <tr>\n",
              "      <th>...</th>\n",
              "      <td>...</td>\n",
              "      <td>...</td>\n",
              "      <td>...</td>\n",
              "      <td>...</td>\n",
              "      <td>...</td>\n",
              "    </tr>\n",
              "    <tr>\n",
              "      <th>1699</th>\n",
              "      <td>Zimbabwe</td>\n",
              "      <td>1987</td>\n",
              "      <td>9216418</td>\n",
              "      <td>62.351</td>\n",
              "      <td>706.157306</td>\n",
              "    </tr>\n",
              "    <tr>\n",
              "      <th>1700</th>\n",
              "      <td>Zimbabwe</td>\n",
              "      <td>1992</td>\n",
              "      <td>10704340</td>\n",
              "      <td>60.377</td>\n",
              "      <td>693.420786</td>\n",
              "    </tr>\n",
              "    <tr>\n",
              "      <th>1701</th>\n",
              "      <td>Zimbabwe</td>\n",
              "      <td>1997</td>\n",
              "      <td>11404948</td>\n",
              "      <td>46.809</td>\n",
              "      <td>792.449960</td>\n",
              "    </tr>\n",
              "    <tr>\n",
              "      <th>1702</th>\n",
              "      <td>Zimbabwe</td>\n",
              "      <td>2002</td>\n",
              "      <td>11926563</td>\n",
              "      <td>39.989</td>\n",
              "      <td>672.038623</td>\n",
              "    </tr>\n",
              "    <tr>\n",
              "      <th>1703</th>\n",
              "      <td>Zimbabwe</td>\n",
              "      <td>2007</td>\n",
              "      <td>12311143</td>\n",
              "      <td>43.487</td>\n",
              "      <td>469.709298</td>\n",
              "    </tr>\n",
              "  </tbody>\n",
              "</table>\n",
              "<p>1704 rows × 5 columns</p>\n",
              "</div>\n",
              "      <button class=\"colab-df-convert\" onclick=\"convertToInteractive('df-ae4f675b-3fe2-48a6-adf4-8796664b8ea0')\"\n",
              "              title=\"Convert this dataframe to an interactive table.\"\n",
              "              style=\"display:none;\">\n",
              "        \n",
              "  <svg xmlns=\"http://www.w3.org/2000/svg\" height=\"24px\"viewBox=\"0 0 24 24\"\n",
              "       width=\"24px\">\n",
              "    <path d=\"M0 0h24v24H0V0z\" fill=\"none\"/>\n",
              "    <path d=\"M18.56 5.44l.94 2.06.94-2.06 2.06-.94-2.06-.94-.94-2.06-.94 2.06-2.06.94zm-11 1L8.5 8.5l.94-2.06 2.06-.94-2.06-.94L8.5 2.5l-.94 2.06-2.06.94zm10 10l.94 2.06.94-2.06 2.06-.94-2.06-.94-.94-2.06-.94 2.06-2.06.94z\"/><path d=\"M17.41 7.96l-1.37-1.37c-.4-.4-.92-.59-1.43-.59-.52 0-1.04.2-1.43.59L10.3 9.45l-7.72 7.72c-.78.78-.78 2.05 0 2.83L4 21.41c.39.39.9.59 1.41.59.51 0 1.02-.2 1.41-.59l7.78-7.78 2.81-2.81c.8-.78.8-2.07 0-2.86zM5.41 20L4 18.59l7.72-7.72 1.47 1.35L5.41 20z\"/>\n",
              "  </svg>\n",
              "      </button>\n",
              "      \n",
              "  <style>\n",
              "    .colab-df-container {\n",
              "      display:flex;\n",
              "      flex-wrap:wrap;\n",
              "      gap: 12px;\n",
              "    }\n",
              "\n",
              "    .colab-df-convert {\n",
              "      background-color: #E8F0FE;\n",
              "      border: none;\n",
              "      border-radius: 50%;\n",
              "      cursor: pointer;\n",
              "      display: none;\n",
              "      fill: #1967D2;\n",
              "      height: 32px;\n",
              "      padding: 0 0 0 0;\n",
              "      width: 32px;\n",
              "    }\n",
              "\n",
              "    .colab-df-convert:hover {\n",
              "      background-color: #E2EBFA;\n",
              "      box-shadow: 0px 1px 2px rgba(60, 64, 67, 0.3), 0px 1px 3px 1px rgba(60, 64, 67, 0.15);\n",
              "      fill: #174EA6;\n",
              "    }\n",
              "\n",
              "    [theme=dark] .colab-df-convert {\n",
              "      background-color: #3B4455;\n",
              "      fill: #D2E3FC;\n",
              "    }\n",
              "\n",
              "    [theme=dark] .colab-df-convert:hover {\n",
              "      background-color: #434B5C;\n",
              "      box-shadow: 0px 1px 3px 1px rgba(0, 0, 0, 0.15);\n",
              "      filter: drop-shadow(0px 1px 2px rgba(0, 0, 0, 0.3));\n",
              "      fill: #FFFFFF;\n",
              "    }\n",
              "  </style>\n",
              "\n",
              "      <script>\n",
              "        const buttonEl =\n",
              "          document.querySelector('#df-ae4f675b-3fe2-48a6-adf4-8796664b8ea0 button.colab-df-convert');\n",
              "        buttonEl.style.display =\n",
              "          google.colab.kernel.accessAllowed ? 'block' : 'none';\n",
              "\n",
              "        async function convertToInteractive(key) {\n",
              "          const element = document.querySelector('#df-ae4f675b-3fe2-48a6-adf4-8796664b8ea0');\n",
              "          const dataTable =\n",
              "            await google.colab.kernel.invokeFunction('convertToInteractive',\n",
              "                                                     [key], {});\n",
              "          if (!dataTable) return;\n",
              "\n",
              "          const docLinkHtml = 'Like what you see? Visit the ' +\n",
              "            '<a target=\"_blank\" href=https://colab.research.google.com/notebooks/data_table.ipynb>data table notebook</a>'\n",
              "            + ' to learn more about interactive tables.';\n",
              "          element.innerHTML = '';\n",
              "          dataTable['output_type'] = 'display_data';\n",
              "          await google.colab.output.renderOutput(dataTable, element);\n",
              "          const docLink = document.createElement('div');\n",
              "          docLink.innerHTML = docLinkHtml;\n",
              "          element.appendChild(docLink);\n",
              "        }\n",
              "      </script>\n",
              "    </div>\n",
              "  </div>\n",
              "  "
            ]
          },
          "metadata": {},
          "execution_count": 15
        }
      ],
      "source": [
        "df.drop('continent', axis=1)"
      ]
    },
    {
      "cell_type": "markdown",
      "metadata": {
        "id": "59IWb-btpVcj"
      },
      "source": [
        "The `drop` function takes two parameters:\n",
        "  - The column name\n",
        "  - The axis\n",
        "  \n",
        "By default the value of `axis` is 0\n",
        "\n"
      ]
    },
    {
      "cell_type": "markdown",
      "metadata": {
        "id": "RIGk1xDywkDo"
      },
      "source": [
        "An alternative to the above approach is using the \"columns\" parameter as we did in rename"
      ]
    },
    {
      "cell_type": "code",
      "execution_count": null,
      "metadata": {
        "colab": {
          "base_uri": "https://localhost:8080/",
          "height": 424
        },
        "id": "NMTWb41kwstw",
        "outputId": "2c151ce8-a723-4998-8b29-dab05caf1adc"
      },
      "outputs": [
        {
          "output_type": "execute_result",
          "data": {
            "text/plain": [
              "          Country  year  population  life_exp     gdp_cap\n",
              "0     Afghanistan  1952     8425333    28.801  779.445314\n",
              "1     Afghanistan  1957     9240934    30.332  820.853030\n",
              "2     Afghanistan  1962    10267083    31.997  853.100710\n",
              "3     Afghanistan  1967    11537966    34.020  836.197138\n",
              "4     Afghanistan  1972    13079460    36.088  739.981106\n",
              "...           ...   ...         ...       ...         ...\n",
              "1699     Zimbabwe  1987     9216418    62.351  706.157306\n",
              "1700     Zimbabwe  1992    10704340    60.377  693.420786\n",
              "1701     Zimbabwe  1997    11404948    46.809  792.449960\n",
              "1702     Zimbabwe  2002    11926563    39.989  672.038623\n",
              "1703     Zimbabwe  2007    12311143    43.487  469.709298\n",
              "\n",
              "[1704 rows x 5 columns]"
            ],
            "text/html": [
              "\n",
              "  <div id=\"df-efb25060-5297-4ace-83b2-d8e2f25528e5\">\n",
              "    <div class=\"colab-df-container\">\n",
              "      <div>\n",
              "<style scoped>\n",
              "    .dataframe tbody tr th:only-of-type {\n",
              "        vertical-align: middle;\n",
              "    }\n",
              "\n",
              "    .dataframe tbody tr th {\n",
              "        vertical-align: top;\n",
              "    }\n",
              "\n",
              "    .dataframe thead th {\n",
              "        text-align: right;\n",
              "    }\n",
              "</style>\n",
              "<table border=\"1\" class=\"dataframe\">\n",
              "  <thead>\n",
              "    <tr style=\"text-align: right;\">\n",
              "      <th></th>\n",
              "      <th>Country</th>\n",
              "      <th>year</th>\n",
              "      <th>population</th>\n",
              "      <th>life_exp</th>\n",
              "      <th>gdp_cap</th>\n",
              "    </tr>\n",
              "  </thead>\n",
              "  <tbody>\n",
              "    <tr>\n",
              "      <th>0</th>\n",
              "      <td>Afghanistan</td>\n",
              "      <td>1952</td>\n",
              "      <td>8425333</td>\n",
              "      <td>28.801</td>\n",
              "      <td>779.445314</td>\n",
              "    </tr>\n",
              "    <tr>\n",
              "      <th>1</th>\n",
              "      <td>Afghanistan</td>\n",
              "      <td>1957</td>\n",
              "      <td>9240934</td>\n",
              "      <td>30.332</td>\n",
              "      <td>820.853030</td>\n",
              "    </tr>\n",
              "    <tr>\n",
              "      <th>2</th>\n",
              "      <td>Afghanistan</td>\n",
              "      <td>1962</td>\n",
              "      <td>10267083</td>\n",
              "      <td>31.997</td>\n",
              "      <td>853.100710</td>\n",
              "    </tr>\n",
              "    <tr>\n",
              "      <th>3</th>\n",
              "      <td>Afghanistan</td>\n",
              "      <td>1967</td>\n",
              "      <td>11537966</td>\n",
              "      <td>34.020</td>\n",
              "      <td>836.197138</td>\n",
              "    </tr>\n",
              "    <tr>\n",
              "      <th>4</th>\n",
              "      <td>Afghanistan</td>\n",
              "      <td>1972</td>\n",
              "      <td>13079460</td>\n",
              "      <td>36.088</td>\n",
              "      <td>739.981106</td>\n",
              "    </tr>\n",
              "    <tr>\n",
              "      <th>...</th>\n",
              "      <td>...</td>\n",
              "      <td>...</td>\n",
              "      <td>...</td>\n",
              "      <td>...</td>\n",
              "      <td>...</td>\n",
              "    </tr>\n",
              "    <tr>\n",
              "      <th>1699</th>\n",
              "      <td>Zimbabwe</td>\n",
              "      <td>1987</td>\n",
              "      <td>9216418</td>\n",
              "      <td>62.351</td>\n",
              "      <td>706.157306</td>\n",
              "    </tr>\n",
              "    <tr>\n",
              "      <th>1700</th>\n",
              "      <td>Zimbabwe</td>\n",
              "      <td>1992</td>\n",
              "      <td>10704340</td>\n",
              "      <td>60.377</td>\n",
              "      <td>693.420786</td>\n",
              "    </tr>\n",
              "    <tr>\n",
              "      <th>1701</th>\n",
              "      <td>Zimbabwe</td>\n",
              "      <td>1997</td>\n",
              "      <td>11404948</td>\n",
              "      <td>46.809</td>\n",
              "      <td>792.449960</td>\n",
              "    </tr>\n",
              "    <tr>\n",
              "      <th>1702</th>\n",
              "      <td>Zimbabwe</td>\n",
              "      <td>2002</td>\n",
              "      <td>11926563</td>\n",
              "      <td>39.989</td>\n",
              "      <td>672.038623</td>\n",
              "    </tr>\n",
              "    <tr>\n",
              "      <th>1703</th>\n",
              "      <td>Zimbabwe</td>\n",
              "      <td>2007</td>\n",
              "      <td>12311143</td>\n",
              "      <td>43.487</td>\n",
              "      <td>469.709298</td>\n",
              "    </tr>\n",
              "  </tbody>\n",
              "</table>\n",
              "<p>1704 rows × 5 columns</p>\n",
              "</div>\n",
              "      <button class=\"colab-df-convert\" onclick=\"convertToInteractive('df-efb25060-5297-4ace-83b2-d8e2f25528e5')\"\n",
              "              title=\"Convert this dataframe to an interactive table.\"\n",
              "              style=\"display:none;\">\n",
              "        \n",
              "  <svg xmlns=\"http://www.w3.org/2000/svg\" height=\"24px\"viewBox=\"0 0 24 24\"\n",
              "       width=\"24px\">\n",
              "    <path d=\"M0 0h24v24H0V0z\" fill=\"none\"/>\n",
              "    <path d=\"M18.56 5.44l.94 2.06.94-2.06 2.06-.94-2.06-.94-.94-2.06-.94 2.06-2.06.94zm-11 1L8.5 8.5l.94-2.06 2.06-.94-2.06-.94L8.5 2.5l-.94 2.06-2.06.94zm10 10l.94 2.06.94-2.06 2.06-.94-2.06-.94-.94-2.06-.94 2.06-2.06.94z\"/><path d=\"M17.41 7.96l-1.37-1.37c-.4-.4-.92-.59-1.43-.59-.52 0-1.04.2-1.43.59L10.3 9.45l-7.72 7.72c-.78.78-.78 2.05 0 2.83L4 21.41c.39.39.9.59 1.41.59.51 0 1.02-.2 1.41-.59l7.78-7.78 2.81-2.81c.8-.78.8-2.07 0-2.86zM5.41 20L4 18.59l7.72-7.72 1.47 1.35L5.41 20z\"/>\n",
              "  </svg>\n",
              "      </button>\n",
              "      \n",
              "  <style>\n",
              "    .colab-df-container {\n",
              "      display:flex;\n",
              "      flex-wrap:wrap;\n",
              "      gap: 12px;\n",
              "    }\n",
              "\n",
              "    .colab-df-convert {\n",
              "      background-color: #E8F0FE;\n",
              "      border: none;\n",
              "      border-radius: 50%;\n",
              "      cursor: pointer;\n",
              "      display: none;\n",
              "      fill: #1967D2;\n",
              "      height: 32px;\n",
              "      padding: 0 0 0 0;\n",
              "      width: 32px;\n",
              "    }\n",
              "\n",
              "    .colab-df-convert:hover {\n",
              "      background-color: #E2EBFA;\n",
              "      box-shadow: 0px 1px 2px rgba(60, 64, 67, 0.3), 0px 1px 3px 1px rgba(60, 64, 67, 0.15);\n",
              "      fill: #174EA6;\n",
              "    }\n",
              "\n",
              "    [theme=dark] .colab-df-convert {\n",
              "      background-color: #3B4455;\n",
              "      fill: #D2E3FC;\n",
              "    }\n",
              "\n",
              "    [theme=dark] .colab-df-convert:hover {\n",
              "      background-color: #434B5C;\n",
              "      box-shadow: 0px 1px 3px 1px rgba(0, 0, 0, 0.15);\n",
              "      filter: drop-shadow(0px 1px 2px rgba(0, 0, 0, 0.3));\n",
              "      fill: #FFFFFF;\n",
              "    }\n",
              "  </style>\n",
              "\n",
              "      <script>\n",
              "        const buttonEl =\n",
              "          document.querySelector('#df-efb25060-5297-4ace-83b2-d8e2f25528e5 button.colab-df-convert');\n",
              "        buttonEl.style.display =\n",
              "          google.colab.kernel.accessAllowed ? 'block' : 'none';\n",
              "\n",
              "        async function convertToInteractive(key) {\n",
              "          const element = document.querySelector('#df-efb25060-5297-4ace-83b2-d8e2f25528e5');\n",
              "          const dataTable =\n",
              "            await google.colab.kernel.invokeFunction('convertToInteractive',\n",
              "                                                     [key], {});\n",
              "          if (!dataTable) return;\n",
              "\n",
              "          const docLinkHtml = 'Like what you see? Visit the ' +\n",
              "            '<a target=\"_blank\" href=https://colab.research.google.com/notebooks/data_table.ipynb>data table notebook</a>'\n",
              "            + ' to learn more about interactive tables.';\n",
              "          element.innerHTML = '';\n",
              "          dataTable['output_type'] = 'display_data';\n",
              "          await google.colab.output.renderOutput(dataTable, element);\n",
              "          const docLink = document.createElement('div');\n",
              "          docLink.innerHTML = docLinkHtml;\n",
              "          element.appendChild(docLink);\n",
              "        }\n",
              "      </script>\n",
              "    </div>\n",
              "  </div>\n",
              "  "
            ]
          },
          "metadata": {},
          "execution_count": 16
        }
      ],
      "source": [
        "df.drop(columns=['continent'])"
      ]
    },
    {
      "cell_type": "markdown",
      "metadata": {
        "id": "a83c8258"
      },
      "source": [
        "As you can see, **column `contintent` is dropped**\n",
        "\n",
        "#### Has the column permanently been deleted?"
      ]
    },
    {
      "cell_type": "code",
      "execution_count": null,
      "metadata": {
        "colab": {
          "base_uri": "https://localhost:8080/",
          "height": 206
        },
        "id": "499c5e54",
        "outputId": "c435f768-b323-4a3a-8bc1-fc72ca8d2486",
        "scrolled": true
      },
      "outputs": [
        {
          "output_type": "execute_result",
          "data": {
            "text/plain": [
              "       Country  year  population continent  life_exp     gdp_cap\n",
              "0  Afghanistan  1952     8425333      Asia    28.801  779.445314\n",
              "1  Afghanistan  1957     9240934      Asia    30.332  820.853030\n",
              "2  Afghanistan  1962    10267083      Asia    31.997  853.100710\n",
              "3  Afghanistan  1967    11537966      Asia    34.020  836.197138\n",
              "4  Afghanistan  1972    13079460      Asia    36.088  739.981106"
            ],
            "text/html": [
              "\n",
              "  <div id=\"df-ad63ba75-024b-4134-8b3d-3ef54338d550\">\n",
              "    <div class=\"colab-df-container\">\n",
              "      <div>\n",
              "<style scoped>\n",
              "    .dataframe tbody tr th:only-of-type {\n",
              "        vertical-align: middle;\n",
              "    }\n",
              "\n",
              "    .dataframe tbody tr th {\n",
              "        vertical-align: top;\n",
              "    }\n",
              "\n",
              "    .dataframe thead th {\n",
              "        text-align: right;\n",
              "    }\n",
              "</style>\n",
              "<table border=\"1\" class=\"dataframe\">\n",
              "  <thead>\n",
              "    <tr style=\"text-align: right;\">\n",
              "      <th></th>\n",
              "      <th>Country</th>\n",
              "      <th>year</th>\n",
              "      <th>population</th>\n",
              "      <th>continent</th>\n",
              "      <th>life_exp</th>\n",
              "      <th>gdp_cap</th>\n",
              "    </tr>\n",
              "  </thead>\n",
              "  <tbody>\n",
              "    <tr>\n",
              "      <th>0</th>\n",
              "      <td>Afghanistan</td>\n",
              "      <td>1952</td>\n",
              "      <td>8425333</td>\n",
              "      <td>Asia</td>\n",
              "      <td>28.801</td>\n",
              "      <td>779.445314</td>\n",
              "    </tr>\n",
              "    <tr>\n",
              "      <th>1</th>\n",
              "      <td>Afghanistan</td>\n",
              "      <td>1957</td>\n",
              "      <td>9240934</td>\n",
              "      <td>Asia</td>\n",
              "      <td>30.332</td>\n",
              "      <td>820.853030</td>\n",
              "    </tr>\n",
              "    <tr>\n",
              "      <th>2</th>\n",
              "      <td>Afghanistan</td>\n",
              "      <td>1962</td>\n",
              "      <td>10267083</td>\n",
              "      <td>Asia</td>\n",
              "      <td>31.997</td>\n",
              "      <td>853.100710</td>\n",
              "    </tr>\n",
              "    <tr>\n",
              "      <th>3</th>\n",
              "      <td>Afghanistan</td>\n",
              "      <td>1967</td>\n",
              "      <td>11537966</td>\n",
              "      <td>Asia</td>\n",
              "      <td>34.020</td>\n",
              "      <td>836.197138</td>\n",
              "    </tr>\n",
              "    <tr>\n",
              "      <th>4</th>\n",
              "      <td>Afghanistan</td>\n",
              "      <td>1972</td>\n",
              "      <td>13079460</td>\n",
              "      <td>Asia</td>\n",
              "      <td>36.088</td>\n",
              "      <td>739.981106</td>\n",
              "    </tr>\n",
              "  </tbody>\n",
              "</table>\n",
              "</div>\n",
              "      <button class=\"colab-df-convert\" onclick=\"convertToInteractive('df-ad63ba75-024b-4134-8b3d-3ef54338d550')\"\n",
              "              title=\"Convert this dataframe to an interactive table.\"\n",
              "              style=\"display:none;\">\n",
              "        \n",
              "  <svg xmlns=\"http://www.w3.org/2000/svg\" height=\"24px\"viewBox=\"0 0 24 24\"\n",
              "       width=\"24px\">\n",
              "    <path d=\"M0 0h24v24H0V0z\" fill=\"none\"/>\n",
              "    <path d=\"M18.56 5.44l.94 2.06.94-2.06 2.06-.94-2.06-.94-.94-2.06-.94 2.06-2.06.94zm-11 1L8.5 8.5l.94-2.06 2.06-.94-2.06-.94L8.5 2.5l-.94 2.06-2.06.94zm10 10l.94 2.06.94-2.06 2.06-.94-2.06-.94-.94-2.06-.94 2.06-2.06.94z\"/><path d=\"M17.41 7.96l-1.37-1.37c-.4-.4-.92-.59-1.43-.59-.52 0-1.04.2-1.43.59L10.3 9.45l-7.72 7.72c-.78.78-.78 2.05 0 2.83L4 21.41c.39.39.9.59 1.41.59.51 0 1.02-.2 1.41-.59l7.78-7.78 2.81-2.81c.8-.78.8-2.07 0-2.86zM5.41 20L4 18.59l7.72-7.72 1.47 1.35L5.41 20z\"/>\n",
              "  </svg>\n",
              "      </button>\n",
              "      \n",
              "  <style>\n",
              "    .colab-df-container {\n",
              "      display:flex;\n",
              "      flex-wrap:wrap;\n",
              "      gap: 12px;\n",
              "    }\n",
              "\n",
              "    .colab-df-convert {\n",
              "      background-color: #E8F0FE;\n",
              "      border: none;\n",
              "      border-radius: 50%;\n",
              "      cursor: pointer;\n",
              "      display: none;\n",
              "      fill: #1967D2;\n",
              "      height: 32px;\n",
              "      padding: 0 0 0 0;\n",
              "      width: 32px;\n",
              "    }\n",
              "\n",
              "    .colab-df-convert:hover {\n",
              "      background-color: #E2EBFA;\n",
              "      box-shadow: 0px 1px 2px rgba(60, 64, 67, 0.3), 0px 1px 3px 1px rgba(60, 64, 67, 0.15);\n",
              "      fill: #174EA6;\n",
              "    }\n",
              "\n",
              "    [theme=dark] .colab-df-convert {\n",
              "      background-color: #3B4455;\n",
              "      fill: #D2E3FC;\n",
              "    }\n",
              "\n",
              "    [theme=dark] .colab-df-convert:hover {\n",
              "      background-color: #434B5C;\n",
              "      box-shadow: 0px 1px 3px 1px rgba(0, 0, 0, 0.15);\n",
              "      filter: drop-shadow(0px 1px 2px rgba(0, 0, 0, 0.3));\n",
              "      fill: #FFFFFF;\n",
              "    }\n",
              "  </style>\n",
              "\n",
              "      <script>\n",
              "        const buttonEl =\n",
              "          document.querySelector('#df-ad63ba75-024b-4134-8b3d-3ef54338d550 button.colab-df-convert');\n",
              "        buttonEl.style.display =\n",
              "          google.colab.kernel.accessAllowed ? 'block' : 'none';\n",
              "\n",
              "        async function convertToInteractive(key) {\n",
              "          const element = document.querySelector('#df-ad63ba75-024b-4134-8b3d-3ef54338d550');\n",
              "          const dataTable =\n",
              "            await google.colab.kernel.invokeFunction('convertToInteractive',\n",
              "                                                     [key], {});\n",
              "          if (!dataTable) return;\n",
              "\n",
              "          const docLinkHtml = 'Like what you see? Visit the ' +\n",
              "            '<a target=\"_blank\" href=https://colab.research.google.com/notebooks/data_table.ipynb>data table notebook</a>'\n",
              "            + ' to learn more about interactive tables.';\n",
              "          element.innerHTML = '';\n",
              "          dataTable['output_type'] = 'display_data';\n",
              "          await google.colab.output.renderOutput(dataTable, element);\n",
              "          const docLink = document.createElement('div');\n",
              "          docLink.innerHTML = docLinkHtml;\n",
              "          element.appendChild(docLink);\n",
              "        }\n",
              "      </script>\n",
              "    </div>\n",
              "  </div>\n",
              "  "
            ]
          },
          "metadata": {},
          "execution_count": 17
        }
      ],
      "source": [
        "df.head()"
      ]
    },
    {
      "cell_type": "markdown",
      "metadata": {
        "id": "3b7ef5c0"
      },
      "source": [
        "NO, the **column `continent` is still there**\n",
        "\n",
        "**Do you see what's happening here?**\n",
        "\n",
        "We only got a **view of dataframe with column `continent` dropped**\n",
        "\n",
        "#### How can we permanently drop the column?\n",
        "\n",
        "We can either **re-assign** it\n",
        "- `df = df.drop('continent', axis=1)`\n",
        "\n",
        "  OR\n",
        "    \n",
        "- We can **set parameter `inplace=True`**\n",
        "    \n",
        "By **default, `inplace=False`**"
      ]
    },
    {
      "cell_type": "code",
      "execution_count": null,
      "metadata": {
        "id": "0787f6de"
      },
      "outputs": [],
      "source": [
        "df.drop('continent', axis=1, inplace=True)"
      ]
    },
    {
      "cell_type": "code",
      "execution_count": null,
      "metadata": {
        "colab": {
          "base_uri": "https://localhost:8080/",
          "height": 206
        },
        "id": "0c62f9e5",
        "outputId": "229a4850-4a32-4a93-ffb5-c85f01eb7dfc",
        "scrolled": true
      },
      "outputs": [
        {
          "output_type": "execute_result",
          "data": {
            "text/plain": [
              "       Country  year  population  life_exp     gdp_cap\n",
              "0  Afghanistan  1952     8425333    28.801  779.445314\n",
              "1  Afghanistan  1957     9240934    30.332  820.853030\n",
              "2  Afghanistan  1962    10267083    31.997  853.100710\n",
              "3  Afghanistan  1967    11537966    34.020  836.197138\n",
              "4  Afghanistan  1972    13079460    36.088  739.981106"
            ],
            "text/html": [
              "\n",
              "  <div id=\"df-724e7cb1-77da-43b2-b1fb-4ecb27de98d1\">\n",
              "    <div class=\"colab-df-container\">\n",
              "      <div>\n",
              "<style scoped>\n",
              "    .dataframe tbody tr th:only-of-type {\n",
              "        vertical-align: middle;\n",
              "    }\n",
              "\n",
              "    .dataframe tbody tr th {\n",
              "        vertical-align: top;\n",
              "    }\n",
              "\n",
              "    .dataframe thead th {\n",
              "        text-align: right;\n",
              "    }\n",
              "</style>\n",
              "<table border=\"1\" class=\"dataframe\">\n",
              "  <thead>\n",
              "    <tr style=\"text-align: right;\">\n",
              "      <th></th>\n",
              "      <th>Country</th>\n",
              "      <th>year</th>\n",
              "      <th>population</th>\n",
              "      <th>life_exp</th>\n",
              "      <th>gdp_cap</th>\n",
              "    </tr>\n",
              "  </thead>\n",
              "  <tbody>\n",
              "    <tr>\n",
              "      <th>0</th>\n",
              "      <td>Afghanistan</td>\n",
              "      <td>1952</td>\n",
              "      <td>8425333</td>\n",
              "      <td>28.801</td>\n",
              "      <td>779.445314</td>\n",
              "    </tr>\n",
              "    <tr>\n",
              "      <th>1</th>\n",
              "      <td>Afghanistan</td>\n",
              "      <td>1957</td>\n",
              "      <td>9240934</td>\n",
              "      <td>30.332</td>\n",
              "      <td>820.853030</td>\n",
              "    </tr>\n",
              "    <tr>\n",
              "      <th>2</th>\n",
              "      <td>Afghanistan</td>\n",
              "      <td>1962</td>\n",
              "      <td>10267083</td>\n",
              "      <td>31.997</td>\n",
              "      <td>853.100710</td>\n",
              "    </tr>\n",
              "    <tr>\n",
              "      <th>3</th>\n",
              "      <td>Afghanistan</td>\n",
              "      <td>1967</td>\n",
              "      <td>11537966</td>\n",
              "      <td>34.020</td>\n",
              "      <td>836.197138</td>\n",
              "    </tr>\n",
              "    <tr>\n",
              "      <th>4</th>\n",
              "      <td>Afghanistan</td>\n",
              "      <td>1972</td>\n",
              "      <td>13079460</td>\n",
              "      <td>36.088</td>\n",
              "      <td>739.981106</td>\n",
              "    </tr>\n",
              "  </tbody>\n",
              "</table>\n",
              "</div>\n",
              "      <button class=\"colab-df-convert\" onclick=\"convertToInteractive('df-724e7cb1-77da-43b2-b1fb-4ecb27de98d1')\"\n",
              "              title=\"Convert this dataframe to an interactive table.\"\n",
              "              style=\"display:none;\">\n",
              "        \n",
              "  <svg xmlns=\"http://www.w3.org/2000/svg\" height=\"24px\"viewBox=\"0 0 24 24\"\n",
              "       width=\"24px\">\n",
              "    <path d=\"M0 0h24v24H0V0z\" fill=\"none\"/>\n",
              "    <path d=\"M18.56 5.44l.94 2.06.94-2.06 2.06-.94-2.06-.94-.94-2.06-.94 2.06-2.06.94zm-11 1L8.5 8.5l.94-2.06 2.06-.94-2.06-.94L8.5 2.5l-.94 2.06-2.06.94zm10 10l.94 2.06.94-2.06 2.06-.94-2.06-.94-.94-2.06-.94 2.06-2.06.94z\"/><path d=\"M17.41 7.96l-1.37-1.37c-.4-.4-.92-.59-1.43-.59-.52 0-1.04.2-1.43.59L10.3 9.45l-7.72 7.72c-.78.78-.78 2.05 0 2.83L4 21.41c.39.39.9.59 1.41.59.51 0 1.02-.2 1.41-.59l7.78-7.78 2.81-2.81c.8-.78.8-2.07 0-2.86zM5.41 20L4 18.59l7.72-7.72 1.47 1.35L5.41 20z\"/>\n",
              "  </svg>\n",
              "      </button>\n",
              "      \n",
              "  <style>\n",
              "    .colab-df-container {\n",
              "      display:flex;\n",
              "      flex-wrap:wrap;\n",
              "      gap: 12px;\n",
              "    }\n",
              "\n",
              "    .colab-df-convert {\n",
              "      background-color: #E8F0FE;\n",
              "      border: none;\n",
              "      border-radius: 50%;\n",
              "      cursor: pointer;\n",
              "      display: none;\n",
              "      fill: #1967D2;\n",
              "      height: 32px;\n",
              "      padding: 0 0 0 0;\n",
              "      width: 32px;\n",
              "    }\n",
              "\n",
              "    .colab-df-convert:hover {\n",
              "      background-color: #E2EBFA;\n",
              "      box-shadow: 0px 1px 2px rgba(60, 64, 67, 0.3), 0px 1px 3px 1px rgba(60, 64, 67, 0.15);\n",
              "      fill: #174EA6;\n",
              "    }\n",
              "\n",
              "    [theme=dark] .colab-df-convert {\n",
              "      background-color: #3B4455;\n",
              "      fill: #D2E3FC;\n",
              "    }\n",
              "\n",
              "    [theme=dark] .colab-df-convert:hover {\n",
              "      background-color: #434B5C;\n",
              "      box-shadow: 0px 1px 3px 1px rgba(0, 0, 0, 0.15);\n",
              "      filter: drop-shadow(0px 1px 2px rgba(0, 0, 0, 0.3));\n",
              "      fill: #FFFFFF;\n",
              "    }\n",
              "  </style>\n",
              "\n",
              "      <script>\n",
              "        const buttonEl =\n",
              "          document.querySelector('#df-724e7cb1-77da-43b2-b1fb-4ecb27de98d1 button.colab-df-convert');\n",
              "        buttonEl.style.display =\n",
              "          google.colab.kernel.accessAllowed ? 'block' : 'none';\n",
              "\n",
              "        async function convertToInteractive(key) {\n",
              "          const element = document.querySelector('#df-724e7cb1-77da-43b2-b1fb-4ecb27de98d1');\n",
              "          const dataTable =\n",
              "            await google.colab.kernel.invokeFunction('convertToInteractive',\n",
              "                                                     [key], {});\n",
              "          if (!dataTable) return;\n",
              "\n",
              "          const docLinkHtml = 'Like what you see? Visit the ' +\n",
              "            '<a target=\"_blank\" href=https://colab.research.google.com/notebooks/data_table.ipynb>data table notebook</a>'\n",
              "            + ' to learn more about interactive tables.';\n",
              "          element.innerHTML = '';\n",
              "          dataTable['output_type'] = 'display_data';\n",
              "          await google.colab.output.renderOutput(dataTable, element);\n",
              "          const docLink = document.createElement('div');\n",
              "          docLink.innerHTML = docLinkHtml;\n",
              "          element.appendChild(docLink);\n",
              "        }\n",
              "      </script>\n",
              "    </div>\n",
              "  </div>\n",
              "  "
            ]
          },
          "metadata": {},
          "execution_count": 19
        }
      ],
      "source": [
        "df.head() #we print the head to check"
      ]
    },
    {
      "cell_type": "markdown",
      "metadata": {
        "id": "f29c7c10"
      },
      "source": [
        "Now we can see the column `continent` is permanently dropped"
      ]
    },
    {
      "cell_type": "markdown",
      "metadata": {
        "id": "tGp2zFb4LRWK"
      },
      "source": [
        "### Now similarly, what if we want to create a new column?\n",
        "\n",
        "We can either\n",
        "- use values from **existing columns**\n",
        "\n",
        "OR\n",
        "- create our **own values**\n",
        "\n",
        "#### How to create a column using values from an existing column?"
      ]
    },
    {
      "cell_type": "code",
      "execution_count": null,
      "metadata": {
        "colab": {
          "base_uri": "https://localhost:8080/",
          "height": 206
        },
        "id": "TcuGYJaD7nY-",
        "outputId": "5655d89b-db41-4762-d8ce-f719408967cd"
      },
      "outputs": [
        {
          "output_type": "execute_result",
          "data": {
            "text/plain": [
              "       Country  year  population  life_exp     gdp_cap  year+7\n",
              "0  Afghanistan  1952     8425333    28.801  779.445314    1959\n",
              "1  Afghanistan  1957     9240934    30.332  820.853030    1964\n",
              "2  Afghanistan  1962    10267083    31.997  853.100710    1969\n",
              "3  Afghanistan  1967    11537966    34.020  836.197138    1974\n",
              "4  Afghanistan  1972    13079460    36.088  739.981106    1979"
            ],
            "text/html": [
              "\n",
              "  <div id=\"df-43162340-8ac3-4a43-bb35-fb2fe0dcf6cd\">\n",
              "    <div class=\"colab-df-container\">\n",
              "      <div>\n",
              "<style scoped>\n",
              "    .dataframe tbody tr th:only-of-type {\n",
              "        vertical-align: middle;\n",
              "    }\n",
              "\n",
              "    .dataframe tbody tr th {\n",
              "        vertical-align: top;\n",
              "    }\n",
              "\n",
              "    .dataframe thead th {\n",
              "        text-align: right;\n",
              "    }\n",
              "</style>\n",
              "<table border=\"1\" class=\"dataframe\">\n",
              "  <thead>\n",
              "    <tr style=\"text-align: right;\">\n",
              "      <th></th>\n",
              "      <th>Country</th>\n",
              "      <th>year</th>\n",
              "      <th>population</th>\n",
              "      <th>life_exp</th>\n",
              "      <th>gdp_cap</th>\n",
              "      <th>year+7</th>\n",
              "    </tr>\n",
              "  </thead>\n",
              "  <tbody>\n",
              "    <tr>\n",
              "      <th>0</th>\n",
              "      <td>Afghanistan</td>\n",
              "      <td>1952</td>\n",
              "      <td>8425333</td>\n",
              "      <td>28.801</td>\n",
              "      <td>779.445314</td>\n",
              "      <td>1959</td>\n",
              "    </tr>\n",
              "    <tr>\n",
              "      <th>1</th>\n",
              "      <td>Afghanistan</td>\n",
              "      <td>1957</td>\n",
              "      <td>9240934</td>\n",
              "      <td>30.332</td>\n",
              "      <td>820.853030</td>\n",
              "      <td>1964</td>\n",
              "    </tr>\n",
              "    <tr>\n",
              "      <th>2</th>\n",
              "      <td>Afghanistan</td>\n",
              "      <td>1962</td>\n",
              "      <td>10267083</td>\n",
              "      <td>31.997</td>\n",
              "      <td>853.100710</td>\n",
              "      <td>1969</td>\n",
              "    </tr>\n",
              "    <tr>\n",
              "      <th>3</th>\n",
              "      <td>Afghanistan</td>\n",
              "      <td>1967</td>\n",
              "      <td>11537966</td>\n",
              "      <td>34.020</td>\n",
              "      <td>836.197138</td>\n",
              "      <td>1974</td>\n",
              "    </tr>\n",
              "    <tr>\n",
              "      <th>4</th>\n",
              "      <td>Afghanistan</td>\n",
              "      <td>1972</td>\n",
              "      <td>13079460</td>\n",
              "      <td>36.088</td>\n",
              "      <td>739.981106</td>\n",
              "      <td>1979</td>\n",
              "    </tr>\n",
              "  </tbody>\n",
              "</table>\n",
              "</div>\n",
              "      <button class=\"colab-df-convert\" onclick=\"convertToInteractive('df-43162340-8ac3-4a43-bb35-fb2fe0dcf6cd')\"\n",
              "              title=\"Convert this dataframe to an interactive table.\"\n",
              "              style=\"display:none;\">\n",
              "        \n",
              "  <svg xmlns=\"http://www.w3.org/2000/svg\" height=\"24px\"viewBox=\"0 0 24 24\"\n",
              "       width=\"24px\">\n",
              "    <path d=\"M0 0h24v24H0V0z\" fill=\"none\"/>\n",
              "    <path d=\"M18.56 5.44l.94 2.06.94-2.06 2.06-.94-2.06-.94-.94-2.06-.94 2.06-2.06.94zm-11 1L8.5 8.5l.94-2.06 2.06-.94-2.06-.94L8.5 2.5l-.94 2.06-2.06.94zm10 10l.94 2.06.94-2.06 2.06-.94-2.06-.94-.94-2.06-.94 2.06-2.06.94z\"/><path d=\"M17.41 7.96l-1.37-1.37c-.4-.4-.92-.59-1.43-.59-.52 0-1.04.2-1.43.59L10.3 9.45l-7.72 7.72c-.78.78-.78 2.05 0 2.83L4 21.41c.39.39.9.59 1.41.59.51 0 1.02-.2 1.41-.59l7.78-7.78 2.81-2.81c.8-.78.8-2.07 0-2.86zM5.41 20L4 18.59l7.72-7.72 1.47 1.35L5.41 20z\"/>\n",
              "  </svg>\n",
              "      </button>\n",
              "      \n",
              "  <style>\n",
              "    .colab-df-container {\n",
              "      display:flex;\n",
              "      flex-wrap:wrap;\n",
              "      gap: 12px;\n",
              "    }\n",
              "\n",
              "    .colab-df-convert {\n",
              "      background-color: #E8F0FE;\n",
              "      border: none;\n",
              "      border-radius: 50%;\n",
              "      cursor: pointer;\n",
              "      display: none;\n",
              "      fill: #1967D2;\n",
              "      height: 32px;\n",
              "      padding: 0 0 0 0;\n",
              "      width: 32px;\n",
              "    }\n",
              "\n",
              "    .colab-df-convert:hover {\n",
              "      background-color: #E2EBFA;\n",
              "      box-shadow: 0px 1px 2px rgba(60, 64, 67, 0.3), 0px 1px 3px 1px rgba(60, 64, 67, 0.15);\n",
              "      fill: #174EA6;\n",
              "    }\n",
              "\n",
              "    [theme=dark] .colab-df-convert {\n",
              "      background-color: #3B4455;\n",
              "      fill: #D2E3FC;\n",
              "    }\n",
              "\n",
              "    [theme=dark] .colab-df-convert:hover {\n",
              "      background-color: #434B5C;\n",
              "      box-shadow: 0px 1px 3px 1px rgba(0, 0, 0, 0.15);\n",
              "      filter: drop-shadow(0px 1px 2px rgba(0, 0, 0, 0.3));\n",
              "      fill: #FFFFFF;\n",
              "    }\n",
              "  </style>\n",
              "\n",
              "      <script>\n",
              "        const buttonEl =\n",
              "          document.querySelector('#df-43162340-8ac3-4a43-bb35-fb2fe0dcf6cd button.colab-df-convert');\n",
              "        buttonEl.style.display =\n",
              "          google.colab.kernel.accessAllowed ? 'block' : 'none';\n",
              "\n",
              "        async function convertToInteractive(key) {\n",
              "          const element = document.querySelector('#df-43162340-8ac3-4a43-bb35-fb2fe0dcf6cd');\n",
              "          const dataTable =\n",
              "            await google.colab.kernel.invokeFunction('convertToInteractive',\n",
              "                                                     [key], {});\n",
              "          if (!dataTable) return;\n",
              "\n",
              "          const docLinkHtml = 'Like what you see? Visit the ' +\n",
              "            '<a target=\"_blank\" href=https://colab.research.google.com/notebooks/data_table.ipynb>data table notebook</a>'\n",
              "            + ' to learn more about interactive tables.';\n",
              "          element.innerHTML = '';\n",
              "          dataTable['output_type'] = 'display_data';\n",
              "          await google.colab.output.renderOutput(dataTable, element);\n",
              "          const docLink = document.createElement('div');\n",
              "          docLink.innerHTML = docLinkHtml;\n",
              "          element.appendChild(docLink);\n",
              "        }\n",
              "      </script>\n",
              "    </div>\n",
              "  </div>\n",
              "  "
            ]
          },
          "metadata": {},
          "execution_count": 20
        }
      ],
      "source": [
        "df[\"year+7\"] = df[\"year\"] + 7\n",
        "df.head()"
      ]
    },
    {
      "cell_type": "markdown",
      "metadata": {
        "id": "0vNRpIKq7v-l"
      },
      "source": [
        "As we see, a new column `year+7` is created from the column `year`\n",
        "\n",
        "We can also use values from two columns to form a new column\n",
        "\n",
        "#### Which two columns can we use to create a new column `gdp`?"
      ]
    },
    {
      "cell_type": "code",
      "execution_count": null,
      "metadata": {
        "colab": {
          "base_uri": "https://localhost:8080/",
          "height": 206
        },
        "id": "Lpmi2gl_8pni",
        "outputId": "f9ba4938-e6af-4853-bd11-687858f306a3"
      },
      "outputs": [
        {
          "output_type": "execute_result",
          "data": {
            "text/plain": [
              "       Country  year  population  life_exp     gdp_cap  year+7           gdp\n",
              "0  Afghanistan  1952     8425333    28.801  779.445314    1959  6.567086e+09\n",
              "1  Afghanistan  1957     9240934    30.332  820.853030    1964  7.585449e+09\n",
              "2  Afghanistan  1962    10267083    31.997  853.100710    1969  8.758856e+09\n",
              "3  Afghanistan  1967    11537966    34.020  836.197138    1974  9.648014e+09\n",
              "4  Afghanistan  1972    13079460    36.088  739.981106    1979  9.678553e+09"
            ],
            "text/html": [
              "\n",
              "  <div id=\"df-a4e770ea-2d44-406e-8e17-64962451d88d\">\n",
              "    <div class=\"colab-df-container\">\n",
              "      <div>\n",
              "<style scoped>\n",
              "    .dataframe tbody tr th:only-of-type {\n",
              "        vertical-align: middle;\n",
              "    }\n",
              "\n",
              "    .dataframe tbody tr th {\n",
              "        vertical-align: top;\n",
              "    }\n",
              "\n",
              "    .dataframe thead th {\n",
              "        text-align: right;\n",
              "    }\n",
              "</style>\n",
              "<table border=\"1\" class=\"dataframe\">\n",
              "  <thead>\n",
              "    <tr style=\"text-align: right;\">\n",
              "      <th></th>\n",
              "      <th>Country</th>\n",
              "      <th>year</th>\n",
              "      <th>population</th>\n",
              "      <th>life_exp</th>\n",
              "      <th>gdp_cap</th>\n",
              "      <th>year+7</th>\n",
              "      <th>gdp</th>\n",
              "    </tr>\n",
              "  </thead>\n",
              "  <tbody>\n",
              "    <tr>\n",
              "      <th>0</th>\n",
              "      <td>Afghanistan</td>\n",
              "      <td>1952</td>\n",
              "      <td>8425333</td>\n",
              "      <td>28.801</td>\n",
              "      <td>779.445314</td>\n",
              "      <td>1959</td>\n",
              "      <td>6.567086e+09</td>\n",
              "    </tr>\n",
              "    <tr>\n",
              "      <th>1</th>\n",
              "      <td>Afghanistan</td>\n",
              "      <td>1957</td>\n",
              "      <td>9240934</td>\n",
              "      <td>30.332</td>\n",
              "      <td>820.853030</td>\n",
              "      <td>1964</td>\n",
              "      <td>7.585449e+09</td>\n",
              "    </tr>\n",
              "    <tr>\n",
              "      <th>2</th>\n",
              "      <td>Afghanistan</td>\n",
              "      <td>1962</td>\n",
              "      <td>10267083</td>\n",
              "      <td>31.997</td>\n",
              "      <td>853.100710</td>\n",
              "      <td>1969</td>\n",
              "      <td>8.758856e+09</td>\n",
              "    </tr>\n",
              "    <tr>\n",
              "      <th>3</th>\n",
              "      <td>Afghanistan</td>\n",
              "      <td>1967</td>\n",
              "      <td>11537966</td>\n",
              "      <td>34.020</td>\n",
              "      <td>836.197138</td>\n",
              "      <td>1974</td>\n",
              "      <td>9.648014e+09</td>\n",
              "    </tr>\n",
              "    <tr>\n",
              "      <th>4</th>\n",
              "      <td>Afghanistan</td>\n",
              "      <td>1972</td>\n",
              "      <td>13079460</td>\n",
              "      <td>36.088</td>\n",
              "      <td>739.981106</td>\n",
              "      <td>1979</td>\n",
              "      <td>9.678553e+09</td>\n",
              "    </tr>\n",
              "  </tbody>\n",
              "</table>\n",
              "</div>\n",
              "      <button class=\"colab-df-convert\" onclick=\"convertToInteractive('df-a4e770ea-2d44-406e-8e17-64962451d88d')\"\n",
              "              title=\"Convert this dataframe to an interactive table.\"\n",
              "              style=\"display:none;\">\n",
              "        \n",
              "  <svg xmlns=\"http://www.w3.org/2000/svg\" height=\"24px\"viewBox=\"0 0 24 24\"\n",
              "       width=\"24px\">\n",
              "    <path d=\"M0 0h24v24H0V0z\" fill=\"none\"/>\n",
              "    <path d=\"M18.56 5.44l.94 2.06.94-2.06 2.06-.94-2.06-.94-.94-2.06-.94 2.06-2.06.94zm-11 1L8.5 8.5l.94-2.06 2.06-.94-2.06-.94L8.5 2.5l-.94 2.06-2.06.94zm10 10l.94 2.06.94-2.06 2.06-.94-2.06-.94-.94-2.06-.94 2.06-2.06.94z\"/><path d=\"M17.41 7.96l-1.37-1.37c-.4-.4-.92-.59-1.43-.59-.52 0-1.04.2-1.43.59L10.3 9.45l-7.72 7.72c-.78.78-.78 2.05 0 2.83L4 21.41c.39.39.9.59 1.41.59.51 0 1.02-.2 1.41-.59l7.78-7.78 2.81-2.81c.8-.78.8-2.07 0-2.86zM5.41 20L4 18.59l7.72-7.72 1.47 1.35L5.41 20z\"/>\n",
              "  </svg>\n",
              "      </button>\n",
              "      \n",
              "  <style>\n",
              "    .colab-df-container {\n",
              "      display:flex;\n",
              "      flex-wrap:wrap;\n",
              "      gap: 12px;\n",
              "    }\n",
              "\n",
              "    .colab-df-convert {\n",
              "      background-color: #E8F0FE;\n",
              "      border: none;\n",
              "      border-radius: 50%;\n",
              "      cursor: pointer;\n",
              "      display: none;\n",
              "      fill: #1967D2;\n",
              "      height: 32px;\n",
              "      padding: 0 0 0 0;\n",
              "      width: 32px;\n",
              "    }\n",
              "\n",
              "    .colab-df-convert:hover {\n",
              "      background-color: #E2EBFA;\n",
              "      box-shadow: 0px 1px 2px rgba(60, 64, 67, 0.3), 0px 1px 3px 1px rgba(60, 64, 67, 0.15);\n",
              "      fill: #174EA6;\n",
              "    }\n",
              "\n",
              "    [theme=dark] .colab-df-convert {\n",
              "      background-color: #3B4455;\n",
              "      fill: #D2E3FC;\n",
              "    }\n",
              "\n",
              "    [theme=dark] .colab-df-convert:hover {\n",
              "      background-color: #434B5C;\n",
              "      box-shadow: 0px 1px 3px 1px rgba(0, 0, 0, 0.15);\n",
              "      filter: drop-shadow(0px 1px 2px rgba(0, 0, 0, 0.3));\n",
              "      fill: #FFFFFF;\n",
              "    }\n",
              "  </style>\n",
              "\n",
              "      <script>\n",
              "        const buttonEl =\n",
              "          document.querySelector('#df-a4e770ea-2d44-406e-8e17-64962451d88d button.colab-df-convert');\n",
              "        buttonEl.style.display =\n",
              "          google.colab.kernel.accessAllowed ? 'block' : 'none';\n",
              "\n",
              "        async function convertToInteractive(key) {\n",
              "          const element = document.querySelector('#df-a4e770ea-2d44-406e-8e17-64962451d88d');\n",
              "          const dataTable =\n",
              "            await google.colab.kernel.invokeFunction('convertToInteractive',\n",
              "                                                     [key], {});\n",
              "          if (!dataTable) return;\n",
              "\n",
              "          const docLinkHtml = 'Like what you see? Visit the ' +\n",
              "            '<a target=\"_blank\" href=https://colab.research.google.com/notebooks/data_table.ipynb>data table notebook</a>'\n",
              "            + ' to learn more about interactive tables.';\n",
              "          element.innerHTML = '';\n",
              "          dataTable['output_type'] = 'display_data';\n",
              "          await google.colab.output.renderOutput(dataTable, element);\n",
              "          const docLink = document.createElement('div');\n",
              "          docLink.innerHTML = docLinkHtml;\n",
              "          element.appendChild(docLink);\n",
              "        }\n",
              "      </script>\n",
              "    </div>\n",
              "  </div>\n",
              "  "
            ]
          },
          "metadata": {},
          "execution_count": 21
        }
      ],
      "source": [
        "df['gdp']=df['gdp_cap'] * df['population']\n",
        "df.head()"
      ]
    },
    {
      "cell_type": "markdown",
      "metadata": {
        "id": "28e4ca6c"
      },
      "source": [
        "#### As you can see\n",
        "\n",
        "- An **additional column** has been **created**\n",
        "\n",
        "- **Values** in this column are **product of respective values in `gdp_cap` and `population`**\n",
        "\n",
        "\n",
        "#### What other operations we can use?\n",
        "\n",
        "Subtraction, Addition, etc."
      ]
    },
    {
      "cell_type": "markdown",
      "metadata": {
        "id": "3563bab2"
      },
      "source": [
        "### How can we create a new column from our own values?\n",
        "\n",
        "- We can **create a list**\n",
        "\n",
        "OR\n",
        "\n",
        "- We can **create a Pandas Series** from a list/numpy array for our new column"
      ]
    },
    {
      "cell_type": "code",
      "execution_count": null,
      "metadata": {
        "colab": {
          "base_uri": "https://localhost:8080/",
          "height": 424
        },
        "id": "0863d49f",
        "outputId": "ca53675f-5ced-4240-945b-3c09260ea6a4"
      },
      "outputs": [
        {
          "output_type": "execute_result",
          "data": {
            "text/plain": [
              "          Country  year  population  life_exp     gdp_cap  year+7  \\\n",
              "0     Afghanistan  1952     8425333    28.801  779.445314    1959   \n",
              "1     Afghanistan  1957     9240934    30.332  820.853030    1964   \n",
              "2     Afghanistan  1962    10267083    31.997  853.100710    1969   \n",
              "3     Afghanistan  1967    11537966    34.020  836.197138    1974   \n",
              "4     Afghanistan  1972    13079460    36.088  739.981106    1979   \n",
              "...           ...   ...         ...       ...         ...     ...   \n",
              "1699     Zimbabwe  1987     9216418    62.351  706.157306    1994   \n",
              "1700     Zimbabwe  1992    10704340    60.377  693.420786    1999   \n",
              "1701     Zimbabwe  1997    11404948    46.809  792.449960    2004   \n",
              "1702     Zimbabwe  2002    11926563    39.989  672.038623    2009   \n",
              "1703     Zimbabwe  2007    12311143    43.487  469.709298    2014   \n",
              "\n",
              "               gdp   Own  \n",
              "0     6.567086e+09     0  \n",
              "1     7.585449e+09     1  \n",
              "2     8.758856e+09     2  \n",
              "3     9.648014e+09     3  \n",
              "4     9.678553e+09     4  \n",
              "...            ...   ...  \n",
              "1699  6.508241e+09  1699  \n",
              "1700  7.422612e+09  1700  \n",
              "1701  9.037851e+09  1701  \n",
              "1702  8.015111e+09  1702  \n",
              "1703  5.782658e+09  1703  \n",
              "\n",
              "[1704 rows x 8 columns]"
            ],
            "text/html": [
              "\n",
              "  <div id=\"df-39f0647b-2aed-42ee-9829-5defd06019db\">\n",
              "    <div class=\"colab-df-container\">\n",
              "      <div>\n",
              "<style scoped>\n",
              "    .dataframe tbody tr th:only-of-type {\n",
              "        vertical-align: middle;\n",
              "    }\n",
              "\n",
              "    .dataframe tbody tr th {\n",
              "        vertical-align: top;\n",
              "    }\n",
              "\n",
              "    .dataframe thead th {\n",
              "        text-align: right;\n",
              "    }\n",
              "</style>\n",
              "<table border=\"1\" class=\"dataframe\">\n",
              "  <thead>\n",
              "    <tr style=\"text-align: right;\">\n",
              "      <th></th>\n",
              "      <th>Country</th>\n",
              "      <th>year</th>\n",
              "      <th>population</th>\n",
              "      <th>life_exp</th>\n",
              "      <th>gdp_cap</th>\n",
              "      <th>year+7</th>\n",
              "      <th>gdp</th>\n",
              "      <th>Own</th>\n",
              "    </tr>\n",
              "  </thead>\n",
              "  <tbody>\n",
              "    <tr>\n",
              "      <th>0</th>\n",
              "      <td>Afghanistan</td>\n",
              "      <td>1952</td>\n",
              "      <td>8425333</td>\n",
              "      <td>28.801</td>\n",
              "      <td>779.445314</td>\n",
              "      <td>1959</td>\n",
              "      <td>6.567086e+09</td>\n",
              "      <td>0</td>\n",
              "    </tr>\n",
              "    <tr>\n",
              "      <th>1</th>\n",
              "      <td>Afghanistan</td>\n",
              "      <td>1957</td>\n",
              "      <td>9240934</td>\n",
              "      <td>30.332</td>\n",
              "      <td>820.853030</td>\n",
              "      <td>1964</td>\n",
              "      <td>7.585449e+09</td>\n",
              "      <td>1</td>\n",
              "    </tr>\n",
              "    <tr>\n",
              "      <th>2</th>\n",
              "      <td>Afghanistan</td>\n",
              "      <td>1962</td>\n",
              "      <td>10267083</td>\n",
              "      <td>31.997</td>\n",
              "      <td>853.100710</td>\n",
              "      <td>1969</td>\n",
              "      <td>8.758856e+09</td>\n",
              "      <td>2</td>\n",
              "    </tr>\n",
              "    <tr>\n",
              "      <th>3</th>\n",
              "      <td>Afghanistan</td>\n",
              "      <td>1967</td>\n",
              "      <td>11537966</td>\n",
              "      <td>34.020</td>\n",
              "      <td>836.197138</td>\n",
              "      <td>1974</td>\n",
              "      <td>9.648014e+09</td>\n",
              "      <td>3</td>\n",
              "    </tr>\n",
              "    <tr>\n",
              "      <th>4</th>\n",
              "      <td>Afghanistan</td>\n",
              "      <td>1972</td>\n",
              "      <td>13079460</td>\n",
              "      <td>36.088</td>\n",
              "      <td>739.981106</td>\n",
              "      <td>1979</td>\n",
              "      <td>9.678553e+09</td>\n",
              "      <td>4</td>\n",
              "    </tr>\n",
              "    <tr>\n",
              "      <th>...</th>\n",
              "      <td>...</td>\n",
              "      <td>...</td>\n",
              "      <td>...</td>\n",
              "      <td>...</td>\n",
              "      <td>...</td>\n",
              "      <td>...</td>\n",
              "      <td>...</td>\n",
              "      <td>...</td>\n",
              "    </tr>\n",
              "    <tr>\n",
              "      <th>1699</th>\n",
              "      <td>Zimbabwe</td>\n",
              "      <td>1987</td>\n",
              "      <td>9216418</td>\n",
              "      <td>62.351</td>\n",
              "      <td>706.157306</td>\n",
              "      <td>1994</td>\n",
              "      <td>6.508241e+09</td>\n",
              "      <td>1699</td>\n",
              "    </tr>\n",
              "    <tr>\n",
              "      <th>1700</th>\n",
              "      <td>Zimbabwe</td>\n",
              "      <td>1992</td>\n",
              "      <td>10704340</td>\n",
              "      <td>60.377</td>\n",
              "      <td>693.420786</td>\n",
              "      <td>1999</td>\n",
              "      <td>7.422612e+09</td>\n",
              "      <td>1700</td>\n",
              "    </tr>\n",
              "    <tr>\n",
              "      <th>1701</th>\n",
              "      <td>Zimbabwe</td>\n",
              "      <td>1997</td>\n",
              "      <td>11404948</td>\n",
              "      <td>46.809</td>\n",
              "      <td>792.449960</td>\n",
              "      <td>2004</td>\n",
              "      <td>9.037851e+09</td>\n",
              "      <td>1701</td>\n",
              "    </tr>\n",
              "    <tr>\n",
              "      <th>1702</th>\n",
              "      <td>Zimbabwe</td>\n",
              "      <td>2002</td>\n",
              "      <td>11926563</td>\n",
              "      <td>39.989</td>\n",
              "      <td>672.038623</td>\n",
              "      <td>2009</td>\n",
              "      <td>8.015111e+09</td>\n",
              "      <td>1702</td>\n",
              "    </tr>\n",
              "    <tr>\n",
              "      <th>1703</th>\n",
              "      <td>Zimbabwe</td>\n",
              "      <td>2007</td>\n",
              "      <td>12311143</td>\n",
              "      <td>43.487</td>\n",
              "      <td>469.709298</td>\n",
              "      <td>2014</td>\n",
              "      <td>5.782658e+09</td>\n",
              "      <td>1703</td>\n",
              "    </tr>\n",
              "  </tbody>\n",
              "</table>\n",
              "<p>1704 rows × 8 columns</p>\n",
              "</div>\n",
              "      <button class=\"colab-df-convert\" onclick=\"convertToInteractive('df-39f0647b-2aed-42ee-9829-5defd06019db')\"\n",
              "              title=\"Convert this dataframe to an interactive table.\"\n",
              "              style=\"display:none;\">\n",
              "        \n",
              "  <svg xmlns=\"http://www.w3.org/2000/svg\" height=\"24px\"viewBox=\"0 0 24 24\"\n",
              "       width=\"24px\">\n",
              "    <path d=\"M0 0h24v24H0V0z\" fill=\"none\"/>\n",
              "    <path d=\"M18.56 5.44l.94 2.06.94-2.06 2.06-.94-2.06-.94-.94-2.06-.94 2.06-2.06.94zm-11 1L8.5 8.5l.94-2.06 2.06-.94-2.06-.94L8.5 2.5l-.94 2.06-2.06.94zm10 10l.94 2.06.94-2.06 2.06-.94-2.06-.94-.94-2.06-.94 2.06-2.06.94z\"/><path d=\"M17.41 7.96l-1.37-1.37c-.4-.4-.92-.59-1.43-.59-.52 0-1.04.2-1.43.59L10.3 9.45l-7.72 7.72c-.78.78-.78 2.05 0 2.83L4 21.41c.39.39.9.59 1.41.59.51 0 1.02-.2 1.41-.59l7.78-7.78 2.81-2.81c.8-.78.8-2.07 0-2.86zM5.41 20L4 18.59l7.72-7.72 1.47 1.35L5.41 20z\"/>\n",
              "  </svg>\n",
              "      </button>\n",
              "      \n",
              "  <style>\n",
              "    .colab-df-container {\n",
              "      display:flex;\n",
              "      flex-wrap:wrap;\n",
              "      gap: 12px;\n",
              "    }\n",
              "\n",
              "    .colab-df-convert {\n",
              "      background-color: #E8F0FE;\n",
              "      border: none;\n",
              "      border-radius: 50%;\n",
              "      cursor: pointer;\n",
              "      display: none;\n",
              "      fill: #1967D2;\n",
              "      height: 32px;\n",
              "      padding: 0 0 0 0;\n",
              "      width: 32px;\n",
              "    }\n",
              "\n",
              "    .colab-df-convert:hover {\n",
              "      background-color: #E2EBFA;\n",
              "      box-shadow: 0px 1px 2px rgba(60, 64, 67, 0.3), 0px 1px 3px 1px rgba(60, 64, 67, 0.15);\n",
              "      fill: #174EA6;\n",
              "    }\n",
              "\n",
              "    [theme=dark] .colab-df-convert {\n",
              "      background-color: #3B4455;\n",
              "      fill: #D2E3FC;\n",
              "    }\n",
              "\n",
              "    [theme=dark] .colab-df-convert:hover {\n",
              "      background-color: #434B5C;\n",
              "      box-shadow: 0px 1px 3px 1px rgba(0, 0, 0, 0.15);\n",
              "      filter: drop-shadow(0px 1px 2px rgba(0, 0, 0, 0.3));\n",
              "      fill: #FFFFFF;\n",
              "    }\n",
              "  </style>\n",
              "\n",
              "      <script>\n",
              "        const buttonEl =\n",
              "          document.querySelector('#df-39f0647b-2aed-42ee-9829-5defd06019db button.colab-df-convert');\n",
              "        buttonEl.style.display =\n",
              "          google.colab.kernel.accessAllowed ? 'block' : 'none';\n",
              "\n",
              "        async function convertToInteractive(key) {\n",
              "          const element = document.querySelector('#df-39f0647b-2aed-42ee-9829-5defd06019db');\n",
              "          const dataTable =\n",
              "            await google.colab.kernel.invokeFunction('convertToInteractive',\n",
              "                                                     [key], {});\n",
              "          if (!dataTable) return;\n",
              "\n",
              "          const docLinkHtml = 'Like what you see? Visit the ' +\n",
              "            '<a target=\"_blank\" href=https://colab.research.google.com/notebooks/data_table.ipynb>data table notebook</a>'\n",
              "            + ' to learn more about interactive tables.';\n",
              "          element.innerHTML = '';\n",
              "          dataTable['output_type'] = 'display_data';\n",
              "          await google.colab.output.renderOutput(dataTable, element);\n",
              "          const docLink = document.createElement('div');\n",
              "          docLink.innerHTML = docLinkHtml;\n",
              "          element.appendChild(docLink);\n",
              "        }\n",
              "      </script>\n",
              "    </div>\n",
              "  </div>\n",
              "  "
            ]
          },
          "metadata": {},
          "execution_count": 22
        }
      ],
      "source": [
        "df[\"Own\"] = [i for i in range(1704)]  # count of these values should be correct\n",
        "df"
      ]
    },
    {
      "cell_type": "markdown",
      "metadata": {
        "id": "DNE1iifMh8Fn"
      },
      "source": [
        "Now that we know how to create new cols lets see some basic ops on rows\n",
        "\n",
        "Before that lets drop the newly created cols\n"
      ]
    },
    {
      "cell_type": "code",
      "execution_count": null,
      "metadata": {
        "colab": {
          "base_uri": "https://localhost:8080/",
          "height": 424
        },
        "id": "WZUi4Bd5Mu8z",
        "outputId": "c5eb7302-440c-44fa-b66f-3560b5d4e021"
      },
      "outputs": [
        {
          "output_type": "execute_result",
          "data": {
            "text/plain": [
              "          Country  year  population  life_exp     gdp_cap\n",
              "0     Afghanistan  1952     8425333    28.801  779.445314\n",
              "1     Afghanistan  1957     9240934    30.332  820.853030\n",
              "2     Afghanistan  1962    10267083    31.997  853.100710\n",
              "3     Afghanistan  1967    11537966    34.020  836.197138\n",
              "4     Afghanistan  1972    13079460    36.088  739.981106\n",
              "...           ...   ...         ...       ...         ...\n",
              "1699     Zimbabwe  1987     9216418    62.351  706.157306\n",
              "1700     Zimbabwe  1992    10704340    60.377  693.420786\n",
              "1701     Zimbabwe  1997    11404948    46.809  792.449960\n",
              "1702     Zimbabwe  2002    11926563    39.989  672.038623\n",
              "1703     Zimbabwe  2007    12311143    43.487  469.709298\n",
              "\n",
              "[1704 rows x 5 columns]"
            ],
            "text/html": [
              "\n",
              "  <div id=\"df-34ab380f-54d2-445f-9fd5-5e95625f7dbe\">\n",
              "    <div class=\"colab-df-container\">\n",
              "      <div>\n",
              "<style scoped>\n",
              "    .dataframe tbody tr th:only-of-type {\n",
              "        vertical-align: middle;\n",
              "    }\n",
              "\n",
              "    .dataframe tbody tr th {\n",
              "        vertical-align: top;\n",
              "    }\n",
              "\n",
              "    .dataframe thead th {\n",
              "        text-align: right;\n",
              "    }\n",
              "</style>\n",
              "<table border=\"1\" class=\"dataframe\">\n",
              "  <thead>\n",
              "    <tr style=\"text-align: right;\">\n",
              "      <th></th>\n",
              "      <th>Country</th>\n",
              "      <th>year</th>\n",
              "      <th>population</th>\n",
              "      <th>life_exp</th>\n",
              "      <th>gdp_cap</th>\n",
              "    </tr>\n",
              "  </thead>\n",
              "  <tbody>\n",
              "    <tr>\n",
              "      <th>0</th>\n",
              "      <td>Afghanistan</td>\n",
              "      <td>1952</td>\n",
              "      <td>8425333</td>\n",
              "      <td>28.801</td>\n",
              "      <td>779.445314</td>\n",
              "    </tr>\n",
              "    <tr>\n",
              "      <th>1</th>\n",
              "      <td>Afghanistan</td>\n",
              "      <td>1957</td>\n",
              "      <td>9240934</td>\n",
              "      <td>30.332</td>\n",
              "      <td>820.853030</td>\n",
              "    </tr>\n",
              "    <tr>\n",
              "      <th>2</th>\n",
              "      <td>Afghanistan</td>\n",
              "      <td>1962</td>\n",
              "      <td>10267083</td>\n",
              "      <td>31.997</td>\n",
              "      <td>853.100710</td>\n",
              "    </tr>\n",
              "    <tr>\n",
              "      <th>3</th>\n",
              "      <td>Afghanistan</td>\n",
              "      <td>1967</td>\n",
              "      <td>11537966</td>\n",
              "      <td>34.020</td>\n",
              "      <td>836.197138</td>\n",
              "    </tr>\n",
              "    <tr>\n",
              "      <th>4</th>\n",
              "      <td>Afghanistan</td>\n",
              "      <td>1972</td>\n",
              "      <td>13079460</td>\n",
              "      <td>36.088</td>\n",
              "      <td>739.981106</td>\n",
              "    </tr>\n",
              "    <tr>\n",
              "      <th>...</th>\n",
              "      <td>...</td>\n",
              "      <td>...</td>\n",
              "      <td>...</td>\n",
              "      <td>...</td>\n",
              "      <td>...</td>\n",
              "    </tr>\n",
              "    <tr>\n",
              "      <th>1699</th>\n",
              "      <td>Zimbabwe</td>\n",
              "      <td>1987</td>\n",
              "      <td>9216418</td>\n",
              "      <td>62.351</td>\n",
              "      <td>706.157306</td>\n",
              "    </tr>\n",
              "    <tr>\n",
              "      <th>1700</th>\n",
              "      <td>Zimbabwe</td>\n",
              "      <td>1992</td>\n",
              "      <td>10704340</td>\n",
              "      <td>60.377</td>\n",
              "      <td>693.420786</td>\n",
              "    </tr>\n",
              "    <tr>\n",
              "      <th>1701</th>\n",
              "      <td>Zimbabwe</td>\n",
              "      <td>1997</td>\n",
              "      <td>11404948</td>\n",
              "      <td>46.809</td>\n",
              "      <td>792.449960</td>\n",
              "    </tr>\n",
              "    <tr>\n",
              "      <th>1702</th>\n",
              "      <td>Zimbabwe</td>\n",
              "      <td>2002</td>\n",
              "      <td>11926563</td>\n",
              "      <td>39.989</td>\n",
              "      <td>672.038623</td>\n",
              "    </tr>\n",
              "    <tr>\n",
              "      <th>1703</th>\n",
              "      <td>Zimbabwe</td>\n",
              "      <td>2007</td>\n",
              "      <td>12311143</td>\n",
              "      <td>43.487</td>\n",
              "      <td>469.709298</td>\n",
              "    </tr>\n",
              "  </tbody>\n",
              "</table>\n",
              "<p>1704 rows × 5 columns</p>\n",
              "</div>\n",
              "      <button class=\"colab-df-convert\" onclick=\"convertToInteractive('df-34ab380f-54d2-445f-9fd5-5e95625f7dbe')\"\n",
              "              title=\"Convert this dataframe to an interactive table.\"\n",
              "              style=\"display:none;\">\n",
              "        \n",
              "  <svg xmlns=\"http://www.w3.org/2000/svg\" height=\"24px\"viewBox=\"0 0 24 24\"\n",
              "       width=\"24px\">\n",
              "    <path d=\"M0 0h24v24H0V0z\" fill=\"none\"/>\n",
              "    <path d=\"M18.56 5.44l.94 2.06.94-2.06 2.06-.94-2.06-.94-.94-2.06-.94 2.06-2.06.94zm-11 1L8.5 8.5l.94-2.06 2.06-.94-2.06-.94L8.5 2.5l-.94 2.06-2.06.94zm10 10l.94 2.06.94-2.06 2.06-.94-2.06-.94-.94-2.06-.94 2.06-2.06.94z\"/><path d=\"M17.41 7.96l-1.37-1.37c-.4-.4-.92-.59-1.43-.59-.52 0-1.04.2-1.43.59L10.3 9.45l-7.72 7.72c-.78.78-.78 2.05 0 2.83L4 21.41c.39.39.9.59 1.41.59.51 0 1.02-.2 1.41-.59l7.78-7.78 2.81-2.81c.8-.78.8-2.07 0-2.86zM5.41 20L4 18.59l7.72-7.72 1.47 1.35L5.41 20z\"/>\n",
              "  </svg>\n",
              "      </button>\n",
              "      \n",
              "  <style>\n",
              "    .colab-df-container {\n",
              "      display:flex;\n",
              "      flex-wrap:wrap;\n",
              "      gap: 12px;\n",
              "    }\n",
              "\n",
              "    .colab-df-convert {\n",
              "      background-color: #E8F0FE;\n",
              "      border: none;\n",
              "      border-radius: 50%;\n",
              "      cursor: pointer;\n",
              "      display: none;\n",
              "      fill: #1967D2;\n",
              "      height: 32px;\n",
              "      padding: 0 0 0 0;\n",
              "      width: 32px;\n",
              "    }\n",
              "\n",
              "    .colab-df-convert:hover {\n",
              "      background-color: #E2EBFA;\n",
              "      box-shadow: 0px 1px 2px rgba(60, 64, 67, 0.3), 0px 1px 3px 1px rgba(60, 64, 67, 0.15);\n",
              "      fill: #174EA6;\n",
              "    }\n",
              "\n",
              "    [theme=dark] .colab-df-convert {\n",
              "      background-color: #3B4455;\n",
              "      fill: #D2E3FC;\n",
              "    }\n",
              "\n",
              "    [theme=dark] .colab-df-convert:hover {\n",
              "      background-color: #434B5C;\n",
              "      box-shadow: 0px 1px 3px 1px rgba(0, 0, 0, 0.15);\n",
              "      filter: drop-shadow(0px 1px 2px rgba(0, 0, 0, 0.3));\n",
              "      fill: #FFFFFF;\n",
              "    }\n",
              "  </style>\n",
              "\n",
              "      <script>\n",
              "        const buttonEl =\n",
              "          document.querySelector('#df-34ab380f-54d2-445f-9fd5-5e95625f7dbe button.colab-df-convert');\n",
              "        buttonEl.style.display =\n",
              "          google.colab.kernel.accessAllowed ? 'block' : 'none';\n",
              "\n",
              "        async function convertToInteractive(key) {\n",
              "          const element = document.querySelector('#df-34ab380f-54d2-445f-9fd5-5e95625f7dbe');\n",
              "          const dataTable =\n",
              "            await google.colab.kernel.invokeFunction('convertToInteractive',\n",
              "                                                     [key], {});\n",
              "          if (!dataTable) return;\n",
              "\n",
              "          const docLinkHtml = 'Like what you see? Visit the ' +\n",
              "            '<a target=\"_blank\" href=https://colab.research.google.com/notebooks/data_table.ipynb>data table notebook</a>'\n",
              "            + ' to learn more about interactive tables.';\n",
              "          element.innerHTML = '';\n",
              "          dataTable['output_type'] = 'display_data';\n",
              "          await google.colab.output.renderOutput(dataTable, element);\n",
              "          const docLink = document.createElement('div');\n",
              "          docLink.innerHTML = docLinkHtml;\n",
              "          element.appendChild(docLink);\n",
              "        }\n",
              "      </script>\n",
              "    </div>\n",
              "  </div>\n",
              "  "
            ]
          },
          "metadata": {},
          "execution_count": 23
        }
      ],
      "source": [
        "df.drop(columns=[\"Own\",'gdp', 'year+7'], axis = 1, inplace = True)\n",
        "df"
      ]
    }
  ],
  "metadata": {
    "colab": {
      "provenance": [],
      "include_colab_link": true
    },
    "kernelspec": {
      "display_name": "Python 3",
      "name": "python3"
    },
    "language_info": {
      "name": "python"
    }
  },
  "nbformat": 4,
  "nbformat_minor": 0
}