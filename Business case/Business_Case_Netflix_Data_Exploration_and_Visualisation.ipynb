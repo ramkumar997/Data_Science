{
  "nbformat": 4,
  "nbformat_minor": 0,
  "metadata": {
    "colab": {
      "provenance": [],
      "authorship_tag": "ABX9TyMZJggFh2aT+Ag1b8BPTiX6",
      "include_colab_link": true
    },
    "kernelspec": {
      "name": "python3",
      "display_name": "Python 3"
    },
    "language_info": {
      "name": "python"
    }
  },
  "cells": [
    {
      "cell_type": "markdown",
      "metadata": {
        "id": "view-in-github",
        "colab_type": "text"
      },
      "source": [
        "<a href=\"https://colab.research.google.com/github/ramkumar997/Data_Science/blob/main/Business%20case/Business_Case_Netflix_Data_Exploration_and_Visualisation.ipynb\" target=\"_parent\"><img src=\"https://colab.research.google.com/assets/colab-badge.svg\" alt=\"Open In Colab\"/></a>"
      ]
    },
    {
      "cell_type": "markdown",
      "source": [
        "To whoemever correcting this.  I didn't learn the pandas module correctly due to my inconsistency, so I haven't performed this analysis well.  Currently I am on course pause.  I'll be re-trying this after some days."
      ],
      "metadata": {
        "id": "7SHr5wseOpkn"
      }
    },
    {
      "cell_type": "code",
      "execution_count": null,
      "metadata": {
        "id": "dDK34h5a2r-q"
      },
      "outputs": [],
      "source": [
        "import numpy as np\n",
        "import pandas as pd\n",
        "import matplotlib.pyplot as plt\n",
        "import seaborn as sns"
      ]
    },
    {
      "cell_type": "code",
      "source": [
        "!wget \"https://d2beiqkhq929f0.cloudfront.net/public_assets/assets/000/000/940/original/netflix.csv\" -O netflix.csv"
      ],
      "metadata": {
        "colab": {
          "base_uri": "https://localhost:8080/"
        },
        "id": "f4_Xrf90Dbzb",
        "outputId": "9abbde24-ad4d-4e6c-842a-6e9c492fc59e"
      },
      "execution_count": null,
      "outputs": [
        {
          "output_type": "stream",
          "name": "stdout",
          "text": [
            "--2023-08-08 05:48:32--  https://d2beiqkhq929f0.cloudfront.net/public_assets/assets/000/000/940/original/netflix.csv\n",
            "Resolving d2beiqkhq929f0.cloudfront.net (d2beiqkhq929f0.cloudfront.net)... 18.65.40.189, 18.65.40.103, 18.65.40.200, ...\n",
            "Connecting to d2beiqkhq929f0.cloudfront.net (d2beiqkhq929f0.cloudfront.net)|18.65.40.189|:443... connected.\n",
            "HTTP request sent, awaiting response... 200 OK\n",
            "Length: 3399671 (3.2M) [text/plain]\n",
            "Saving to: ‘netflix.csv’\n",
            "\n",
            "\rnetflix.csv           0%[                    ]       0  --.-KB/s               \rnetflix.csv         100%[===================>]   3.24M  --.-KB/s    in 0.06s   \n",
            "\n",
            "2023-08-08 05:48:33 (51.1 MB/s) - ‘netflix.csv’ saved [3399671/3399671]\n",
            "\n"
          ]
        }
      ]
    },
    {
      "cell_type": "code",
      "source": [
        "df=pd.read_csv('netflix.csv')"
      ],
      "metadata": {
        "id": "zYPufuYWFmCY"
      },
      "execution_count": null,
      "outputs": []
    },
    {
      "cell_type": "markdown",
      "source": [
        "# **Analysing Basic metrics**"
      ],
      "metadata": {
        "id": "T-QKnf3EgMf0"
      }
    },
    {
      "cell_type": "code",
      "source": [
        "#Shape of data\n",
        "df.shape"
      ],
      "metadata": {
        "colab": {
          "base_uri": "https://localhost:8080/"
        },
        "id": "odyO3dh6e5uG",
        "outputId": "59c88221-cb83-451b-8bfa-ab0b16c9b812"
      },
      "execution_count": null,
      "outputs": [
        {
          "output_type": "execute_result",
          "data": {
            "text/plain": [
              "(8807, 12)"
            ]
          },
          "metadata": {},
          "execution_count": 4
        }
      ]
    },
    {
      "cell_type": "code",
      "source": [
        "#data types of all the attributes\n",
        "df.info()"
      ],
      "metadata": {
        "colab": {
          "base_uri": "https://localhost:8080/"
        },
        "id": "BiIkHv2Kp9D3",
        "outputId": "034f2ee0-559b-4c1f-9434-4d9badba6726"
      },
      "execution_count": null,
      "outputs": [
        {
          "output_type": "stream",
          "name": "stdout",
          "text": [
            "<class 'pandas.core.frame.DataFrame'>\n",
            "RangeIndex: 8807 entries, 0 to 8806\n",
            "Data columns (total 12 columns):\n",
            " #   Column        Non-Null Count  Dtype \n",
            "---  ------        --------------  ----- \n",
            " 0   show_id       8807 non-null   object\n",
            " 1   type          8807 non-null   object\n",
            " 2   title         8807 non-null   object\n",
            " 3   director      6173 non-null   object\n",
            " 4   cast          7982 non-null   object\n",
            " 5   country       7976 non-null   object\n",
            " 6   date_added    8797 non-null   object\n",
            " 7   release_year  8807 non-null   int64 \n",
            " 8   rating        8803 non-null   object\n",
            " 9   duration      8804 non-null   object\n",
            " 10  listed_in     8807 non-null   object\n",
            " 11  description   8807 non-null   object\n",
            "dtypes: int64(1), object(11)\n",
            "memory usage: 825.8+ KB\n"
          ]
        }
      ]
    },
    {
      "cell_type": "code",
      "source": [
        "#Statistical summary of release_year\n",
        "mov=df[df['type']=='Movie']\n",
        "mov['release_year'].describe()"
      ],
      "metadata": {
        "colab": {
          "base_uri": "https://localhost:8080/"
        },
        "id": "LW8A2YQPZZBI",
        "outputId": "d80696d9-dc9c-46a2-fcf9-eac8069aeee0"
      },
      "execution_count": null,
      "outputs": [
        {
          "output_type": "execute_result",
          "data": {
            "text/plain": [
              "count    6131.000000\n",
              "mean     2013.121514\n",
              "std         9.678169\n",
              "min      1942.000000\n",
              "25%      2012.000000\n",
              "50%      2016.000000\n",
              "75%      2018.000000\n",
              "max      2021.000000\n",
              "Name: release_year, dtype: float64"
            ]
          },
          "metadata": {},
          "execution_count": 6
        }
      ]
    },
    {
      "cell_type": "markdown",
      "source": [
        "# **Cleaning data**"
      ],
      "metadata": {
        "id": "Sq88_Lj_rdBx"
      }
    },
    {
      "cell_type": "code",
      "source": [
        "# changing duration numerical value\n",
        "df['duration']=df['duration'].str.replace(' min','',case=False)\n",
        "df['duration']=df['duration'].str.replace(' Seasons','',case=False)\n",
        "df['duration']=df['duration'].str.replace(' Season','',case=False)"
      ],
      "metadata": {
        "id": "L2YbGMXhbWSH"
      },
      "execution_count": null,
      "outputs": []
    },
    {
      "cell_type": "markdown",
      "source": [
        "# **Basic Analysis**"
      ],
      "metadata": {
        "id": "t8osU1YnMHUJ"
      }
    },
    {
      "cell_type": "markdown",
      "source": [
        "a. Un-nest the columns those have cells with multiple comma separated values by\n",
        "creating multiple rows"
      ],
      "metadata": {
        "id": "Kzcr9S5TKHHY"
      }
    },
    {
      "cell_type": "markdown",
      "source": [
        "A.For categorical variables with null values, update those rows as\n",
        "unknown_column_name."
      ],
      "metadata": {
        "id": "wBrNx_veKWgp"
      }
    },
    {
      "cell_type": "code",
      "source": [
        "df['director'].fillna('No director',inplace=True)\n",
        "df['cast'].fillna('No cast',inplace=True)\n",
        "df['country'].fillna('No country',inplace=True)\n",
        "df['rating'].fillna('No rating',inplace=True)\n",
        "df['date_added'].fillna('No data',inplace=True)"
      ],
      "metadata": {
        "id": "Fc6nZ89Tow12"
      },
      "execution_count": null,
      "outputs": []
    },
    {
      "cell_type": "markdown",
      "source": [
        "B. Replace with 0 for continuous variables having null values."
      ],
      "metadata": {
        "id": "94Wx5XmaKeKc"
      }
    },
    {
      "cell_type": "code",
      "source": [
        "df['duration'].fillna(0,inplace=True)"
      ],
      "metadata": {
        "id": "m5edsTpSJRhQ"
      },
      "execution_count": null,
      "outputs": []
    },
    {
      "cell_type": "code",
      "source": [
        "df.drop_duplicates()"
      ],
      "metadata": {
        "id": "__KW6eDkKbN6",
        "colab": {
          "base_uri": "https://localhost:8080/",
          "height": 936
        },
        "outputId": "7b28f547-8184-47d1-8abc-59238b6e1572"
      },
      "execution_count": null,
      "outputs": [
        {
          "output_type": "execute_result",
          "data": {
            "text/plain": [
              "     show_id     type                  title         director  \\\n",
              "0         s1    Movie   Dick Johnson Is Dead  Kirsten Johnson   \n",
              "1         s2  TV Show          Blood & Water      No director   \n",
              "2         s3  TV Show              Ganglands  Julien Leclercq   \n",
              "3         s4  TV Show  Jailbirds New Orleans      No director   \n",
              "4         s5  TV Show           Kota Factory      No director   \n",
              "...      ...      ...                    ...              ...   \n",
              "8802   s8803    Movie                 Zodiac    David Fincher   \n",
              "8803   s8804  TV Show            Zombie Dumb      No director   \n",
              "8804   s8805    Movie             Zombieland  Ruben Fleischer   \n",
              "8805   s8806    Movie                   Zoom     Peter Hewitt   \n",
              "8806   s8807    Movie                 Zubaan      Mozez Singh   \n",
              "\n",
              "                                                   cast        country  \\\n",
              "0                                               No cast  United States   \n",
              "1     Ama Qamata, Khosi Ngema, Gail Mabalane, Thaban...   South Africa   \n",
              "2     Sami Bouajila, Tracy Gotoas, Samuel Jouy, Nabi...     No country   \n",
              "3                                               No cast     No country   \n",
              "4     Mayur More, Jitendra Kumar, Ranjan Raj, Alam K...          India   \n",
              "...                                                 ...            ...   \n",
              "8802  Mark Ruffalo, Jake Gyllenhaal, Robert Downey J...  United States   \n",
              "8803                                            No cast     No country   \n",
              "8804  Jesse Eisenberg, Woody Harrelson, Emma Stone, ...  United States   \n",
              "8805  Tim Allen, Courteney Cox, Chevy Chase, Kate Ma...  United States   \n",
              "8806  Vicky Kaushal, Sarah-Jane Dias, Raaghav Chanan...          India   \n",
              "\n",
              "              date_added  release_year rating duration  \\\n",
              "0     September 25, 2021          2020  PG-13       90   \n",
              "1     September 24, 2021          2021  TV-MA        2   \n",
              "2     September 24, 2021          2021  TV-MA        1   \n",
              "3     September 24, 2021          2021  TV-MA        1   \n",
              "4     September 24, 2021          2021  TV-MA        2   \n",
              "...                  ...           ...    ...      ...   \n",
              "8802   November 20, 2019          2007      R      158   \n",
              "8803        July 1, 2019          2018  TV-Y7        2   \n",
              "8804    November 1, 2019          2009      R       88   \n",
              "8805    January 11, 2020          2006     PG       88   \n",
              "8806       March 2, 2019          2015  TV-14      111   \n",
              "\n",
              "                                              listed_in  \\\n",
              "0                                         Documentaries   \n",
              "1       International TV Shows, TV Dramas, TV Mysteries   \n",
              "2     Crime TV Shows, International TV Shows, TV Act...   \n",
              "3                                Docuseries, Reality TV   \n",
              "4     International TV Shows, Romantic TV Shows, TV ...   \n",
              "...                                                 ...   \n",
              "8802                     Cult Movies, Dramas, Thrillers   \n",
              "8803             Kids' TV, Korean TV Shows, TV Comedies   \n",
              "8804                            Comedies, Horror Movies   \n",
              "8805                 Children & Family Movies, Comedies   \n",
              "8806     Dramas, International Movies, Music & Musicals   \n",
              "\n",
              "                                            description  \n",
              "0     As her father nears the end of his life, filmm...  \n",
              "1     After crossing paths at a party, a Cape Town t...  \n",
              "2     To protect his family from a powerful drug lor...  \n",
              "3     Feuds, flirtations and toilet talk go down amo...  \n",
              "4     In a city of coaching centers known to train I...  \n",
              "...                                                 ...  \n",
              "8802  A political cartoonist, a crime reporter and a...  \n",
              "8803  While living alone in a spooky town, a young g...  \n",
              "8804  Looking to survive in a world taken over by zo...  \n",
              "8805  Dragged from civilian life, a former superhero...  \n",
              "8806  A scrappy but poor boy worms his way into a ty...  \n",
              "\n",
              "[8807 rows x 12 columns]"
            ],
            "text/html": [
              "\n",
              "\n",
              "  <div id=\"df-fc733ce1-549d-4b5e-9a2d-b698e9e658e2\">\n",
              "    <div class=\"colab-df-container\">\n",
              "      <div>\n",
              "<style scoped>\n",
              "    .dataframe tbody tr th:only-of-type {\n",
              "        vertical-align: middle;\n",
              "    }\n",
              "\n",
              "    .dataframe tbody tr th {\n",
              "        vertical-align: top;\n",
              "    }\n",
              "\n",
              "    .dataframe thead th {\n",
              "        text-align: right;\n",
              "    }\n",
              "</style>\n",
              "<table border=\"1\" class=\"dataframe\">\n",
              "  <thead>\n",
              "    <tr style=\"text-align: right;\">\n",
              "      <th></th>\n",
              "      <th>show_id</th>\n",
              "      <th>type</th>\n",
              "      <th>title</th>\n",
              "      <th>director</th>\n",
              "      <th>cast</th>\n",
              "      <th>country</th>\n",
              "      <th>date_added</th>\n",
              "      <th>release_year</th>\n",
              "      <th>rating</th>\n",
              "      <th>duration</th>\n",
              "      <th>listed_in</th>\n",
              "      <th>description</th>\n",
              "    </tr>\n",
              "  </thead>\n",
              "  <tbody>\n",
              "    <tr>\n",
              "      <th>0</th>\n",
              "      <td>s1</td>\n",
              "      <td>Movie</td>\n",
              "      <td>Dick Johnson Is Dead</td>\n",
              "      <td>Kirsten Johnson</td>\n",
              "      <td>No cast</td>\n",
              "      <td>United States</td>\n",
              "      <td>September 25, 2021</td>\n",
              "      <td>2020</td>\n",
              "      <td>PG-13</td>\n",
              "      <td>90</td>\n",
              "      <td>Documentaries</td>\n",
              "      <td>As her father nears the end of his life, filmm...</td>\n",
              "    </tr>\n",
              "    <tr>\n",
              "      <th>1</th>\n",
              "      <td>s2</td>\n",
              "      <td>TV Show</td>\n",
              "      <td>Blood &amp; Water</td>\n",
              "      <td>No director</td>\n",
              "      <td>Ama Qamata, Khosi Ngema, Gail Mabalane, Thaban...</td>\n",
              "      <td>South Africa</td>\n",
              "      <td>September 24, 2021</td>\n",
              "      <td>2021</td>\n",
              "      <td>TV-MA</td>\n",
              "      <td>2</td>\n",
              "      <td>International TV Shows, TV Dramas, TV Mysteries</td>\n",
              "      <td>After crossing paths at a party, a Cape Town t...</td>\n",
              "    </tr>\n",
              "    <tr>\n",
              "      <th>2</th>\n",
              "      <td>s3</td>\n",
              "      <td>TV Show</td>\n",
              "      <td>Ganglands</td>\n",
              "      <td>Julien Leclercq</td>\n",
              "      <td>Sami Bouajila, Tracy Gotoas, Samuel Jouy, Nabi...</td>\n",
              "      <td>No country</td>\n",
              "      <td>September 24, 2021</td>\n",
              "      <td>2021</td>\n",
              "      <td>TV-MA</td>\n",
              "      <td>1</td>\n",
              "      <td>Crime TV Shows, International TV Shows, TV Act...</td>\n",
              "      <td>To protect his family from a powerful drug lor...</td>\n",
              "    </tr>\n",
              "    <tr>\n",
              "      <th>3</th>\n",
              "      <td>s4</td>\n",
              "      <td>TV Show</td>\n",
              "      <td>Jailbirds New Orleans</td>\n",
              "      <td>No director</td>\n",
              "      <td>No cast</td>\n",
              "      <td>No country</td>\n",
              "      <td>September 24, 2021</td>\n",
              "      <td>2021</td>\n",
              "      <td>TV-MA</td>\n",
              "      <td>1</td>\n",
              "      <td>Docuseries, Reality TV</td>\n",
              "      <td>Feuds, flirtations and toilet talk go down amo...</td>\n",
              "    </tr>\n",
              "    <tr>\n",
              "      <th>4</th>\n",
              "      <td>s5</td>\n",
              "      <td>TV Show</td>\n",
              "      <td>Kota Factory</td>\n",
              "      <td>No director</td>\n",
              "      <td>Mayur More, Jitendra Kumar, Ranjan Raj, Alam K...</td>\n",
              "      <td>India</td>\n",
              "      <td>September 24, 2021</td>\n",
              "      <td>2021</td>\n",
              "      <td>TV-MA</td>\n",
              "      <td>2</td>\n",
              "      <td>International TV Shows, Romantic TV Shows, TV ...</td>\n",
              "      <td>In a city of coaching centers known to train I...</td>\n",
              "    </tr>\n",
              "    <tr>\n",
              "      <th>...</th>\n",
              "      <td>...</td>\n",
              "      <td>...</td>\n",
              "      <td>...</td>\n",
              "      <td>...</td>\n",
              "      <td>...</td>\n",
              "      <td>...</td>\n",
              "      <td>...</td>\n",
              "      <td>...</td>\n",
              "      <td>...</td>\n",
              "      <td>...</td>\n",
              "      <td>...</td>\n",
              "      <td>...</td>\n",
              "    </tr>\n",
              "    <tr>\n",
              "      <th>8802</th>\n",
              "      <td>s8803</td>\n",
              "      <td>Movie</td>\n",
              "      <td>Zodiac</td>\n",
              "      <td>David Fincher</td>\n",
              "      <td>Mark Ruffalo, Jake Gyllenhaal, Robert Downey J...</td>\n",
              "      <td>United States</td>\n",
              "      <td>November 20, 2019</td>\n",
              "      <td>2007</td>\n",
              "      <td>R</td>\n",
              "      <td>158</td>\n",
              "      <td>Cult Movies, Dramas, Thrillers</td>\n",
              "      <td>A political cartoonist, a crime reporter and a...</td>\n",
              "    </tr>\n",
              "    <tr>\n",
              "      <th>8803</th>\n",
              "      <td>s8804</td>\n",
              "      <td>TV Show</td>\n",
              "      <td>Zombie Dumb</td>\n",
              "      <td>No director</td>\n",
              "      <td>No cast</td>\n",
              "      <td>No country</td>\n",
              "      <td>July 1, 2019</td>\n",
              "      <td>2018</td>\n",
              "      <td>TV-Y7</td>\n",
              "      <td>2</td>\n",
              "      <td>Kids' TV, Korean TV Shows, TV Comedies</td>\n",
              "      <td>While living alone in a spooky town, a young g...</td>\n",
              "    </tr>\n",
              "    <tr>\n",
              "      <th>8804</th>\n",
              "      <td>s8805</td>\n",
              "      <td>Movie</td>\n",
              "      <td>Zombieland</td>\n",
              "      <td>Ruben Fleischer</td>\n",
              "      <td>Jesse Eisenberg, Woody Harrelson, Emma Stone, ...</td>\n",
              "      <td>United States</td>\n",
              "      <td>November 1, 2019</td>\n",
              "      <td>2009</td>\n",
              "      <td>R</td>\n",
              "      <td>88</td>\n",
              "      <td>Comedies, Horror Movies</td>\n",
              "      <td>Looking to survive in a world taken over by zo...</td>\n",
              "    </tr>\n",
              "    <tr>\n",
              "      <th>8805</th>\n",
              "      <td>s8806</td>\n",
              "      <td>Movie</td>\n",
              "      <td>Zoom</td>\n",
              "      <td>Peter Hewitt</td>\n",
              "      <td>Tim Allen, Courteney Cox, Chevy Chase, Kate Ma...</td>\n",
              "      <td>United States</td>\n",
              "      <td>January 11, 2020</td>\n",
              "      <td>2006</td>\n",
              "      <td>PG</td>\n",
              "      <td>88</td>\n",
              "      <td>Children &amp; Family Movies, Comedies</td>\n",
              "      <td>Dragged from civilian life, a former superhero...</td>\n",
              "    </tr>\n",
              "    <tr>\n",
              "      <th>8806</th>\n",
              "      <td>s8807</td>\n",
              "      <td>Movie</td>\n",
              "      <td>Zubaan</td>\n",
              "      <td>Mozez Singh</td>\n",
              "      <td>Vicky Kaushal, Sarah-Jane Dias, Raaghav Chanan...</td>\n",
              "      <td>India</td>\n",
              "      <td>March 2, 2019</td>\n",
              "      <td>2015</td>\n",
              "      <td>TV-14</td>\n",
              "      <td>111</td>\n",
              "      <td>Dramas, International Movies, Music &amp; Musicals</td>\n",
              "      <td>A scrappy but poor boy worms his way into a ty...</td>\n",
              "    </tr>\n",
              "  </tbody>\n",
              "</table>\n",
              "<p>8807 rows × 12 columns</p>\n",
              "</div>\n",
              "      <button class=\"colab-df-convert\" onclick=\"convertToInteractive('df-fc733ce1-549d-4b5e-9a2d-b698e9e658e2')\"\n",
              "              title=\"Convert this dataframe to an interactive table.\"\n",
              "              style=\"display:none;\">\n",
              "\n",
              "  <svg xmlns=\"http://www.w3.org/2000/svg\" height=\"24px\"viewBox=\"0 0 24 24\"\n",
              "       width=\"24px\">\n",
              "    <path d=\"M0 0h24v24H0V0z\" fill=\"none\"/>\n",
              "    <path d=\"M18.56 5.44l.94 2.06.94-2.06 2.06-.94-2.06-.94-.94-2.06-.94 2.06-2.06.94zm-11 1L8.5 8.5l.94-2.06 2.06-.94-2.06-.94L8.5 2.5l-.94 2.06-2.06.94zm10 10l.94 2.06.94-2.06 2.06-.94-2.06-.94-.94-2.06-.94 2.06-2.06.94z\"/><path d=\"M17.41 7.96l-1.37-1.37c-.4-.4-.92-.59-1.43-.59-.52 0-1.04.2-1.43.59L10.3 9.45l-7.72 7.72c-.78.78-.78 2.05 0 2.83L4 21.41c.39.39.9.59 1.41.59.51 0 1.02-.2 1.41-.59l7.78-7.78 2.81-2.81c.8-.78.8-2.07 0-2.86zM5.41 20L4 18.59l7.72-7.72 1.47 1.35L5.41 20z\"/>\n",
              "  </svg>\n",
              "      </button>\n",
              "\n",
              "\n",
              "\n",
              "    <div id=\"df-cb2b30d1-dd18-4232-80b6-a750624524f4\">\n",
              "      <button class=\"colab-df-quickchart\" onclick=\"quickchart('df-cb2b30d1-dd18-4232-80b6-a750624524f4')\"\n",
              "              title=\"Suggest charts.\"\n",
              "              style=\"display:none;\">\n",
              "\n",
              "<svg xmlns=\"http://www.w3.org/2000/svg\" height=\"24px\"viewBox=\"0 0 24 24\"\n",
              "     width=\"24px\">\n",
              "    <g>\n",
              "        <path d=\"M19 3H5c-1.1 0-2 .9-2 2v14c0 1.1.9 2 2 2h14c1.1 0 2-.9 2-2V5c0-1.1-.9-2-2-2zM9 17H7v-7h2v7zm4 0h-2V7h2v10zm4 0h-2v-4h2v4z\"/>\n",
              "    </g>\n",
              "</svg>\n",
              "      </button>\n",
              "    </div>\n",
              "\n",
              "<style>\n",
              "  .colab-df-quickchart {\n",
              "    background-color: #E8F0FE;\n",
              "    border: none;\n",
              "    border-radius: 50%;\n",
              "    cursor: pointer;\n",
              "    display: none;\n",
              "    fill: #1967D2;\n",
              "    height: 32px;\n",
              "    padding: 0 0 0 0;\n",
              "    width: 32px;\n",
              "  }\n",
              "\n",
              "  .colab-df-quickchart:hover {\n",
              "    background-color: #E2EBFA;\n",
              "    box-shadow: 0px 1px 2px rgba(60, 64, 67, 0.3), 0px 1px 3px 1px rgba(60, 64, 67, 0.15);\n",
              "    fill: #174EA6;\n",
              "  }\n",
              "\n",
              "  [theme=dark] .colab-df-quickchart {\n",
              "    background-color: #3B4455;\n",
              "    fill: #D2E3FC;\n",
              "  }\n",
              "\n",
              "  [theme=dark] .colab-df-quickchart:hover {\n",
              "    background-color: #434B5C;\n",
              "    box-shadow: 0px 1px 3px 1px rgba(0, 0, 0, 0.15);\n",
              "    filter: drop-shadow(0px 1px 2px rgba(0, 0, 0, 0.3));\n",
              "    fill: #FFFFFF;\n",
              "  }\n",
              "</style>\n",
              "\n",
              "    <script>\n",
              "      async function quickchart(key) {\n",
              "        const containerElement = document.querySelector('#' + key);\n",
              "        const charts = await google.colab.kernel.invokeFunction(\n",
              "            'suggestCharts', [key], {});\n",
              "      }\n",
              "    </script>\n",
              "\n",
              "      <script>\n",
              "\n",
              "function displayQuickchartButton(domScope) {\n",
              "  let quickchartButtonEl =\n",
              "    domScope.querySelector('#df-cb2b30d1-dd18-4232-80b6-a750624524f4 button.colab-df-quickchart');\n",
              "  quickchartButtonEl.style.display =\n",
              "    google.colab.kernel.accessAllowed ? 'block' : 'none';\n",
              "}\n",
              "\n",
              "        displayQuickchartButton(document);\n",
              "      </script>\n",
              "      <style>\n",
              "    .colab-df-container {\n",
              "      display:flex;\n",
              "      flex-wrap:wrap;\n",
              "      gap: 12px;\n",
              "    }\n",
              "\n",
              "    .colab-df-convert {\n",
              "      background-color: #E8F0FE;\n",
              "      border: none;\n",
              "      border-radius: 50%;\n",
              "      cursor: pointer;\n",
              "      display: none;\n",
              "      fill: #1967D2;\n",
              "      height: 32px;\n",
              "      padding: 0 0 0 0;\n",
              "      width: 32px;\n",
              "    }\n",
              "\n",
              "    .colab-df-convert:hover {\n",
              "      background-color: #E2EBFA;\n",
              "      box-shadow: 0px 1px 2px rgba(60, 64, 67, 0.3), 0px 1px 3px 1px rgba(60, 64, 67, 0.15);\n",
              "      fill: #174EA6;\n",
              "    }\n",
              "\n",
              "    [theme=dark] .colab-df-convert {\n",
              "      background-color: #3B4455;\n",
              "      fill: #D2E3FC;\n",
              "    }\n",
              "\n",
              "    [theme=dark] .colab-df-convert:hover {\n",
              "      background-color: #434B5C;\n",
              "      box-shadow: 0px 1px 3px 1px rgba(0, 0, 0, 0.15);\n",
              "      filter: drop-shadow(0px 1px 2px rgba(0, 0, 0, 0.3));\n",
              "      fill: #FFFFFF;\n",
              "    }\n",
              "  </style>\n",
              "\n",
              "      <script>\n",
              "        const buttonEl =\n",
              "          document.querySelector('#df-fc733ce1-549d-4b5e-9a2d-b698e9e658e2 button.colab-df-convert');\n",
              "        buttonEl.style.display =\n",
              "          google.colab.kernel.accessAllowed ? 'block' : 'none';\n",
              "\n",
              "        async function convertToInteractive(key) {\n",
              "          const element = document.querySelector('#df-fc733ce1-549d-4b5e-9a2d-b698e9e658e2');\n",
              "          const dataTable =\n",
              "            await google.colab.kernel.invokeFunction('convertToInteractive',\n",
              "                                                     [key], {});\n",
              "          if (!dataTable) return;\n",
              "\n",
              "          const docLinkHtml = 'Like what you see? Visit the ' +\n",
              "            '<a target=\"_blank\" href=https://colab.research.google.com/notebooks/data_table.ipynb>data table notebook</a>'\n",
              "            + ' to learn more about interactive tables.';\n",
              "          element.innerHTML = '';\n",
              "          dataTable['output_type'] = 'display_data';\n",
              "          await google.colab.output.renderOutput(dataTable, element);\n",
              "          const docLink = document.createElement('div');\n",
              "          docLink.innerHTML = docLinkHtml;\n",
              "          element.appendChild(docLink);\n",
              "        }\n",
              "      </script>\n",
              "    </div>\n",
              "  </div>\n"
            ]
          },
          "metadata": {},
          "execution_count": 10
        }
      ]
    },
    {
      "cell_type": "markdown",
      "source": [
        "# **What does ‘good’ look like?**"
      ],
      "metadata": {
        "id": "g7YyW5oMvyLo"
      }
    },
    {
      "cell_type": "markdown",
      "source": [
        "**1. Find the counts of each categorical variable both using graphical and non-graphical analysis.**"
      ],
      "metadata": {
        "id": "FGqpb8svv0fO"
      }
    },
    {
      "cell_type": "markdown",
      "source": [
        "**a. For Non-graphical Analysis:**"
      ],
      "metadata": {
        "id": "5W8ZyxxyDRgE"
      }
    },
    {
      "cell_type": "code",
      "source": [
        "#number of movies and tv shows\n",
        "df['type'].value_counts()"
      ],
      "metadata": {
        "colab": {
          "base_uri": "https://localhost:8080/"
        },
        "id": "rarK0fWd2dx-",
        "outputId": "da56ef45-ff12-4d41-c5e2-5d93dd06da2f"
      },
      "execution_count": null,
      "outputs": [
        {
          "output_type": "execute_result",
          "data": {
            "text/plain": [
              "Movie      6131\n",
              "TV Show    2676\n",
              "Name: type, dtype: int64"
            ]
          },
          "metadata": {},
          "execution_count": 11
        }
      ]
    },
    {
      "cell_type": "code",
      "source": [
        "#number of directors\n",
        "df['director']=df['director'].str.split(\", \")\n",
        "dir=df.explode('director')\n",
        "dir['director'].value_counts()"
      ],
      "metadata": {
        "colab": {
          "base_uri": "https://localhost:8080/"
        },
        "id": "67NOD9a8nZau",
        "outputId": "ea43f57d-5a5c-4069-fff2-5150653c79db"
      },
      "execution_count": null,
      "outputs": [
        {
          "output_type": "execute_result",
          "data": {
            "text/plain": [
              "No director       2634\n",
              "Rajiv Chilaka       22\n",
              "Jan Suter           21\n",
              "Raúl Campos         19\n",
              "Suhas Kadav         16\n",
              "                  ... \n",
              "Raymie Muzquiz       1\n",
              "Stu Livingston       1\n",
              "Joe Menendez         1\n",
              "Eric Bross           1\n",
              "Mozez Singh          1\n",
              "Name: director, Length: 4994, dtype: int64"
            ]
          },
          "metadata": {},
          "execution_count": 12
        }
      ]
    },
    {
      "cell_type": "code",
      "source": [
        "#number of cast\n",
        "df['cast']=df['cast'].str.split(\", \")\n",
        "cast=df.explode('cast')\n",
        "cast['cast'].value_counts()"
      ],
      "metadata": {
        "colab": {
          "base_uri": "https://localhost:8080/"
        },
        "id": "Z6qoFIaZwrL5",
        "outputId": "973f37e7-8aae-4b31-ae4e-d70e192aa29e"
      },
      "execution_count": null,
      "outputs": [
        {
          "output_type": "execute_result",
          "data": {
            "text/plain": [
              "No cast                    825\n",
              "Anupam Kher                 43\n",
              "Shah Rukh Khan              35\n",
              "Julie Tejwani               33\n",
              "Naseeruddin Shah            32\n",
              "                          ... \n",
              "Melanie Straub               1\n",
              "Gabriela Maria Schmeide      1\n",
              "Helena Zengel                1\n",
              "Daniel Valenzuela            1\n",
              "Chittaranjan Tripathy        1\n",
              "Name: cast, Length: 36440, dtype: int64"
            ]
          },
          "metadata": {},
          "execution_count": 13
        }
      ]
    },
    {
      "cell_type": "code",
      "source": [
        "#number of movies per country\n",
        "df['country']=df['country'].str.split(\", \")\n",
        "country=df.explode('country')\n",
        "country['country'].value_counts()"
      ],
      "metadata": {
        "colab": {
          "base_uri": "https://localhost:8080/"
        },
        "id": "tN165AAG17TF",
        "outputId": "b9487280-e972-4560-8276-a3a1a019ae1e"
      },
      "execution_count": null,
      "outputs": [
        {
          "output_type": "execute_result",
          "data": {
            "text/plain": [
              "United States     3689\n",
              "India             1046\n",
              "No country         831\n",
              "United Kingdom     804\n",
              "Canada             445\n",
              "                  ... \n",
              "Bermuda              1\n",
              "Ecuador              1\n",
              "Armenia              1\n",
              "Mongolia             1\n",
              "Montenegro           1\n",
              "Name: country, Length: 128, dtype: int64"
            ]
          },
          "metadata": {},
          "execution_count": 14
        }
      ]
    },
    {
      "cell_type": "markdown",
      "source": [
        "**b. For graphical analysis:**"
      ],
      "metadata": {
        "id": "Jn2KPPlmDUod"
      }
    },
    {
      "cell_type": "code",
      "source": [
        "#viz of number of movies and tv shows\n",
        "sns.countplot(x='type',data=df,order=df['type'].value_counts().index,)"
      ],
      "metadata": {
        "id": "fJ6Qtf-76IQx",
        "colab": {
          "base_uri": "https://localhost:8080/",
          "height": 466
        },
        "outputId": "4d95d4dc-3a20-4fb1-8624-345e4392fff3"
      },
      "execution_count": null,
      "outputs": [
        {
          "output_type": "execute_result",
          "data": {
            "text/plain": [
              "<Axes: xlabel='type', ylabel='count'>"
            ]
          },
          "metadata": {},
          "execution_count": 15
        },
        {
          "output_type": "display_data",
          "data": {
            "text/plain": [
              "<Figure size 640x480 with 1 Axes>"
            ],
            "image/png": "[encoded data removed]"
          },
          "metadata": {}
        }
      ]
    },
    {
      "cell_type": "markdown",
      "source": [
        "**2. Comparison of tv shows vs. movies.**"
      ],
      "metadata": {
        "id": "iTVhE4dzcWIs"
      }
    },
    {
      "cell_type": "markdown",
      "source": [
        "a. Find the number of movies produced in each country and pick the top 10\n",
        "countries"
      ],
      "metadata": {
        "id": "na2iiELkcf0c"
      }
    },
    {
      "cell_type": "code",
      "source": [
        "con=country[country['type']=='Movie']\n",
        "con1=con.groupby(['country'])\n",
        "con2=con1.size().sort_values(ascending=False)\n",
        "con2.head(10)"
      ],
      "metadata": {
        "colab": {
          "base_uri": "https://localhost:8080/"
        },
        "id": "ssvc6cTaccra",
        "outputId": "7086b277-5a80-44c9-9ae0-ba4b3333389d"
      },
      "execution_count": null,
      "outputs": [
        {
          "output_type": "execute_result",
          "data": {
            "text/plain": [
              "country\n",
              "United States     2751\n",
              "India              962\n",
              "United Kingdom     532\n",
              "No country         440\n",
              "Canada             319\n",
              "France             303\n",
              "Germany            182\n",
              "Spain              171\n",
              "Japan              119\n",
              "China              114\n",
              "dtype: int64"
            ]
          },
          "metadata": {},
          "execution_count": 16
        }
      ]
    },
    {
      "cell_type": "markdown",
      "source": [
        "b. Find the number of Tv-Shows produced in each country and pick the top 10\n",
        "countries."
      ],
      "metadata": {
        "id": "SJh-aM-92G1g"
      }
    },
    {
      "cell_type": "code",
      "source": [
        "con=country[country['type']=='TV Show']\n",
        "con1=con.groupby(['country'])\n",
        "con2=con1.size().sort_values(ascending=False)\n",
        "con2.head(10)"
      ],
      "metadata": {
        "colab": {
          "base_uri": "https://localhost:8080/"
        },
        "id": "J-QuGDZCpOGc",
        "outputId": "f4496f4f-58fe-48a0-adc8-bc640f1df0dd"
      },
      "execution_count": null,
      "outputs": [
        {
          "output_type": "execute_result",
          "data": {
            "text/plain": [
              "country\n",
              "United States     938\n",
              "No country        391\n",
              "United Kingdom    272\n",
              "Japan             199\n",
              "South Korea       170\n",
              "Canada            126\n",
              "France             90\n",
              "India              84\n",
              "Taiwan             70\n",
              "Australia          66\n",
              "dtype: int64"
            ]
          },
          "metadata": {},
          "execution_count": 17
        }
      ]
    },
    {
      "cell_type": "markdown",
      "source": [
        "**3. What is the best time to launch a TV show?**"
      ],
      "metadata": {
        "id": "11iZ1MIB2by8"
      }
    },
    {
      "cell_type": "markdown",
      "source": [
        "a. Find which is the best week to release the Tv-show or the movie. Do the analysis\n",
        "separately for Tv-shows and Movies"
      ],
      "metadata": {
        "id": "MMMmaAcE2fPe"
      }
    },
    {
      "cell_type": "code",
      "source": [
        "df['month_added']=pd.DatetimeIndex(df.date_added).month\n",
        "df['week_added']=pd.DatetimeIndex(df.date_added).week\n",
        "df['day_added']=pd.DatetimeIndex(df.date_added).day\n",
        "df['week_day']=pd.DatetimeIndex(df.date_added).weekday"
      ],
      "metadata": {
        "colab": {
          "base_uri": "https://localhost:8080/"
        },
        "id": "DzU4CquQ2S8t",
        "outputId": "b074c587-5d1a-4da3-b99e-2b9f6b387f4b"
      },
      "execution_count": null,
      "outputs": [
        {
          "output_type": "stream",
          "name": "stderr",
          "text": [
            "<ipython-input-26-f03257c1e7ac>:2: FutureWarning: weekofyear and week have been deprecated, please use DatetimeIndex.isocalendar().week instead, which returns a Series. To exactly reproduce the behavior of week and weekofyear and return an Index, you may call pd.Int64Index(idx.isocalendar().week)\n",
            "  df['week_added']=pd.DatetimeIndex(df.date_added).week\n"
          ]
        }
      ]
    },
    {
      "cell_type": "code",
      "source": [
        "#Best week to launch a TV Show\n",
        "Type=df[df['type']=='TV Show']\n",
        "Type1=Type.groupby(['week_added'])\n",
        "Type2=Type1.size().sort_values(ascending=False)\n",
        "Type2"
      ],
      "metadata": {
        "id": "e4s44oua3nO5",
        "colab": {
          "base_uri": "https://localhost:8080/"
        },
        "outputId": "a5d9d9c2-8fde-4a79-9bd0-dacacea44a87"
      },
      "execution_count": null,
      "outputs": [
        {
          "output_type": "execute_result",
          "data": {
            "text/plain": [
              "week_added\n",
              "27.0    86\n",
              "31.0    83\n",
              "13.0    76\n",
              "44.0    75\n",
              "24.0    75\n",
              "35.0    74\n",
              "5.0     73\n",
              "26.0    73\n",
              "40.0    72\n",
              "50.0    70\n",
              "37.0    69\n",
              "18.0    61\n",
              "48.0    60\n",
              "22.0    60\n",
              "1.0     56\n",
              "39.0    55\n",
              "15.0    52\n",
              "52.0    52\n",
              "51.0    51\n",
              "38.0    51\n",
              "46.0    51\n",
              "32.0    49\n",
              "14.0    49\n",
              "33.0    48\n",
              "11.0    48\n",
              "9.0     47\n",
              "29.0    46\n",
              "20.0    46\n",
              "17.0    45\n",
              "49.0    45\n",
              "36.0    45\n",
              "42.0    45\n",
              "30.0    44\n",
              "53.0    43\n",
              "19.0    43\n",
              "25.0    42\n",
              "12.0    42\n",
              "34.0    41\n",
              "28.0    41\n",
              "7.0     41\n",
              "21.0    41\n",
              "23.0    39\n",
              "8.0     38\n",
              "45.0    37\n",
              "16.0    36\n",
              "47.0    35\n",
              "6.0     33\n",
              "4.0     32\n",
              "3.0     32\n",
              "41.0    32\n",
              "2.0     30\n",
              "10.0    28\n",
              "43.0    28\n",
              "dtype: int64"
            ]
          },
          "metadata": {},
          "execution_count": 38
        }
      ]
    },
    {
      "cell_type": "code",
      "source": [
        "#Best week to launch a movie\n",
        "Type=df[df['type']=='Movie']\n",
        "Type3=Type.groupby(['week_added'])\n",
        "Type4=Type1.size().sort_values(ascending=False)\n",
        "Type4"
      ],
      "metadata": {
        "colab": {
          "base_uri": "https://localhost:8080/"
        },
        "id": "qIWDfgJSyUNT",
        "outputId": "26e7f4fa-8d5c-4948-8a29-930bba542d8e"
      },
      "execution_count": null,
      "outputs": [
        {
          "output_type": "execute_result",
          "data": {
            "text/plain": [
              "week_added\n",
              "27.0    86\n",
              "31.0    83\n",
              "13.0    76\n",
              "44.0    75\n",
              "24.0    75\n",
              "35.0    74\n",
              "5.0     73\n",
              "26.0    73\n",
              "40.0    72\n",
              "50.0    70\n",
              "37.0    69\n",
              "18.0    61\n",
              "48.0    60\n",
              "22.0    60\n",
              "1.0     56\n",
              "39.0    55\n",
              "15.0    52\n",
              "52.0    52\n",
              "51.0    51\n",
              "38.0    51\n",
              "46.0    51\n",
              "32.0    49\n",
              "14.0    49\n",
              "33.0    48\n",
              "11.0    48\n",
              "9.0     47\n",
              "29.0    46\n",
              "20.0    46\n",
              "17.0    45\n",
              "49.0    45\n",
              "36.0    45\n",
              "42.0    45\n",
              "30.0    44\n",
              "53.0    43\n",
              "19.0    43\n",
              "25.0    42\n",
              "12.0    42\n",
              "34.0    41\n",
              "28.0    41\n",
              "7.0     41\n",
              "21.0    41\n",
              "23.0    39\n",
              "8.0     38\n",
              "45.0    37\n",
              "16.0    36\n",
              "47.0    35\n",
              "6.0     33\n",
              "4.0     32\n",
              "3.0     32\n",
              "41.0    32\n",
              "2.0     30\n",
              "10.0    28\n",
              "43.0    28\n",
              "dtype: int64"
            ]
          },
          "metadata": {},
          "execution_count": 39
        }
      ]
    },
    {
      "cell_type": "markdown",
      "source": [
        "b. Find which is the best month to release the Tv-show or the movie. Do the\n",
        "analysis separately for Tv-shows and Movies"
      ],
      "metadata": {
        "id": "Bz0WqdR4z7R8"
      }
    },
    {
      "cell_type": "code",
      "source": [
        "#Best month to launch a TV Show\n",
        "Type=df[df['type']=='TV Show']\n",
        "Type1=Type.groupby(['month_added'])\n",
        "Type2=Type1.size().sort_values(ascending=False)\n",
        "Type2"
      ],
      "metadata": {
        "colab": {
          "base_uri": "https://localhost:8080/"
        },
        "id": "bepKSRldzemC",
        "outputId": "76d865a2-3c7d-4b02-a592-fe3d4cf4a127"
      },
      "execution_count": null,
      "outputs": [
        {
          "output_type": "execute_result",
          "data": {
            "text/plain": [
              "month_added\n",
              "12.0    266\n",
              "7.0     262\n",
              "9.0     251\n",
              "6.0     236\n",
              "8.0     236\n",
              "10.0    215\n",
              "4.0     214\n",
              "3.0     213\n",
              "11.0    207\n",
              "5.0     193\n",
              "1.0     192\n",
              "2.0     181\n",
              "dtype: int64"
            ]
          },
          "metadata": {},
          "execution_count": 40
        }
      ]
    },
    {
      "cell_type": "code",
      "source": [
        "#Best week to launch a movie\n",
        "Type=df[df['type']=='TV Show']\n",
        "Type3=Type.groupby(['month_added'])\n",
        "Type4=Type1.size().sort_values(ascending=False)\n",
        "Type4"
      ],
      "metadata": {
        "colab": {
          "base_uri": "https://localhost:8080/"
        },
        "id": "xnfN6QNU0Dmy",
        "outputId": "6b196ec3-96ea-4997-b3de-130de22e1848"
      },
      "execution_count": null,
      "outputs": [
        {
          "output_type": "execute_result",
          "data": {
            "text/plain": [
              "month_added\n",
              "12.0    266\n",
              "7.0     262\n",
              "9.0     251\n",
              "6.0     236\n",
              "8.0     236\n",
              "10.0    215\n",
              "4.0     214\n",
              "3.0     213\n",
              "11.0    207\n",
              "5.0     193\n",
              "1.0     192\n",
              "2.0     181\n",
              "dtype: int64"
            ]
          },
          "metadata": {},
          "execution_count": 41
        }
      ]
    },
    {
      "cell_type": "markdown",
      "source": [
        "**4. Analysis of actors/directors of different types of shows/movies.**"
      ],
      "metadata": {
        "id": "cUWMa1BN2dcT"
      }
    },
    {
      "cell_type": "markdown",
      "source": [
        "a. Identify the top 10 directors who have appeared in most movies or TV shows."
      ],
      "metadata": {
        "id": "CcNTcUwT2p0y"
      }
    },
    {
      "cell_type": "code",
      "source": [
        "#number of directors\n",
        "df['director']=df['director'].str.split(\", \")\n",
        "dir=df.explode('director')\n",
        "#dir1=dir['director'].value_counts()\n",
        "dir1=dir.groupby('director')['title'].value_counts()\n",
        "dir2=dir1.sort_values(ascending=False)\n",
        "dir2.head(10)"
      ],
      "metadata": {
        "colab": {
          "base_uri": "https://localhost:8080/"
        },
        "id": "Eqhm707T0Uyj",
        "outputId": "587fd55a-a3f3-4b71-daa5-6b9247626258"
      },
      "execution_count": null,
      "outputs": [
        {
          "output_type": "execute_result",
          "data": {
            "text/plain": [
              "director           title                   \n",
              "Miguel Cohan       Blood Will Tell             2\n",
              "A. L. Vijay        Abhinetri                   1\n",
              "Oliver Stone       Snowden                     1\n",
              "Olivier Afonso     Girls With Balls            1\n",
              "Olivier Abbou      Get In                      1\n",
              "Olivia Newman      First Match                 1\n",
              "Olivia Milch       Dude                        1\n",
              "Olivia M. Lamasan  The Mistress                1\n",
              "                   Starting Over Again         1\n",
              "                   Barcelona: A Love Untold    1\n",
              "Name: title, dtype: int64"
            ]
          },
          "metadata": {},
          "execution_count": 73
        }
      ]
    },
    {
      "cell_type": "code",
      "source": [],
      "metadata": {
        "id": "VI6twvdUJU4D"
      },
      "execution_count": null,
      "outputs": []
    }
  ]
}