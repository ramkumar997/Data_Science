{
  "nbformat": 4,
  "nbformat_minor": 0,
  "metadata": {
    "colab": {
      "provenance": [],
      "include_colab_link": true
    },
    "kernelspec": {
      "name": "python3",
      "display_name": "Python 3"
    },
    "language_info": {
      "name": "python"
    }
  },
  "cells": [
    {
      "cell_type": "markdown",
      "metadata": {
        "id": "view-in-github",
        "colab_type": "text"
      },
      "source": [
        "<a href=\"https://colab.research.google.com/github/ramkumar997/Data_Science/blob/main/Numpy/Numpy2_RevisionNotes_Fitbit.ipynb\" target=\"_parent\"><img src=\"https://colab.research.google.com/assets/colab-badge.svg\" alt=\"Open In Colab\"/></a>"
      ]
    },
    {
      "cell_type": "markdown",
      "metadata": {
        "id": "axTfX41Q1tzv"
      },
      "source": [
        "## Content\n",
        "\n",
        "- **Introduction to use case**\n",
        "\n",
        "    \n",
        "- **2-D arrays (Matrices)**\n",
        "    - `reshape()`\n",
        "    - Transpose\n",
        "    - Converting Matrix back to Vector - `flatten()`\n",
        "\n",
        "\n",
        "- **Indexing and Slicing on 2D**\n",
        "    - Indexing\n",
        "    - Slicing\n",
        "    - Masking (Fancy Indexing)\n",
        "\n",
        "- **Universal Functions (ufunc) on 2D**\n",
        "    - Aggregate Function/ Reduction functions - `sum()`, `mean()`, `min()`, `max()`\n",
        "    - Axis argument\n",
        "\n",
        "    \n",
        "    - Sorting function - `sort()`, `argsort()`\n",
        "       \n",
        "\n",
        "\n"
      ]
    },
    {
      "cell_type": "markdown",
      "metadata": {
        "id": "VSVU-5ScMbDp"
      },
      "source": [
        "## Use Case: Fitbit\n",
        "\n",
        "### Imagine you are a Data Scientist at Fitbit\n",
        "\n",
        "You've been given a user data to analyse and find some insights which can be shown on the smart watch.\n",
        "\n",
        "#### But why would we want to analyse the user data for desiging the watch?\n",
        "\n",
        "These insights from the user data can help business make customer oriented decision for the product design.\n",
        "\n",
        "\n",
        "\n",
        "#### Lets first look at the data we have gathered\n",
        "\n",
        "Link: https://drive.google.com/file/d/1Uxwd4H-tfM64giRS1VExMpQXKtBBtuP0/view?usp=sharing\n",
        "\n",
        "<img src='https://drive.google.com/uc?id=1Uxwd4H-tfM64giRS1VExMpQXKtBBtuP0'>\n"
      ]
    },
    {
      "cell_type": "markdown",
      "metadata": {
        "id": "d4ad3b77"
      },
      "source": [
        "#### Notice that there are some user features in the data\n",
        "\n",
        "There are provided as various columns in the data.\n",
        "\n",
        "#### Every row is called a record or data point\n",
        "\n",
        "\n",
        "#### What are all the features provided to us?\n",
        "\n",
        "- Date\n",
        "- Step Count\n",
        "- Mood (Categorical)\n",
        "- Calories Burned\n",
        "- Hours of sleep\n",
        "- Feeling Active (Categorical)\n",
        "\n",
        "\n",
        "**Using NumPy, we will explore this data to look for some interesting insights - Exploratory Data Analysis.**\n",
        "\n",
        "#### EDA is all about asking the right questions\n",
        "\n",
        "#### What kind of questions can we answer using this data?\n",
        "\n",
        "- How many records and features are there in the dataset?\n",
        "- What is the **average step count**?\n",
        "- On which day the **step count was highest/lowest?**\n",
        "\n",
        "\n",
        "#### Can we find some deeper insights?\n",
        "\n",
        "We can probably see how daily activity affects sleep and moood.\n",
        "\n",
        "We will try finding\n",
        "- How daily activity affects mood?"
      ]
    },
    {
      "cell_type": "code",
      "source": [
        "import numpy as np"
      ],
      "metadata": {
        "id": "F2RDRo8HrxmR"
      },
      "execution_count": null,
      "outputs": []
    },
    {
      "cell_type": "markdown",
      "metadata": {
        "id": "ZA0uqFwD1t0i"
      },
      "source": [
        "## Working with 2-D arrays (Matrices)\n",
        "\n",
        "\n",
        "#### Question : How do we create a matrix using numpy?"
      ]
    },
    {
      "cell_type": "code",
      "execution_count": null,
      "metadata": {
        "colab": {
          "base_uri": "https://localhost:8080/"
        },
        "id": "QX4qy7KR1t0j",
        "outputId": "b45c3ada-995f-4c7c-8cd8-4c582a099f7b"
      },
      "outputs": [
        {
          "output_type": "execute_result",
          "data": {
            "text/plain": [
              "array([[1, 2, 3],\n",
              "       [4, 5, 6]])"
            ]
          },
          "metadata": {},
          "execution_count": 4
        }
      ],
      "source": [
        "m1 = np.array([[1,2,3],[4,5,6]])\n",
        "m1\n",
        "# Nicely printing out in a Matrix form"
      ]
    },
    {
      "cell_type": "markdown",
      "metadata": {
        "id": "48gOGx271t0k"
      },
      "source": [
        "How can we check shape of a numpy array?"
      ]
    },
    {
      "cell_type": "code",
      "execution_count": null,
      "metadata": {
        "colab": {
          "base_uri": "https://localhost:8080/"
        },
        "id": "xasgFy_e1t0k",
        "outputId": "a67d9418-769c-4769-d8b2-e1ea3296b292"
      },
      "outputs": [
        {
          "output_type": "execute_result",
          "data": {
            "text/plain": [
              "(2, 3)"
            ]
          },
          "metadata": {},
          "execution_count": 5
        }
      ],
      "source": [
        "m1.shape # arr1 has 3 elements"
      ]
    },
    {
      "cell_type": "markdown",
      "metadata": {
        "id": "Zr1QG-441t0k"
      },
      "source": [
        "#### Question: What is the type of this result of `arr1.shape`? Which data structure is this?\n",
        "Tuple"
      ]
    },
    {
      "cell_type": "markdown",
      "metadata": {
        "id": "bh3u-HW11t0l"
      },
      "source": [
        "#### Now, What is the dimension of this array?"
      ]
    },
    {
      "cell_type": "code",
      "execution_count": null,
      "metadata": {
        "colab": {
          "base_uri": "https://localhost:8080/"
        },
        "id": "Z9lAZhks1t0l",
        "outputId": "763e8788-a710-4cca-d548-387ad793aeff"
      },
      "outputs": [
        {
          "output_type": "execute_result",
          "data": {
            "text/plain": [
              "2"
            ]
          },
          "metadata": {},
          "execution_count": 6
        }
      ],
      "source": [
        "m1.ndim"
      ]
    },
    {
      "cell_type": "markdown",
      "metadata": {
        "id": "6fRzDDHczgsc"
      },
      "source": [
        "#### Question\n",
        "```\n",
        "\n",
        "a = np.array([[1,2,3],\n",
        "              [4,5,6],\n",
        "              [7,8,9]])\n",
        "\n",
        "b = len(a)\n",
        "```\n",
        "What'll be the value of b?\n",
        "\n",
        "```\n",
        "Ans: 3\n",
        "```\n",
        "**Explanation: len(nD array) will give you magnitude of first dimension**\n"
      ]
    },
    {
      "cell_type": "code",
      "execution_count": null,
      "metadata": {
        "id": "zqUiUtcrz9tY"
      },
      "outputs": [],
      "source": [
        "a = np.array([[1,2,3],\n",
        "              [4,5,6],\n",
        "              [7,8,9]])"
      ]
    },
    {
      "cell_type": "code",
      "execution_count": null,
      "metadata": {
        "colab": {
          "base_uri": "https://localhost:8080/"
        },
        "id": "P7H_pXQH0BqH",
        "outputId": "75c324db-426f-4550-ee04-36181ccf5bf3"
      },
      "outputs": [
        {
          "output_type": "execute_result",
          "data": {
            "text/plain": [
              "array([[1, 2, 3],\n",
              "       [4, 5, 6],\n",
              "       [7, 8, 9]])"
            ]
          },
          "metadata": {},
          "execution_count": 8
        }
      ],
      "source": [
        "a"
      ]
    },
    {
      "cell_type": "code",
      "execution_count": null,
      "metadata": {
        "colab": {
          "base_uri": "https://localhost:8080/"
        },
        "id": "tGMHMna70CX2",
        "outputId": "c9f07ed3-1a29-4b57-d74b-b70d6d591a87"
      },
      "outputs": [
        {
          "output_type": "execute_result",
          "data": {
            "text/plain": [
              "3"
            ]
          },
          "metadata": {},
          "execution_count": 9
        }
      ],
      "source": [
        "len(a)"
      ]
    },
    {
      "cell_type": "markdown",
      "metadata": {
        "id": "XXPT5gu71t0n"
      },
      "source": [
        "#### What will be the shape of array `a`?"
      ]
    },
    {
      "cell_type": "code",
      "execution_count": null,
      "metadata": {
        "id": "Sj2XEJNJ1t0n",
        "outputId": "81e57a9f-497d-4d8c-9bc4-a53e198f92e3",
        "colab": {
          "base_uri": "https://localhost:8080/"
        }
      },
      "outputs": [
        {
          "output_type": "execute_result",
          "data": {
            "text/plain": [
              "(3, 3)"
            ]
          },
          "metadata": {},
          "execution_count": 10
        }
      ],
      "source": [
        "a.shape"
      ]
    },
    {
      "cell_type": "markdown",
      "metadata": {
        "id": "z9NoUSBq1t0o"
      },
      "source": [
        "- So, it is a **2-D array** with **3 rows and 3 columns**"
      ]
    },
    {
      "cell_type": "markdown",
      "metadata": {
        "id": "cXZ2DX6YYe-S"
      },
      "source": [
        "Clearly, if **we have to create high-dimensional arrays, we cannot do this using `np.arange()`** directly\n",
        "\n",
        "### How can we create high dimensional arrays?\n",
        "\n",
        "- Using `reshape()`\n",
        "\n",
        "For a 2D array\n",
        "- **First argument** is **no. of rows**\n",
        "- **Second argument** is **no. of columns**"
      ]
    },
    {
      "cell_type": "code",
      "execution_count": null,
      "metadata": {
        "id": "bm8Cm4xlYe-S",
        "outputId": "68eaff17-2a94-43f6-8eb1-f9a23541554b",
        "colab": {
          "base_uri": "https://localhost:8080/"
        }
      },
      "outputs": [
        {
          "output_type": "execute_result",
          "data": {
            "text/plain": [
              "array([ 1,  2,  3,  4,  5,  6,  7,  8,  9, 10, 11, 12])"
            ]
          },
          "metadata": {},
          "execution_count": 11
        }
      ],
      "source": [
        "m2 = np.arange(1, 13)\n",
        "m2"
      ]
    },
    {
      "cell_type": "markdown",
      "metadata": {
        "id": "RP72nUIeYe-T"
      },
      "source": [
        "- We can pass the **desired dimensions** of array in `reshape()`\n",
        "\n",
        "#### In what ways can we convert this array with 12 values into high-dimensional array?\n",
        "\n",
        "#### Can we make `m2` a $4\\times4$ array?\n",
        "\n",
        "- Obviously NO\n",
        "- **$4\\times4$ requires 16 values**, but **we only have 12 in `m2`**"
      ]
    },
    {
      "cell_type": "code",
      "execution_count": null,
      "metadata": {
        "id": "JOyIImuTYe-T",
        "outputId": "1e26811e-3e06-48be-8b72-23a9d4411c5e",
        "colab": {
          "base_uri": "https://localhost:8080/",
          "height": 187
        }
      },
      "outputs": [
        {
          "output_type": "error",
          "ename": "ValueError",
          "evalue": "ignored",
          "traceback": [
            "\u001b[0;31m---------------------------------------------------------------------------\u001b[0m",
            "\u001b[0;31mValueError\u001b[0m                                Traceback (most recent call last)",
            "\u001b[0;32m<ipython-input-12-fc70b006b379>\u001b[0m in \u001b[0;36m<module>\u001b[0;34m\u001b[0m\n\u001b[1;32m      1\u001b[0m \u001b[0mm2\u001b[0m \u001b[0;34m=\u001b[0m \u001b[0mnp\u001b[0m\u001b[0;34m.\u001b[0m\u001b[0marange\u001b[0m\u001b[0;34m(\u001b[0m\u001b[0;36m1\u001b[0m\u001b[0;34m,\u001b[0m \u001b[0;36m13\u001b[0m\u001b[0;34m)\u001b[0m\u001b[0;34m\u001b[0m\u001b[0;34m\u001b[0m\u001b[0m\n\u001b[0;32m----> 2\u001b[0;31m \u001b[0mm2\u001b[0m\u001b[0;34m.\u001b[0m\u001b[0mreshape\u001b[0m\u001b[0;34m(\u001b[0m\u001b[0;36m4\u001b[0m\u001b[0;34m,\u001b[0m \u001b[0;36m4\u001b[0m\u001b[0;34m)\u001b[0m\u001b[0;34m\u001b[0m\u001b[0;34m\u001b[0m\u001b[0m\n\u001b[0m",
            "\u001b[0;31mValueError\u001b[0m: cannot reshape array of size 12 into shape (4,4)"
          ]
        }
      ],
      "source": [
        "m2 = np.arange(1, 13)\n",
        "m2.reshape(4, 4)"
      ]
    },
    {
      "cell_type": "markdown",
      "metadata": {
        "id": "78aniOL-Ye-U"
      },
      "source": [
        "#### So, What are the ways in which we can reshape it?\n",
        "\n",
        "- $4\\times3$\n",
        "- $3\\times4$\n",
        "- $6\\times2$\n",
        "- $2\\times6$\n",
        "- $1\\times12$\n",
        "- $12\\times1$"
      ]
    },
    {
      "cell_type": "code",
      "execution_count": null,
      "metadata": {
        "id": "s37uw1zzYe-U",
        "outputId": "41f5045f-1e21-4f2c-a7a0-7312f4e7c3fa",
        "colab": {
          "base_uri": "https://localhost:8080/"
        }
      },
      "outputs": [
        {
          "output_type": "execute_result",
          "data": {
            "text/plain": [
              "array([[ 1,  2,  3],\n",
              "       [ 4,  5,  6],\n",
              "       [ 7,  8,  9],\n",
              "       [10, 11, 12]])"
            ]
          },
          "metadata": {},
          "execution_count": 13
        }
      ],
      "source": [
        "m2 = np.arange(1, 13)\n",
        "m2.reshape(4, 3)"
      ]
    },
    {
      "cell_type": "code",
      "execution_count": null,
      "metadata": {
        "id": "tcq84PWvYe-U",
        "outputId": "6c4bbdaf-ea76-4094-d22d-927f57516653",
        "colab": {
          "base_uri": "https://localhost:8080/"
        }
      },
      "outputs": [
        {
          "output_type": "execute_result",
          "data": {
            "text/plain": [
              "array([ 1,  2,  3,  4,  5,  6,  7,  8,  9, 10, 11, 12])"
            ]
          },
          "metadata": {},
          "execution_count": 14
        }
      ],
      "source": [
        "m2 = np.arange(1, 13)\n",
        "m2"
      ]
    },
    {
      "cell_type": "code",
      "execution_count": null,
      "metadata": {
        "id": "019060ba",
        "outputId": "865b09f9-d5d9-445f-945c-934399c752c8",
        "colab": {
          "base_uri": "https://localhost:8080/"
        }
      },
      "outputs": [
        {
          "output_type": "execute_result",
          "data": {
            "text/plain": [
              "(12,)"
            ]
          },
          "metadata": {},
          "execution_count": 15
        }
      ],
      "source": [
        "m2.shape"
      ]
    },
    {
      "cell_type": "markdown",
      "metadata": {
        "id": "395bcc9e"
      },
      "source": [
        "#### Lets do some reshaping here"
      ]
    },
    {
      "cell_type": "code",
      "execution_count": null,
      "metadata": {
        "id": "c0277b72",
        "outputId": "5aff7b51-51ab-4aa6-ef92-a09983979960",
        "colab": {
          "base_uri": "https://localhost:8080/"
        }
      },
      "outputs": [
        {
          "output_type": "execute_result",
          "data": {
            "text/plain": [
              "array([[ 1],\n",
              "       [ 2],\n",
              "       [ 3],\n",
              "       [ 4],\n",
              "       [ 5],\n",
              "       [ 6],\n",
              "       [ 7],\n",
              "       [ 8],\n",
              "       [ 9],\n",
              "       [10],\n",
              "       [11],\n",
              "       [12]])"
            ]
          },
          "metadata": {},
          "execution_count": 16
        }
      ],
      "source": [
        "m2.reshape(12, 1)"
      ]
    },
    {
      "cell_type": "markdown",
      "metadata": {
        "id": "iJCi4GNbYe-f"
      },
      "source": [
        "#### Now, What's the difference b/w `(12,)` and `(12, 1)`?\n",
        "\n",
        "- **`(12,)`** means its a **1D array**\n",
        "- **`(12, 1)`** means its a **2D array**"
      ]
    },
    {
      "cell_type": "markdown",
      "metadata": {
        "id": "lP1QypH5Ye-j"
      },
      "source": [
        "#### Question\n",
        "\n",
        "What will be output for the following code?\n",
        "```\n",
        "a = np.array([[1,2,3],[0,1,4]])\n",
        "print(a.ndim)\n",
        "```\n",
        "\n",
        "**Ans: 2**\n"
      ]
    },
    {
      "cell_type": "code",
      "execution_count": null,
      "metadata": {
        "id": "DqHeZc8tS0ne",
        "outputId": "387a9657-5b30-4782-91d0-f91c59d3cd57",
        "colab": {
          "base_uri": "https://localhost:8080/"
        }
      },
      "outputs": [
        {
          "output_type": "stream",
          "name": "stdout",
          "text": [
            "2\n"
          ]
        }
      ],
      "source": [
        "a = np.array([[1,2,3],[0,1,4]])\n",
        "print(a.ndim)"
      ]
    },
    {
      "cell_type": "markdown",
      "metadata": {
        "id": "KScHZ-yfS0ne"
      },
      "source": [
        "Since it is a 2 dimensional array, the number of dimension will be 2."
      ]
    },
    {
      "cell_type": "markdown",
      "metadata": {
        "id": "CRzZ5I571t1s"
      },
      "source": [
        "### Transpose\n",
        "\n",
        "- **Change rows into columns and columns into rows**\n",
        "\n",
        "- Just use `<Matrix>.T`"
      ]
    },
    {
      "cell_type": "code",
      "execution_count": null,
      "metadata": {
        "colab": {
          "base_uri": "https://localhost:8080/"
        },
        "id": "iohLiRpy1t1s",
        "outputId": "ba937189-3ed3-4f6d-9c17-b85cfe79541d"
      },
      "outputs": [
        {
          "output_type": "execute_result",
          "data": {
            "text/plain": [
              "array([0, 1, 2])"
            ]
          },
          "metadata": {},
          "execution_count": 18
        }
      ],
      "source": [
        "a = np.arange(3)\n",
        "a"
      ]
    },
    {
      "cell_type": "code",
      "execution_count": null,
      "metadata": {
        "colab": {
          "base_uri": "https://localhost:8080/"
        },
        "id": "J4xuQjfj1t1t",
        "outputId": "556276d2-98a5-4084-c4f7-76a54d31cc5a"
      },
      "outputs": [
        {
          "output_type": "execute_result",
          "data": {
            "text/plain": [
              "array([0, 1, 2])"
            ]
          },
          "metadata": {},
          "execution_count": 19
        }
      ],
      "source": [
        "a.T"
      ]
    },
    {
      "cell_type": "markdown",
      "metadata": {
        "id": "-er1v-a21t1t"
      },
      "source": [
        "#### Why did Transpose did not work?\n",
        "\n",
        "- Because **numpy sees `a` as a vector (3,), NOT a matrix**\n",
        "\n",
        "- We'll have to **reshape the vector `a` to make it a matrix**"
      ]
    },
    {
      "cell_type": "code",
      "execution_count": null,
      "metadata": {
        "colab": {
          "base_uri": "https://localhost:8080/"
        },
        "id": "JR7W0iiO1t1u",
        "outputId": "3089887b-f78c-42cc-ebf9-4153c8f5e1ab"
      },
      "outputs": [
        {
          "output_type": "execute_result",
          "data": {
            "text/plain": [
              "array([[0, 1, 2]])"
            ]
          },
          "metadata": {},
          "execution_count": 20
        }
      ],
      "source": [
        "a = np.arange(3).reshape(1, 3)\n",
        "a\n",
        "# Now a has dimensions (1, 3) instead of just (3,)\n",
        "# It has 1 row and 3 columns"
      ]
    },
    {
      "cell_type": "code",
      "execution_count": null,
      "metadata": {
        "colab": {
          "base_uri": "https://localhost:8080/"
        },
        "id": "U1aYoc-M1t1u",
        "outputId": "4ff65bb1-036d-4f27-a451-8a44e8bd9444"
      },
      "outputs": [
        {
          "output_type": "execute_result",
          "data": {
            "text/plain": [
              "array([[0],\n",
              "       [1],\n",
              "       [2]])"
            ]
          },
          "metadata": {},
          "execution_count": 21
        }
      ],
      "source": [
        "a.T\n",
        "# It has 3 rows and 1 column"
      ]
    },
    {
      "cell_type": "markdown",
      "metadata": {
        "id": "w2R6RH6-1t1v"
      },
      "source": [
        "\n",
        "\n",
        "#### Conclusion\n",
        "\n",
        "- **Transpose works only on matrices**\n"
      ]
    },
    {
      "cell_type": "markdown",
      "metadata": {
        "id": "pnvUWC-Ad4oY"
      },
      "source": [
        "### Flattening of an array\n",
        "\n",
        "#### What if we want to convert this 2D or nD array back to 1D array?\n",
        "\n",
        "There is a function named `flatten()` to help you do so.\n",
        "\n"
      ]
    },
    {
      "cell_type": "code",
      "execution_count": null,
      "metadata": {
        "colab": {
          "base_uri": "https://localhost:8080/"
        },
        "id": "xg4rmR3eeRcg",
        "outputId": "c73ca409-ee88-409c-cfde-85f322c3449c"
      },
      "outputs": [
        {
          "output_type": "execute_result",
          "data": {
            "text/plain": [
              "array([[ 0,  1,  2,  3],\n",
              "       [ 4,  5,  6,  7],\n",
              "       [ 8,  9, 10, 11]])"
            ]
          },
          "metadata": {},
          "execution_count": 22
        }
      ],
      "source": [
        "A = np.arange(12).reshape(3, 4)\n",
        "A"
      ]
    },
    {
      "cell_type": "code",
      "execution_count": null,
      "metadata": {
        "colab": {
          "base_uri": "https://localhost:8080/"
        },
        "id": "ldkqK-AyeRch",
        "outputId": "e71a504d-541b-461b-c6c9-a3cab14803f2"
      },
      "outputs": [
        {
          "output_type": "execute_result",
          "data": {
            "text/plain": [
              "array([ 0,  1,  2,  3,  4,  5,  6,  7,  8,  9, 10, 11])"
            ]
          },
          "metadata": {},
          "execution_count": 23
        }
      ],
      "source": [
        "A.flatten()"
      ]
    },
    {
      "cell_type": "markdown",
      "metadata": {
        "id": "istW-j-21t08"
      },
      "source": [
        "## Indexing and Slicing on 2D Numpy arrays\n",
        "\n",
        "\n",
        "\n"
      ]
    },
    {
      "cell_type": "markdown",
      "metadata": {
        "id": "mTJho4HI1t09"
      },
      "source": [
        "### Indexing in np arrays\n",
        "\n",
        "- Works same as lists"
      ]
    },
    {
      "cell_type": "code",
      "execution_count": null,
      "metadata": {
        "id": "9EaLBN_HrRqy"
      },
      "outputs": [],
      "source": [
        "m1 = np.arange(1,10).reshape((3,3))"
      ]
    },
    {
      "cell_type": "code",
      "execution_count": null,
      "metadata": {
        "colab": {
          "base_uri": "https://localhost:8080/"
        },
        "id": "SPO6wjYTrQCr",
        "outputId": "8b9c2f0f-3d7d-4d98-b779-b6474b56dd00"
      },
      "outputs": [
        {
          "output_type": "execute_result",
          "data": {
            "text/plain": [
              "array([[1, 2, 3],\n",
              "       [4, 5, 6],\n",
              "       [7, 8, 9]])"
            ]
          },
          "metadata": {},
          "execution_count": 25
        }
      ],
      "source": [
        "m1"
      ]
    },
    {
      "cell_type": "code",
      "execution_count": null,
      "metadata": {
        "colab": {
          "base_uri": "https://localhost:8080/"
        },
        "id": "3kxteTp7ruig",
        "outputId": "1ed9b0a2-4ad0-4b61-cea3-e2b556d14975"
      },
      "outputs": [
        {
          "output_type": "execute_result",
          "data": {
            "text/plain": [
              "6"
            ]
          },
          "metadata": {},
          "execution_count": 26
        }
      ],
      "source": [
        "m1[1][2]"
      ]
    },
    {
      "cell_type": "markdown",
      "metadata": {
        "id": "zLbBNlbs1t0_"
      },
      "source": [
        "OR\n",
        "\n",
        "- We just use [0, 0] (**indexes separated by commas**)\n",
        "\n",
        "#### What will be the output of this?"
      ]
    },
    {
      "cell_type": "code",
      "execution_count": null,
      "metadata": {
        "id": "QKh19gtv1t0_",
        "outputId": "c523f165-5d37-4e5b-9208-51d428baa317",
        "colab": {
          "base_uri": "https://localhost:8080/"
        }
      },
      "outputs": [
        {
          "output_type": "execute_result",
          "data": {
            "text/plain": [
              "5"
            ]
          },
          "metadata": {},
          "execution_count": 27
        }
      ],
      "source": [
        "m1[1, 1] #m1[row, column]"
      ]
    },
    {
      "cell_type": "markdown",
      "metadata": {
        "id": "q5xBtDrAb0Fa"
      },
      "source": [
        "#### We saw how we can use list of indexes in numpy array"
      ]
    },
    {
      "cell_type": "code",
      "execution_count": null,
      "metadata": {
        "id": "heVDJRWAcNGz"
      },
      "outputs": [],
      "source": [
        "m1 = np.array([100,200,300,400,500,600])"
      ]
    },
    {
      "cell_type": "code",
      "execution_count": null,
      "metadata": {
        "colab": {
          "base_uri": "https://localhost:8080/"
        },
        "id": "58Wyc-GIb8Ct",
        "outputId": "fb03739a-c35b-417d-ba56-9f14c5b12025"
      },
      "outputs": [
        {
          "output_type": "execute_result",
          "data": {
            "text/plain": [
              "array([300, 400, 500, 200, 300, 300])"
            ]
          },
          "metadata": {},
          "execution_count": 29
        }
      ],
      "source": [
        "m1[[2,3,4,1,2,2]]"
      ]
    },
    {
      "cell_type": "markdown",
      "metadata": {
        "id": "zHudz61AcGWO"
      },
      "source": [
        "\n",
        "\n",
        "How'll list of indexes work in 2D array ?"
      ]
    },
    {
      "cell_type": "code",
      "execution_count": null,
      "metadata": {
        "id": "FWVA0k2lcc9f"
      },
      "outputs": [],
      "source": [
        "m1 = np.arange(9).reshape((3,3))"
      ]
    },
    {
      "cell_type": "code",
      "execution_count": null,
      "metadata": {
        "colab": {
          "base_uri": "https://localhost:8080/"
        },
        "id": "uszfu4U1cnux",
        "outputId": "34811611-a7b7-4b28-c5a6-f78f570ae7c5"
      },
      "outputs": [
        {
          "output_type": "execute_result",
          "data": {
            "text/plain": [
              "array([[0, 1, 2],\n",
              "       [3, 4, 5],\n",
              "       [6, 7, 8]])"
            ]
          },
          "metadata": {},
          "execution_count": 31
        }
      ],
      "source": [
        "m1"
      ]
    },
    {
      "cell_type": "code",
      "execution_count": null,
      "metadata": {
        "colab": {
          "base_uri": "https://localhost:8080/"
        },
        "id": "uNBG2cadcwjO",
        "outputId": "63f05b01-17f9-48fb-ebff-cf57fa41de92"
      },
      "outputs": [
        {
          "output_type": "execute_result",
          "data": {
            "text/plain": [
              "array([0, 4, 8])"
            ]
          },
          "metadata": {},
          "execution_count": 32
        }
      ],
      "source": [
        "m1[[0,1,2],[0,1,2]] # picking up element (0,0), (1,1) and (2,2)"
      ]
    },
    {
      "cell_type": "markdown",
      "metadata": {
        "id": "cKmm6fX21t1A"
      },
      "source": [
        "### Slicing\n",
        "\n",
        "- Need to **provide two slice ranges** - one for **row** and one for **column**\n",
        "- Can also **mix Indexing and Slicing**"
      ]
    },
    {
      "cell_type": "code",
      "execution_count": null,
      "metadata": {
        "colab": {
          "base_uri": "https://localhost:8080/"
        },
        "id": "zQmukPpor5dz",
        "outputId": "ffe70004-1c82-414f-96dc-c42844699de3"
      },
      "outputs": [
        {
          "output_type": "execute_result",
          "data": {
            "text/plain": [
              "array([[ 0,  1,  2,  3],\n",
              "       [ 4,  5,  6,  7],\n",
              "       [ 8,  9, 10, 11]])"
            ]
          },
          "metadata": {},
          "execution_count": 33
        }
      ],
      "source": [
        "m1 = np.arange(12).reshape(3,4)\n",
        "m1"
      ]
    },
    {
      "cell_type": "code",
      "execution_count": null,
      "metadata": {
        "colab": {
          "base_uri": "https://localhost:8080/"
        },
        "id": "TtS5ZlBer8AE",
        "outputId": "a1e66fd1-f7f3-4799-b07f-4710a0050dce"
      },
      "outputs": [
        {
          "output_type": "execute_result",
          "data": {
            "text/plain": [
              "array([[0, 1, 2, 3],\n",
              "       [4, 5, 6, 7]])"
            ]
          },
          "metadata": {},
          "execution_count": 34
        }
      ],
      "source": [
        "m1[:2] # gives first two rows"
      ]
    },
    {
      "cell_type": "markdown",
      "source": [
        "#### How can we get columns from 2D array?"
      ],
      "metadata": {
        "id": "HmvTpXb5HW7j"
      }
    },
    {
      "cell_type": "code",
      "source": [
        "m1[:, :2] # gives first two columns"
      ],
      "metadata": {
        "colab": {
          "base_uri": "https://localhost:8080/"
        },
        "id": "Tx28EXFXHaX1",
        "outputId": "155771b5-b19d-4719-a1d2-b7c73dabbae5"
      },
      "execution_count": null,
      "outputs": [
        {
          "output_type": "execute_result",
          "data": {
            "text/plain": [
              "array([[0, 1],\n",
              "       [4, 5],\n",
              "       [8, 9]])"
            ]
          },
          "metadata": {},
          "execution_count": 35
        }
      ]
    },
    {
      "cell_type": "markdown",
      "metadata": {
        "id": "yvVjceJzsEf7"
      },
      "source": [
        "**Question: Given an 2-D array**\n",
        "\n",
        "```\n",
        "m1 = [[0,1,2,3],\n",
        "     [4,5,6,7],\n",
        "     [8,9,10,11]]\n",
        "\n",
        "```"
      ]
    },
    {
      "cell_type": "code",
      "execution_count": null,
      "metadata": {
        "id": "mQG8qDWss0ie"
      },
      "outputs": [],
      "source": [
        "m1 = m1.reshape((3,4))"
      ]
    },
    {
      "cell_type": "markdown",
      "metadata": {
        "id": "yGMW-oHg1t1B"
      },
      "source": [
        "#### Question for you: Can you just get this much of our array `m1`?\n",
        "```\n",
        "[[5, 6],\n",
        " [9, 10]]\n",
        "```\n",
        "\n",
        "#### Remember our `m1` is:\n",
        "```\n",
        "m1 = [[0, 1, 2, 3],\n",
        "      [4, 5, 6, 7],\n",
        "      [8, 9, 10, 11]]\n",
        "```"
      ]
    },
    {
      "cell_type": "code",
      "execution_count": null,
      "metadata": {
        "colab": {
          "base_uri": "https://localhost:8080/"
        },
        "id": "9LOPPohP1t1C",
        "outputId": "a6b79272-2632-49b7-f0b9-cb0f56da375b"
      },
      "outputs": [
        {
          "output_type": "execute_result",
          "data": {
            "text/plain": [
              "array([[ 5,  6],\n",
              "       [ 9, 10]])"
            ]
          },
          "metadata": {},
          "execution_count": 37
        }
      ],
      "source": [
        "# First get rows 1 to all\n",
        "# Then get columns 1 to 3 (not included)\n",
        "m1[1:, 1:3]"
      ]
    },
    {
      "cell_type": "markdown",
      "metadata": {
        "id": "zLKLv3Ah1t1D"
      },
      "source": [
        "#### Question: What if I need 1st and 3rd column?\n",
        "```\n",
        "[[1, 3],\n",
        " [5, 7],\n",
        " [9,11]]\n",
        "```"
      ]
    },
    {
      "cell_type": "code",
      "execution_count": null,
      "metadata": {
        "colab": {
          "base_uri": "https://localhost:8080/"
        },
        "id": "u5Eg8yp71t1D",
        "outputId": "d95e4148-a0e2-4811-a308-13ceefe78811"
      },
      "outputs": [
        {
          "output_type": "execute_result",
          "data": {
            "text/plain": [
              "array([[ 1,  3],\n",
              "       [ 5,  7],\n",
              "       [ 9, 11]])"
            ]
          },
          "metadata": {},
          "execution_count": 38
        }
      ],
      "source": [
        "# Get all rows\n",
        "# Then get columns from 1 to all with step of 2\n",
        "\n",
        "m1[:, 1::2]"
      ]
    },
    {
      "cell_type": "markdown",
      "metadata": {
        "id": "Sm9GAk8V1t1E"
      },
      "source": [
        "- **We can also pass indices of required columns as a Tuple** to get the same result"
      ]
    },
    {
      "cell_type": "code",
      "execution_count": null,
      "metadata": {
        "id": "Foo6h5Ek1t1E",
        "outputId": "c3a74b8c-ae52-43f6-e392-9ff21983f11c",
        "colab": {
          "base_uri": "https://localhost:8080/"
        }
      },
      "outputs": [
        {
          "output_type": "execute_result",
          "data": {
            "text/plain": [
              "array([[ 1,  3],\n",
              "       [ 5,  7],\n",
              "       [ 9, 11]])"
            ]
          },
          "metadata": {},
          "execution_count": 39
        }
      ],
      "source": [
        "# Get all rows\n",
        "# Then get columns 1 and 3\n",
        "\n",
        "m1[:, (1,3)]"
      ]
    },
    {
      "cell_type": "markdown",
      "metadata": {
        "id": "LLRjJab91t1Q"
      },
      "source": [
        "### Fancy indexing (Masking)\n",
        "\\\n",
        "\n",
        "\n",
        "#### What would happen if we do this?\n"
      ]
    },
    {
      "cell_type": "code",
      "execution_count": null,
      "metadata": {
        "colab": {
          "base_uri": "https://localhost:8080/"
        },
        "id": "wL342uLc1t1R",
        "outputId": "0548f00a-3859-4ce7-f38b-5129d014fbb3"
      },
      "outputs": [
        {
          "output_type": "execute_result",
          "data": {
            "text/plain": [
              "array([[ True,  True,  True,  True],\n",
              "       [ True,  True, False, False],\n",
              "       [False, False, False, False]])"
            ]
          },
          "metadata": {},
          "execution_count": 43
        }
      ],
      "source": [
        "m1 = np.arange(12).reshape(3, 4)\n",
        "m1 < 6"
      ]
    },
    {
      "cell_type": "markdown",
      "metadata": {
        "id": "HuYJozTm1t1S"
      },
      "source": [
        "\n",
        "- A **matrix having boolean values** `True` and `False` is returned\n",
        "\n",
        "\n",
        "\n",
        "- **We can use this boolean matrix to filter our array**\n",
        "\n",
        "\n",
        "#### Now, Let's use this to filter or mask values from our array\n",
        "\n",
        "- **Condition will be passed instead of indices and slice ranges**"
      ]
    },
    {
      "cell_type": "code",
      "execution_count": null,
      "metadata": {
        "colab": {
          "base_uri": "https://localhost:8080/"
        },
        "id": "PDUvM1fK1t1T",
        "outputId": "755dfe56-a1f3-445b-fff1-b178053ada2d"
      },
      "outputs": [
        {
          "output_type": "execute_result",
          "data": {
            "text/plain": [
              "array([0, 1, 2, 3, 4, 5])"
            ]
          },
          "metadata": {},
          "execution_count": 44
        }
      ],
      "source": [
        "m1[m1 < 6]\n",
        "# Value corresponding to True is retained\n",
        "# Value corresponding to False is filtered out"
      ]
    },
    {
      "cell_type": "markdown",
      "metadata": {
        "id": "4P71g9MR1t1U"
      },
      "source": [
        "\n",
        "\n",
        "\n",
        "#### How can we filter/mask even values from our array?"
      ]
    },
    {
      "cell_type": "code",
      "execution_count": null,
      "metadata": {
        "colab": {
          "base_uri": "https://localhost:8080/"
        },
        "id": "85R2zaRa1t1U",
        "outputId": "1b602e51-063f-4a87-9f9a-a082a664d0fa"
      },
      "outputs": [
        {
          "output_type": "execute_result",
          "data": {
            "text/plain": [
              "array([ 0,  2,  4,  6,  8, 10])"
            ]
          },
          "metadata": {},
          "execution_count": 45
        }
      ],
      "source": [
        "m1[m1%2 == 0]"
      ]
    },
    {
      "cell_type": "markdown",
      "metadata": {
        "id": "zRyIQixg1t1V"
      },
      "source": [
        "#### But did you notice that matrix gets converted into a 1D array after masking?"
      ]
    },
    {
      "cell_type": "code",
      "execution_count": null,
      "metadata": {
        "colab": {
          "base_uri": "https://localhost:8080/"
        },
        "id": "WAxuVVKw1t1W",
        "outputId": "813194ff-b4c2-4900-d18d-c312034ee83a"
      },
      "outputs": [
        {
          "output_type": "execute_result",
          "data": {
            "text/plain": [
              "array([[ 0,  1,  2,  3],\n",
              "       [ 4,  5,  6,  7],\n",
              "       [ 8,  9, 10, 11]])"
            ]
          },
          "metadata": {},
          "execution_count": 46
        }
      ],
      "source": [
        "m1"
      ]
    },
    {
      "cell_type": "code",
      "execution_count": null,
      "metadata": {
        "colab": {
          "base_uri": "https://localhost:8080/"
        },
        "id": "5iKTc4QQ1t1W",
        "outputId": "3da4eb18-97bf-4fe8-e0f9-245096bf7298"
      },
      "outputs": [
        {
          "output_type": "execute_result",
          "data": {
            "text/plain": [
              "array([ 0,  2,  4,  6,  8, 10])"
            ]
          },
          "metadata": {},
          "execution_count": 47
        }
      ],
      "source": [
        "m1[m1%2 == 0]"
      ]
    },
    {
      "cell_type": "markdown",
      "metadata": {
        "id": "VEGOlcZO1t1X"
      },
      "source": [
        "#### It happens because\n",
        "\n",
        "- To retain matrix shape, it **has to retain all the elements**\n",
        "- It **cannot retain its $3\\times4$ with lesser number of elements**\n",
        "- So, this filtering operation **implicitly converts high-dimensional array into 1D array**\n",
        "\n",
        "\n",
        "#### If we want, we can reshape the resulting 1D array into 2D\n",
        "\n",
        "- But, we need to know **beforehand** what is the **dimension or number of elements** in resulting 1D array"
      ]
    },
    {
      "cell_type": "code",
      "execution_count": null,
      "metadata": {
        "colab": {
          "base_uri": "https://localhost:8080/"
        },
        "id": "B7_G_gps1t1Y",
        "outputId": "62a31193-8d27-43f6-d625-4ba124d2483c"
      },
      "outputs": [
        {
          "output_type": "execute_result",
          "data": {
            "text/plain": [
              "(6,)"
            ]
          },
          "metadata": {},
          "execution_count": 48
        }
      ],
      "source": [
        "m1[m1%2==0].shape"
      ]
    },
    {
      "cell_type": "code",
      "execution_count": null,
      "metadata": {
        "colab": {
          "base_uri": "https://localhost:8080/"
        },
        "id": "Ijx90pIq1t1Y",
        "outputId": "e51b41e0-8a8a-4b99-d030-4a77372b7043"
      },
      "outputs": [
        {
          "output_type": "execute_result",
          "data": {
            "text/plain": [
              "array([[ 0,  2,  4],\n",
              "       [ 6,  8, 10]])"
            ]
          },
          "metadata": {},
          "execution_count": 49
        }
      ],
      "source": [
        "m1[m1%2==0].reshape(2, 3)"
      ]
    },
    {
      "cell_type": "markdown",
      "metadata": {
        "id": "10f4f980"
      },
      "source": [
        "## Universal Functions (`ufunc`) on 2D & Axis"
      ]
    },
    {
      "cell_type": "markdown",
      "metadata": {
        "id": "TLEfnDyRj-U-"
      },
      "source": [
        "### Aggregate Functions/ Reduction functions"
      ]
    },
    {
      "cell_type": "markdown",
      "metadata": {
        "id": "36d2c4c6"
      },
      "source": [
        "We saw how aggregate functions work on 1D array in last class\n",
        "\n"
      ]
    },
    {
      "cell_type": "code",
      "source": [
        "arr = np.arange(3)\n",
        "arr"
      ],
      "metadata": {
        "colab": {
          "base_uri": "https://localhost:8080/"
        },
        "id": "OkvDrdo_KUJ0",
        "outputId": "02b6027e-47cc-4332-9b4a-ff86f6c3720a"
      },
      "execution_count": null,
      "outputs": [
        {
          "output_type": "execute_result",
          "data": {
            "text/plain": [
              "array([0, 1, 2])"
            ]
          },
          "metadata": {},
          "execution_count": 50
        }
      ]
    },
    {
      "cell_type": "code",
      "source": [
        "arr.sum()"
      ],
      "metadata": {
        "colab": {
          "base_uri": "https://localhost:8080/"
        },
        "id": "LLG8bWzjKWtX",
        "outputId": "3370b2fe-aafe-4e7e-bbe8-df6d0ef5f8f5"
      },
      "execution_count": null,
      "outputs": [
        {
          "output_type": "execute_result",
          "data": {
            "text/plain": [
              "3"
            ]
          },
          "metadata": {},
          "execution_count": 51
        }
      ]
    },
    {
      "cell_type": "markdown",
      "source": [
        "#### Let's apply Aggregate functions on 2D array\n",
        "\n",
        "### `np.sum()`"
      ],
      "metadata": {
        "id": "R1mXgmx8KTYb"
      }
    },
    {
      "cell_type": "code",
      "execution_count": null,
      "metadata": {
        "colab": {
          "base_uri": "https://localhost:8080/"
        },
        "id": "cabc7e1f",
        "outputId": "04c0de44-2da1-4288-ee83-03de1c70846e"
      },
      "outputs": [
        {
          "output_type": "execute_result",
          "data": {
            "text/plain": [
              "array([[ 0,  1,  2,  3],\n",
              "       [ 4,  5,  6,  7],\n",
              "       [ 8,  9, 10, 11]])"
            ]
          },
          "metadata": {},
          "execution_count": 52
        }
      ],
      "source": [
        "a = np.arange(12).reshape(3, 4)\n",
        "a"
      ]
    },
    {
      "cell_type": "code",
      "execution_count": null,
      "metadata": {
        "id": "26ff89b9",
        "outputId": "324b75ae-e441-49ef-8145-bbf6551319a7",
        "colab": {
          "base_uri": "https://localhost:8080/"
        }
      },
      "outputs": [
        {
          "output_type": "execute_result",
          "data": {
            "text/plain": [
              "66"
            ]
          },
          "metadata": {},
          "execution_count": 53
        }
      ],
      "source": [
        "np.sum(a)  # sums all the values present in array"
      ]
    },
    {
      "cell_type": "markdown",
      "metadata": {
        "id": "1955d7d4"
      },
      "source": [
        "#### What if we want to do the elements row-wise or column-wise?\n",
        "\n",
        "- By **setting `axis` parameter**\n",
        "\n",
        "#### What will `np.sum(a, axis=0)` do?\n",
        "\n",
        "- **`np.sum(a, axis=0)` adds together values in DIFFERENT rows**\n",
        "- **`axis = 0` ---> Changes will happen along the vertical axis**\n",
        "- Summing of values happen **in the vertical direction**\n",
        "- Rows collapse/merge when we do `axis=0`\n"
      ]
    },
    {
      "cell_type": "code",
      "execution_count": null,
      "metadata": {
        "id": "a87cc8db",
        "outputId": "c8f25213-dae9-467f-d981-2e0c71218ca6",
        "colab": {
          "base_uri": "https://localhost:8080/"
        }
      },
      "outputs": [
        {
          "output_type": "execute_result",
          "data": {
            "text/plain": [
              "array([12, 15, 18, 21])"
            ]
          },
          "metadata": {},
          "execution_count": 54
        }
      ],
      "source": [
        "np.sum(a, )"
      ]
    },
    {
      "cell_type": "markdown",
      "metadata": {
        "id": "e518c042"
      },
      "source": [
        "#### Now, What if we specify `axis=1`?\n",
        "\n",
        "- **`np.sum(a, axis=1)` adds together values in DIFFERENT columns**\n",
        "- **`axis = 1` ---> Changes will happen along the horizontal axis**\n",
        "- Summing of values happen **in the horizontal direction**\n",
        "- Columns collapse/merge when we do `axis=1`"
      ]
    },
    {
      "cell_type": "code",
      "execution_count": null,
      "metadata": {
        "id": "8d7587cb",
        "outputId": "01ec460b-8a1d-4c5b-da20-c54de37938ae",
        "colab": {
          "base_uri": "https://localhost:8080/"
        }
      },
      "outputs": [
        {
          "output_type": "execute_result",
          "data": {
            "text/plain": [
              "array([ 6, 22, 38])"
            ]
          },
          "metadata": {},
          "execution_count": 55
        }
      ],
      "source": [
        "np.sum(a, axis=1)"
      ]
    },
    {
      "cell_type": "markdown",
      "metadata": {
        "id": "d4638723"
      },
      "source": [
        "***"
      ]
    },
    {
      "cell_type": "markdown",
      "metadata": {
        "id": "80fcf497"
      },
      "source": [
        "#### Now, What if we want to find the average value or median value of all the elements in an array?"
      ]
    },
    {
      "cell_type": "code",
      "execution_count": null,
      "metadata": {
        "id": "225a1264",
        "outputId": "31032be1-1b23-461c-8df2-f2aa3abe7838",
        "colab": {
          "base_uri": "https://localhost:8080/"
        }
      },
      "outputs": [
        {
          "output_type": "execute_result",
          "data": {
            "text/plain": [
              "5.5"
            ]
          },
          "metadata": {},
          "execution_count": 56
        }
      ],
      "source": [
        "np.mean(a) # no need to give any axis"
      ]
    },
    {
      "cell_type": "markdown",
      "metadata": {
        "id": "827e7509"
      },
      "source": [
        "#### What if we want to find the mean of elements in each row or in each column?\n",
        "\n",
        "- We can do **same thing with `axis` parameter** like we did for `np.sum()` function\n",
        "\n",
        "\n",
        "#### Question: Now you tell What will `np.mean(a, axis=0)` give?\n",
        "\n",
        "- It will give **mean of values in DIFFERENT rows**\n",
        "- **`axis = 0` ---> Changes will happen along the vertical axis**\n",
        "- Mean of values will be calculated **in the vertical direction**\n",
        "- Rows collapse/merge when we do `axis=0`"
      ]
    },
    {
      "cell_type": "code",
      "execution_count": null,
      "metadata": {
        "id": "0acf241c",
        "outputId": "8bf6a784-7379-428b-a881-d4ffca15a3c4",
        "colab": {
          "base_uri": "https://localhost:8080/"
        }
      },
      "outputs": [
        {
          "output_type": "execute_result",
          "data": {
            "text/plain": [
              "array([4., 5., 6., 7.])"
            ]
          },
          "metadata": {},
          "execution_count": 57
        }
      ],
      "source": [
        "np.mean(a, axis=0)"
      ]
    },
    {
      "cell_type": "markdown",
      "metadata": {
        "id": "17bbc4ee"
      },
      "source": [
        "#### How can we get mean of elements in each column?\n",
        "\n",
        "- **`np.mean(a, axis=1)` will give mean of values in DIFFERENT columns**\n",
        "- **`axis = 1` ---> Changes will happen along the horizontal axis**\n",
        "- Mean of values will be calculated **in the horizontal direction**\n",
        "- Columns collapse/merge when we do `axis=1`"
      ]
    },
    {
      "cell_type": "code",
      "execution_count": null,
      "metadata": {
        "id": "ff4a128a",
        "outputId": "3f613da7-b0e2-40c6-93d7-d4328b4cc9e2",
        "colab": {
          "base_uri": "https://localhost:8080/"
        }
      },
      "outputs": [
        {
          "output_type": "execute_result",
          "data": {
            "text/plain": [
              "array([1.5, 5.5, 9.5])"
            ]
          },
          "metadata": {},
          "execution_count": 58
        }
      ],
      "source": [
        "np.mean(a, axis=1)"
      ]
    },
    {
      "cell_type": "markdown",
      "metadata": {
        "id": "8iQNMU2JoLk4"
      },
      "source": [
        "#### Now, we want to find the minimum value in the array\n",
        "\n",
        "**`np.min()` function can help us with this**"
      ]
    },
    {
      "cell_type": "code",
      "execution_count": null,
      "metadata": {
        "colab": {
          "base_uri": "https://localhost:8080/"
        },
        "id": "avQYEZ80oz_B",
        "outputId": "43202b3b-df1e-477b-c70b-636fc1a1a043"
      },
      "outputs": [
        {
          "output_type": "execute_result",
          "data": {
            "text/plain": [
              "array([[ 0,  1,  2,  3],\n",
              "       [ 4,  5,  6,  7],\n",
              "       [ 8,  9, 10, 11]])"
            ]
          },
          "metadata": {},
          "execution_count": 59
        }
      ],
      "source": [
        "a"
      ]
    },
    {
      "cell_type": "code",
      "execution_count": null,
      "metadata": {
        "colab": {
          "base_uri": "https://localhost:8080/"
        },
        "id": "4ZiYTSAHox4e",
        "outputId": "e014a713-3ffe-4adf-b072-2eb64c6a2936"
      },
      "outputs": [
        {
          "output_type": "execute_result",
          "data": {
            "text/plain": [
              "0"
            ]
          },
          "metadata": {},
          "execution_count": 60
        }
      ],
      "source": [
        "np.min(a)"
      ]
    },
    {
      "cell_type": "markdown",
      "metadata": {
        "id": "j_hB6SxOo1W6"
      },
      "source": [
        "#### What if we want to find row wise minimum value?\n",
        "\n",
        "### Use `axis` argument!!"
      ]
    },
    {
      "cell_type": "code",
      "execution_count": null,
      "metadata": {
        "colab": {
          "base_uri": "https://localhost:8080/"
        },
        "id": "xH_pwMfrpBxm",
        "outputId": "362065a5-505b-432b-ecbb-db87024a4c35"
      },
      "outputs": [
        {
          "output_type": "execute_result",
          "data": {
            "text/plain": [
              "array([0, 4, 8])"
            ]
          },
          "metadata": {},
          "execution_count": 61
        }
      ],
      "source": [
        "np.min(a, axis = 1 )"
      ]
    },
    {
      "cell_type": "markdown",
      "metadata": {
        "id": "9gkV6NvQpF0M"
      },
      "source": [
        "#### We can also find max elements in an array.\n",
        "\n",
        "**`np.max()`** function will give us *maximum value in the array*\n",
        "\n",
        "We can also use `axis` argument to find row wise/ column wise max."
      ]
    },
    {
      "cell_type": "code",
      "execution_count": null,
      "metadata": {
        "colab": {
          "base_uri": "https://localhost:8080/"
        },
        "id": "ftQ26kYVpeQd",
        "outputId": "0f18ef82-8669-463a-b377-d220698b6124"
      },
      "outputs": [
        {
          "output_type": "execute_result",
          "data": {
            "text/plain": [
              "array([[ 0,  1,  2,  3],\n",
              "       [ 4,  5,  6,  7],\n",
              "       [ 8,  9, 10, 11]])"
            ]
          },
          "metadata": {},
          "execution_count": 62
        }
      ],
      "source": [
        "a"
      ]
    },
    {
      "cell_type": "code",
      "execution_count": null,
      "metadata": {
        "colab": {
          "base_uri": "https://localhost:8080/"
        },
        "id": "rX-Cnu_qpeuC",
        "outputId": "0b13c641-6228-40cd-c5e7-c180ef39854e"
      },
      "outputs": [
        {
          "output_type": "execute_result",
          "data": {
            "text/plain": [
              "11"
            ]
          },
          "metadata": {},
          "execution_count": 63
        }
      ],
      "source": [
        "np.max(a) # maximum value"
      ]
    },
    {
      "cell_type": "code",
      "execution_count": null,
      "metadata": {
        "colab": {
          "base_uri": "https://localhost:8080/"
        },
        "id": "OxB4VfOlpm4e",
        "outputId": "e191e734-2687-45cd-b5d1-e2b03c3ad8cc"
      },
      "outputs": [
        {
          "output_type": "execute_result",
          "data": {
            "text/plain": [
              "array([ 8,  9, 10, 11])"
            ]
          },
          "metadata": {},
          "execution_count": 64
        }
      ],
      "source": [
        "np.max(a, axis = 0) # column wise max"
      ]
    },
    {
      "cell_type": "markdown",
      "metadata": {
        "id": "-MF-4wwN1t2M"
      },
      "source": [
        "### Sorting Arrays\n",
        "\n",
        "- We can also sort the elements of an array along a given specified axis\n",
        "\n",
        "\n",
        "- Default axis is the last axis of the array.\n",
        "\n"
      ]
    },
    {
      "cell_type": "markdown",
      "metadata": {
        "id": "YSF_gtljld6Y"
      },
      "source": [
        "#### `np.sort()`\n",
        "\n"
      ]
    },
    {
      "cell_type": "code",
      "execution_count": null,
      "metadata": {
        "colab": {
          "base_uri": "https://localhost:8080/"
        },
        "outputId": "73c1f64e-5a58-427d-ed5d-15bf851bda00",
        "id": "EvUSr0pN93Hd"
      },
      "outputs": [
        {
          "output_type": "execute_result",
          "data": {
            "text/plain": [
              "array([ 2, 30, 41,  7, 17, 52])"
            ]
          },
          "metadata": {},
          "execution_count": 81
        }
      ],
      "source": [
        "a = np.array([2,30,41,7,17,52])\n",
        "a"
      ]
    },
    {
      "cell_type": "code",
      "execution_count": null,
      "metadata": {
        "colab": {
          "base_uri": "https://localhost:8080/"
        },
        "id": "PGNbnZJo1t2N",
        "outputId": "889f6bf3-17f6-48ba-c570-9427ce2be1b7"
      },
      "outputs": [
        {
          "output_type": "execute_result",
          "data": {
            "text/plain": [
              "array([ 2,  7, 17, 30, 41, 52])"
            ]
          },
          "metadata": {},
          "execution_count": 82
        }
      ],
      "source": [
        "np.sort(a)"
      ]
    },
    {
      "cell_type": "code",
      "execution_count": null,
      "metadata": {
        "colab": {
          "base_uri": "https://localhost:8080/"
        },
        "outputId": "5229b97a-1b40-4219-99df-3d38a681ad1e",
        "id": "G3gVexiT93He"
      },
      "outputs": [
        {
          "output_type": "execute_result",
          "data": {
            "text/plain": [
              "array([ 2, 30, 41,  7, 17, 52])"
            ]
          },
          "metadata": {},
          "execution_count": 83
        }
      ],
      "source": [
        "a"
      ]
    },
    {
      "cell_type": "markdown",
      "source": [
        "Let's work with 2D array"
      ],
      "metadata": {
        "id": "rRx6Wn5996j3"
      }
    },
    {
      "cell_type": "code",
      "execution_count": null,
      "metadata": {
        "colab": {
          "base_uri": "https://localhost:8080/"
        },
        "id": "GuKoxj3l1t2N",
        "outputId": "e1ab4114-d1dc-476f-9364-2dede1e68330"
      },
      "outputs": [
        {
          "output_type": "execute_result",
          "data": {
            "text/plain": [
              "array([[9, 8, 7],\n",
              "       [6, 5, 4],\n",
              "       [3, 2, 1]])"
            ]
          },
          "metadata": {},
          "execution_count": 84
        }
      ],
      "source": [
        "a = np.arange(9,0,-1).reshape(3,3)\n",
        "a"
      ]
    },
    {
      "cell_type": "markdown",
      "source": [
        "#### Question: What will be the result when we sort using axis = 0 ?"
      ],
      "metadata": {
        "id": "7GA7bUXUofHz"
      }
    },
    {
      "cell_type": "code",
      "source": [
        "np.sort(a, axis = 0)"
      ],
      "metadata": {
        "colab": {
          "base_uri": "https://localhost:8080/"
        },
        "id": "LvsneXGFoc54",
        "outputId": "8e75d3d2-bc38-48d1-b4e1-73da06b591be"
      },
      "execution_count": null,
      "outputs": [
        {
          "output_type": "execute_result",
          "data": {
            "text/plain": [
              "array([[3, 2, 1],\n",
              "       [6, 5, 4],\n",
              "       [9, 8, 7]])"
            ]
          },
          "metadata": {},
          "execution_count": 85
        }
      ]
    },
    {
      "cell_type": "markdown",
      "source": [
        "Recall that when axis =0\n",
        "- change will happen along vertical axis.\n",
        "\n",
        "Hence, it will sort out row wise."
      ],
      "metadata": {
        "id": "1P3phff-pNf3"
      }
    },
    {
      "cell_type": "code",
      "execution_count": null,
      "metadata": {
        "colab": {
          "base_uri": "https://localhost:8080/"
        },
        "id": "XH1882q31t2N",
        "outputId": "21dca427-1f06-416b-88c5-e1f91f405596"
      },
      "outputs": [
        {
          "output_type": "execute_result",
          "data": {
            "text/plain": [
              "array([[9, 8, 7],\n",
              "       [6, 5, 4],\n",
              "       [3, 2, 1]])"
            ]
          },
          "metadata": {},
          "execution_count": 86
        }
      ],
      "source": [
        "a"
      ]
    },
    {
      "cell_type": "markdown",
      "metadata": {
        "id": "vSKyZw531t2O"
      },
      "source": [
        "- Original array is still the same. It hasn't changed"
      ]
    },
    {
      "cell_type": "markdown",
      "metadata": {
        "id": "kEXv8eys1t2P"
      },
      "source": [
        "#### `np.argsort()`\n",
        "\n",
        "- Returns the **indices** that would sort an array.\n",
        "\n",
        "- Performs an indirect sort along the given axis.\n",
        "\n",
        "- It returns **an array of indices of the same shape as a that index data along the given axis in sorted order**."
      ]
    },
    {
      "cell_type": "code",
      "execution_count": null,
      "metadata": {
        "colab": {
          "base_uri": "https://localhost:8080/"
        },
        "id": "C0ug7PZr1t2Q",
        "outputId": "c7514a77-584f-493f-9362-03f4311d7750"
      },
      "outputs": [
        {
          "output_type": "execute_result",
          "data": {
            "text/plain": [
              "array([ 2, 30, 41,  7, 17, 52])"
            ]
          },
          "metadata": {},
          "execution_count": 89
        }
      ],
      "source": [
        "a = np.array([2,30,41,7,17,52])\n",
        "a"
      ]
    },
    {
      "cell_type": "code",
      "execution_count": null,
      "metadata": {
        "colab": {
          "base_uri": "https://localhost:8080/"
        },
        "id": "fGTmT54X1t2Q",
        "outputId": "5f94f64e-b2f8-4e06-b270-28aba72e3bb8"
      },
      "outputs": [
        {
          "output_type": "execute_result",
          "data": {
            "text/plain": [
              "array([0, 3, 4, 1, 2, 5])"
            ]
          },
          "metadata": {},
          "execution_count": 90
        }
      ],
      "source": [
        "np.argsort(a)"
      ]
    },
    {
      "cell_type": "markdown",
      "metadata": {
        "id": "-epWX252HUB8"
      },
      "source": [
        "#### As you can see:\n",
        "\n",
        "- The orginal indices of elements are in same order as the orginal elements would be in sorted order"
      ]
    }
  ]
}
